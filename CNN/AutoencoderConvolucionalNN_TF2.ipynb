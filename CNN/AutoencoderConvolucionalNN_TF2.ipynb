{
  "nbformat": 4,
  "nbformat_minor": 0,
  "metadata": {
    "colab": {
      "name": "AutoencoderConvolucionalNN_TF2.ipynb",
      "provenance": []
    },
    "kernelspec": {
      "name": "python3",
      "display_name": "Python 3"
    },
    "accelerator": "GPU"
  },
  "cells": [
    {
      "cell_type": "code",
      "metadata": {
        "id": "D17zjJSMBBXf",
        "colab_type": "code",
        "colab": {}
      },
      "source": [
        "%tensorflow_version 2.x"
      ],
      "execution_count": 0,
      "outputs": []
    },
    {
      "cell_type": "code",
      "metadata": {
        "id": "AFCFzafkBLp7",
        "colab_type": "code",
        "colab": {}
      },
      "source": [
        "import tensorflow as tf\n",
        "import numpy as np\n",
        "import matplotlib.pyplot as plt\n",
        "from sklearn.preprocessing import OneHotEncoder\n",
        "%matplotlib inline"
      ],
      "execution_count": 0,
      "outputs": []
    },
    {
      "cell_type": "code",
      "metadata": {
        "id": "7h5V3NrLBRQl",
        "colab_type": "code",
        "outputId": "3b6e26dd-121a-42a1-fd87-effec3a566af",
        "colab": {
          "base_uri": "https://localhost:8080/",
          "height": 51
        }
      },
      "source": [
        "mnist = tf.keras.datasets.mnist\n",
        "\n",
        "(x_train, y_train), (x_test, y_test) = mnist.load_data( )"
      ],
      "execution_count": 3,
      "outputs": [
        {
          "output_type": "stream",
          "text": [
            "Downloading data from https://storage.googleapis.com/tensorflow/tf-keras-datasets/mnist.npz\n",
            "11493376/11490434 [==============================] - 0s 0us/step\n"
          ],
          "name": "stdout"
        }
      ]
    },
    {
      "cell_type": "code",
      "metadata": {
        "id": "nSOcJqM9DTuU",
        "colab_type": "code",
        "outputId": "b19c98d6-aada-49f7-aa2b-c54c9d81a118",
        "colab": {
          "base_uri": "https://localhost:8080/",
          "height": 34
        }
      },
      "source": [
        "y_train.shape"
      ],
      "execution_count": 4,
      "outputs": [
        {
          "output_type": "execute_result",
          "data": {
            "text/plain": [
              "(60000,)"
            ]
          },
          "metadata": {
            "tags": []
          },
          "execution_count": 4
        }
      ]
    },
    {
      "cell_type": "code",
      "metadata": {
        "id": "64HZIYwiDbDU",
        "colab_type": "code",
        "outputId": "b80d3c44-d193-4101-df6b-f00bdb5abe18",
        "colab": {
          "base_uri": "https://localhost:8080/",
          "height": 34
        }
      },
      "source": [
        "x_train.shape"
      ],
      "execution_count": 5,
      "outputs": [
        {
          "output_type": "execute_result",
          "data": {
            "text/plain": [
              "(60000, 28, 28)"
            ]
          },
          "metadata": {
            "tags": []
          },
          "execution_count": 5
        }
      ]
    },
    {
      "cell_type": "code",
      "metadata": {
        "id": "odhp342nDc1S",
        "colab_type": "code",
        "outputId": "3ee20b38-7e8e-4867-e68b-1774e74888cb",
        "colab": {
          "base_uri": "https://localhost:8080/",
          "height": 34
        }
      },
      "source": [
        "y_train[0]"
      ],
      "execution_count": 6,
      "outputs": [
        {
          "output_type": "execute_result",
          "data": {
            "text/plain": [
              "5"
            ]
          },
          "metadata": {
            "tags": []
          },
          "execution_count": 6
        }
      ]
    },
    {
      "cell_type": "code",
      "metadata": {
        "id": "CYUODJiXDeyq",
        "colab_type": "code",
        "outputId": "2b3c5e84-e42e-492e-bd75-3cda401cfff5",
        "colab": {
          "base_uri": "https://localhost:8080/",
          "height": 282
        }
      },
      "source": [
        "imagendemo=x_train[0]\n",
        "plt.imshow(imagendemo,cmap='gray')"
      ],
      "execution_count": 7,
      "outputs": [
        {
          "output_type": "execute_result",
          "data": {
            "text/plain": [
              "<matplotlib.image.AxesImage at 0x7f2d92d296a0>"
            ]
          },
          "metadata": {
            "tags": []
          },
          "execution_count": 7
        },
        {
          "output_type": "display_data",
          "data": {
            "image/png": "[encoded data removed]",
            "text/plain": [
              "<Figure size 432x288 with 1 Axes>"
            ]
          },
          "metadata": {
            "tags": [],
            "needs_background": "light"
          }
        }
      ]
    },
    {
      "cell_type": "code",
      "metadata": {
        "id": "X9G11ylqDlDi",
        "colab_type": "code",
        "outputId": "6457e108-f929-4e33-c37e-e252ee0a2c6d",
        "colab": {
          "base_uri": "https://localhost:8080/",
          "height": 34
        }
      },
      "source": [
        "onehot_encoder = OneHotEncoder(sparse=False)\n",
        "y_train = y_train.reshape(len(y_train), 1)\n",
        "y_train_onehot = onehot_encoder.fit_transform(y_train)\n",
        "\n",
        "y_test = y_test.reshape(len(y_test), 1)\n",
        "y_test_onehot = onehot_encoder.fit_transform(y_test)\n",
        "\n",
        "y_train_onehot.shape"
      ],
      "execution_count": 8,
      "outputs": [
        {
          "output_type": "execute_result",
          "data": {
            "text/plain": [
              "(60000, 10)"
            ]
          },
          "metadata": {
            "tags": []
          },
          "execution_count": 8
        }
      ]
    },
    {
      "cell_type": "markdown",
      "metadata": {
        "id": "f1JUpcIwFe6Y",
        "colab_type": "text"
      },
      "source": [
        "# Declarando la arquitectura\n"
      ]
    },
    {
      "cell_type": "code",
      "metadata": {
        "id": "b6NpPnF9Fm49",
        "colab_type": "code",
        "colab": {}
      },
      "source": [
        "class DNN_model(object):\n",
        "  def __init__(self,\n",
        "               n_classes=10):\n",
        "    self.C1LW = tf.Variable(np.random.rand(5,5,1,32),name=\"hl1weigths\",dtype=\"float32\")\n",
        "    self.C1LB = tf.Variable(np.random.rand(32),name=\"hl1bias\",dtype=\"float32\")\n",
        "    self.C2LW = tf.Variable(np.random.rand(5,5,32,64),name=\"hl2weigths\",dtype=\"float32\")\n",
        "    self.C2LB = tf.Variable(np.random.rand(64),name=\"hl2bias\",dtype=\"float32\")\n",
        "    self.D1LW = tf.Variable(np.random.rand(5,5,32,64),name=\"hl1weigths\",dtype=\"float32\")\n",
        "    self.D1LB = tf.Variable(np.random.rand(32),name=\"hl1bias\",dtype=\"float32\")\n",
        "    self.D2LW = tf.Variable(np.random.rand(5,5,1,32),name=\"hl2weigths\",dtype=\"float32\")\n",
        "    self.D2LB = tf.Variable(np.random.rand(1),name=\"hl2bias\",dtype=\"float32\")\n",
        "    self.trainable_variables =[self.C1LW,self.C1LB,self.C2LW,self.C2LB,self.D1LW,self.D1LB,self.D2LW,self.D2LB]          \n",
        "  def __call__(self,x,Batch): \n",
        "\n",
        "      # Declarando la arquitectura\n",
        "      x  = tf.cast(x, tf.float32)\n",
        "      img = tf.reshape(x, shape=[-1, 28, 28, 1])\n",
        "\n",
        "      C1= tf.nn.conv2d(img,self.C1LW, strides=[1,2,2,1], padding='SAME')  \n",
        "      C1 = tf.add(C1, self.C1LB)\n",
        "      C1 = tf.nn.relu(C1)\n",
        "      #14*14*32\n",
        "\n",
        "      C2= tf.nn.conv2d(C1,self.C2LW, strides=[1,2,2,1], padding='SAME')  \n",
        "      C2 = tf.add(C2, self.C2LB)\n",
        "      C2 = tf.nn.relu(C2)\n",
        "      #7*7*64\n",
        "      \n",
        "      D1= tf.nn.conv2d_transpose(C2,self.D1LW, tf.constant([Batch,14,14,32]),strides=[1,2,2,1],padding='SAME')  \n",
        "      D1 = tf.add(D1, self.D1LB)\n",
        "      D1 = tf.nn.relu(D1)\n",
        "      #imagen resultante de 14x14x32\n",
        "      D2= tf.nn.conv2d_transpose(D1,self.D2LW, tf.constant([Batch,28,28,1]),strides=[1,2,2,1],padding='SAME')  \n",
        "      D2 = tf.add(D2, self.D2LB)\n",
        "      D2 = tf.nn.relu(D2)\n",
        "      #imagen resultante de 28x28x1\n",
        "\n",
        "      \n",
        "      return D2\n",
        "  "
      ],
      "execution_count": 0,
      "outputs": []
    },
    {
      "cell_type": "code",
      "metadata": {
        "id": "B77Ru-lyE8nz",
        "colab_type": "code",
        "outputId": "fe578b56-91fd-44ab-df6f-e536613ca8c6",
        "colab": {
          "base_uri": "https://localhost:8080/",
          "height": 1000
        }
      },
      "source": [
        "DNN = DNN_model()\n",
        "DNN(x_train[24:30],6)"
      ],
      "execution_count": 54,
      "outputs": [
        {
          "output_type": "execute_result",
          "data": {
            "text/plain": [
              "<tf.Tensor: shape=(6, 28, 28, 1), dtype=float32, numpy=\n",
              "array([[[[6.69822031e+04],\n",
              "         [1.90612188e+06],\n",
              "         [2.16190350e+06],\n",
              "         ...,\n",
              "         [1.18249008e+08],\n",
              "         [1.58319230e+07],\n",
              "         [1.73416900e+07]],\n",
              "\n",
              "        [[7.43573900e+06],\n",
              "         [5.12126600e+07],\n",
              "         [5.87481320e+07],\n",
              "         ...,\n",
              "         [3.87830144e+08],\n",
              "         [5.72875040e+07],\n",
              "         [5.63109280e+07]],\n",
              "\n",
              "        [[8.11829800e+06],\n",
              "         [5.47801880e+07],\n",
              "         [6.09144680e+07],\n",
              "         ...,\n",
              "         [4.05377472e+08],\n",
              "         [5.33489120e+07],\n",
              "         [5.71193920e+07]],\n",
              "\n",
              "        ...,\n",
              "\n",
              "        [[1.37194656e+08],\n",
              "         [6.67756288e+08],\n",
              "         [6.72148416e+08],\n",
              "         ...,\n",
              "         [7.37392512e+08],\n",
              "         [2.53317312e+08],\n",
              "         [2.67334928e+08]],\n",
              "\n",
              "        [[7.43455680e+07],\n",
              "         [3.33959488e+08],\n",
              "         [3.41877056e+08],\n",
              "         ...,\n",
              "         [2.98522336e+08],\n",
              "         [1.05901760e+08],\n",
              "         [1.11523168e+08]],\n",
              "\n",
              "        [[7.29121760e+07],\n",
              "         [3.40942848e+08],\n",
              "         [3.45584832e+08],\n",
              "         ...,\n",
              "         [3.16331136e+08],\n",
              "         [1.10537696e+08],\n",
              "         [1.20252296e+08]]],\n",
              "\n",
              "\n",
              "       [[[1.19670550e+07],\n",
              "         [8.18758800e+07],\n",
              "         [9.06221760e+07],\n",
              "         ...,\n",
              "         [3.76496128e+08],\n",
              "         [1.31992848e+08],\n",
              "         [1.44587584e+08]],\n",
              "\n",
              "        [[3.96894200e+07],\n",
              "         [2.56055552e+08],\n",
              "         [2.97156128e+08],\n",
              "         ...,\n",
              "         [1.37235917e+09],\n",
              "         [5.75902080e+08],\n",
              "         [5.62037056e+08]],\n",
              "\n",
              "        [[4.16596920e+07],\n",
              "         [2.84818752e+08],\n",
              "         [3.03455392e+08],\n",
              "         ...,\n",
              "         [1.43826931e+09],\n",
              "         [5.32753376e+08],\n",
              "         [5.74148800e+08]],\n",
              "\n",
              "        ...,\n",
              "\n",
              "        [[2.15578864e+08],\n",
              "         [1.20898458e+09],\n",
              "         [1.20712397e+09],\n",
              "         ...,\n",
              "         [2.31045811e+09],\n",
              "         [9.51301504e+08],\n",
              "         [1.00212755e+09]],\n",
              "\n",
              "        [[1.05709720e+08],\n",
              "         [5.54701952e+08],\n",
              "         [5.70266880e+08],\n",
              "         ...,\n",
              "         [1.06419622e+09],\n",
              "         [4.29354496e+08],\n",
              "         [4.52007296e+08]],\n",
              "\n",
              "        [[1.03530704e+08],\n",
              "         [5.64760512e+08],\n",
              "         [5.74909376e+08],\n",
              "         ...,\n",
              "         [1.12906010e+09],\n",
              "         [4.47567552e+08],\n",
              "         [4.87526304e+08]]],\n",
              "\n",
              "\n",
              "       [[[1.02348994e+06],\n",
              "         [9.41295600e+06],\n",
              "         [1.05078870e+07],\n",
              "         ...,\n",
              "         [5.26177200e+07],\n",
              "         [1.69156080e+07],\n",
              "         [1.85181140e+07]],\n",
              "\n",
              "        [[9.40383100e+06],\n",
              "         [6.79305840e+07],\n",
              "         [7.83206000e+07],\n",
              "         ...,\n",
              "         [2.29754896e+08],\n",
              "         [8.16852560e+07],\n",
              "         [7.93130720e+07]],\n",
              "\n",
              "        [[1.01311550e+07],\n",
              "         [7.37931840e+07],\n",
              "         [8.09634080e+07],\n",
              "         ...,\n",
              "         [2.43391024e+08],\n",
              "         [7.53410240e+07],\n",
              "         [8.14005360e+07]],\n",
              "\n",
              "        ...,\n",
              "\n",
              "        [[1.00759050e+06],\n",
              "         [4.00066880e+07],\n",
              "         [3.90863200e+07],\n",
              "         ...,\n",
              "         [3.17540512e+08],\n",
              "         [1.31467630e+07],\n",
              "         [1.42249470e+07]],\n",
              "\n",
              "        [[2.62527188e+05],\n",
              "         [1.38356110e+07],\n",
              "         [1.45380920e+07],\n",
              "         ...,\n",
              "         [1.32294160e+08],\n",
              "         [1.50687488e+06],\n",
              "         [1.58507562e+06]],\n",
              "\n",
              "        [[2.58049391e+05],\n",
              "         [1.38684610e+07],\n",
              "         [1.44237110e+07],\n",
              "         ...,\n",
              "         [1.40307712e+08],\n",
              "         [1.56868800e+06],\n",
              "         [1.71021875e+06]]],\n",
              "\n",
              "\n",
              "       [[[2.37773280e+07],\n",
              "         [1.12947272e+08],\n",
              "         [1.23182168e+08],\n",
              "         ...,\n",
              "         [3.58283328e+08],\n",
              "         [1.25623104e+08],\n",
              "         [1.37616256e+08]],\n",
              "\n",
              "        [[8.08608560e+07],\n",
              "         [3.75344032e+08],\n",
              "         [4.32714048e+08],\n",
              "         ...,\n",
              "         [1.42451981e+09],\n",
              "         [6.00557568e+08],\n",
              "         [5.84253760e+08]],\n",
              "\n",
              "        [[8.49597520e+07],\n",
              "         [4.12969504e+08],\n",
              "         [4.36342208e+08],\n",
              "         ...,\n",
              "         [1.49811315e+09],\n",
              "         [5.54044224e+08],\n",
              "         [5.98681024e+08]],\n",
              "\n",
              "        ...,\n",
              "\n",
              "        [[4.95347904e+08],\n",
              "         [2.00714880e+09],\n",
              "         [2.03941171e+09],\n",
              "         ...,\n",
              "         [1.71131571e+09],\n",
              "         [5.46123840e+08],\n",
              "         [5.77951744e+08]],\n",
              "\n",
              "        [[2.84842560e+08],\n",
              "         [1.10043840e+09],\n",
              "         [1.12034790e+09],\n",
              "         ...,\n",
              "         [7.00987584e+08],\n",
              "         [2.11115648e+08],\n",
              "         [2.22010448e+08]],\n",
              "\n",
              "        [[2.79747488e+08],\n",
              "         [1.12676595e+09],\n",
              "         [1.13529306e+09],\n",
              "         ...,\n",
              "         [7.43934592e+08],\n",
              "         [2.20057856e+08],\n",
              "         [2.39504480e+08]]],\n",
              "\n",
              "\n",
              "       [[[7.74672400e+07],\n",
              "         [2.84640480e+08],\n",
              "         [3.06073984e+08],\n",
              "         ...,\n",
              "         [1.93625024e+08],\n",
              "         [5.91050320e+07],\n",
              "         [6.47137920e+07]],\n",
              "\n",
              "        [[2.53044704e+08],\n",
              "         [9.13375360e+08],\n",
              "         [1.04722170e+09],\n",
              "         ...,\n",
              "         [9.48211840e+08],\n",
              "         [3.88696032e+08],\n",
              "         [3.74260512e+08]],\n",
              "\n",
              "        [[2.65429568e+08],\n",
              "         [9.97906816e+08],\n",
              "         [1.04076794e+09],\n",
              "         ...,\n",
              "         [1.00252685e+09],\n",
              "         [3.55782112e+08],\n",
              "         [3.87303808e+08]],\n",
              "\n",
              "        ...,\n",
              "\n",
              "        [[4.29982700e+06],\n",
              "         [3.49128288e+08],\n",
              "         [3.56832288e+08],\n",
              "         ...,\n",
              "         [3.05432909e+09],\n",
              "         [1.20976128e+09],\n",
              "         [1.27042842e+09]],\n",
              "\n",
              "        [[2.42328200e+06],\n",
              "         [1.80595104e+08],\n",
              "         [1.90196672e+08],\n",
              "         ...,\n",
              "         [1.55933517e+09],\n",
              "         [6.18869888e+08],\n",
              "         [6.49615936e+08]],\n",
              "\n",
              "        [[2.38194700e+06],\n",
              "         [1.81004720e+08],\n",
              "         [1.88755008e+08],\n",
              "         ...,\n",
              "         [1.65631526e+09],\n",
              "         [6.42785088e+08],\n",
              "         [7.01528704e+08]]],\n",
              "\n",
              "\n",
              "       [[[6.91330750e+05],\n",
              "         [1.91366475e+06],\n",
              "         [2.01532750e+06],\n",
              "         ...,\n",
              "         [3.21081220e+07],\n",
              "         [1.03339470e+07],\n",
              "         [1.13113320e+07]],\n",
              "\n",
              "        [[6.10863900e+06],\n",
              "         [4.15646160e+07],\n",
              "         [4.75080680e+07],\n",
              "         ...,\n",
              "         [2.81067968e+08],\n",
              "         [1.10231064e+08],\n",
              "         [1.04885120e+08]],\n",
              "\n",
              "        [[6.57618200e+06],\n",
              "         [4.43825840e+07],\n",
              "         [4.94757440e+07],\n",
              "         ...,\n",
              "         [3.02417408e+08],\n",
              "         [1.00057872e+08],\n",
              "         [1.09757992e+08]],\n",
              "\n",
              "        ...,\n",
              "\n",
              "        [[4.06419720e+07],\n",
              "         [3.65991936e+08],\n",
              "         [3.68747552e+08],\n",
              "         ...,\n",
              "         [7.85459920e+07],\n",
              "         [9.95373500e+06],\n",
              "         [1.07866830e+07]],\n",
              "\n",
              "        [[2.21665220e+07],\n",
              "         [1.77079936e+08],\n",
              "         [1.83752032e+08],\n",
              "         ...,\n",
              "         [1.04006210e+07],\n",
              "         [9.67976250e+05],\n",
              "         [1.01732788e+06]],\n",
              "\n",
              "        [[2.17545260e+07],\n",
              "         [1.79249536e+08],\n",
              "         [1.84152016e+08],\n",
              "         ...,\n",
              "         [1.09857890e+07],\n",
              "         [1.00572088e+06],\n",
              "         [1.09822500e+06]]]], dtype=float32)>"
            ]
          },
          "metadata": {
            "tags": []
          },
          "execution_count": 54
        }
      ]
    },
    {
      "cell_type": "code",
      "metadata": {
        "id": "tKqSpJ6gTryJ",
        "colab_type": "code",
        "colab": {}
      },
      "source": [
        "optimizador = tf.compat.v1.train.AdamOptimizer(learning_rate=0.01)"
      ],
      "execution_count": 0,
      "outputs": []
    },
    {
      "cell_type": "code",
      "metadata": {
        "id": "hJDaI2UvRKq4",
        "colab_type": "code",
        "colab": {}
      },
      "source": [
        "train_loss = tf.keras.metrics.Mean(name='train_loss')\n",
        "\n",
        "\n",
        "test_loss = tf.keras.metrics.Mean(name='test_loss')\n"
      ],
      "execution_count": 0,
      "outputs": []
    },
    {
      "cell_type": "code",
      "metadata": {
        "id": "Rr7fMsF_SP03",
        "colab_type": "code",
        "colab": {}
      },
      "source": [
        "@tf.function\n",
        "def train_step(model,tdata, labels):\n",
        "  with tf.GradientTape() as tape:\n",
        "    predictions = model(tdata,len(tdata))\n",
        "    #calculo de una funcion de error \n",
        "    x = tf.cast(labels, tf.float32)\n",
        "    img = tf.reshape(x, shape=[-1, 28, 28, 1])\n",
        "    loss = tf.reduce_mean(tf.math.squared_difference(img, predictions))\n",
        "   \n",
        "  gradients = tape.gradient(loss, model.trainable_variables)\n",
        "  capped_grads_and_vars = [(grad,model.trainable_variables[index]) for index, grad in enumerate(gradients)]\n",
        "  optimizador.apply_gradients(capped_grads_and_vars)\n",
        "  train_loss(loss)\n"
      ],
      "execution_count": 0,
      "outputs": []
    },
    {
      "cell_type": "code",
      "metadata": {
        "id": "iqHMkhmuVlnT",
        "colab_type": "code",
        "colab": {}
      },
      "source": [
        "@tf.function\n",
        "def test_step(model,tdata, labels):\n",
        "  predictions = model(tdata,len(tdata))\n",
        "  x = tf.cast(labels, tf.float32)\n",
        "  img = tf.reshape(x, shape=[-1, 28, 28, 1])\n",
        "  t_loss = tf.reduce_mean(tf.math.squared_difference(img, predictions))\n",
        "\n",
        "  test_loss(t_loss)\n"
      ],
      "execution_count": 0,
      "outputs": []
    },
    {
      "cell_type": "code",
      "metadata": {
        "id": "HohbKy7EVoU2",
        "colab_type": "code",
        "colab": {}
      },
      "source": [
        "def fitting(model,train_x,train_y,test_x,test_y,EPOCHS,N_batch,batch_size):\n",
        "  for epoch in range(EPOCHS):\n",
        "    i=0\n",
        "    while i+batch_size < len(train_x) or i+batch_size<batch_size*N_batch:\n",
        "      start = i\n",
        "      end = i+batch_size\n",
        "      batch_x = train_x[start:end]\n",
        "      batch_y = train_y[start:end]\n",
        "      train_step(model,batch_x,batch_y)\n",
        "      i+=batch_size\n",
        "\n",
        "    test_step(model,test_x,test_y)\n",
        "      \n",
        "    template = 'Epoch {}, Perdida: {},  Perdida de prueba: {}'\n",
        "    print(template.format(epoch+1,train_loss.result(),test_loss.result()))\n",
        "    \n",
        "    train_loss.reset_states()\n",
        "    \n",
        "    test_loss.reset_states()\n",
        "    \n",
        "\n",
        "  "
      ],
      "execution_count": 0,
      "outputs": []
    },
    {
      "cell_type": "code",
      "metadata": {
        "id": "2jPtn5A6VvP1",
        "colab_type": "code",
        "outputId": "eb5874fd-6e61-4e9b-fa4b-1d124e97aa5a",
        "colab": {
          "base_uri": "https://localhost:8080/",
          "height": 364
        }
      },
      "source": [
        "fitting(DNN,x_train,x_train,x_test,x_test,20,600,100)"
      ],
      "execution_count": 68,
      "outputs": [
        {
          "output_type": "stream",
          "text": [
            "Epoch 1, Perdida: 9.785559856919347e+16,  Perdida de prueba: 1391206076514304.0\n",
            "Epoch 2, Perdida: 293428608892928.0,  Perdida de prueba: 177815068606464.0\n",
            "Epoch 3, Perdida: 116357702090752.0,  Perdida de prueba: 77809506582528.0\n",
            "Epoch 4, Perdida: 53185381138432.0,  Perdida de prueba: 37049172230144.0\n",
            "Epoch 5, Perdida: 25710487928832.0,  Perdida de prueba: 18067471990784.0\n",
            "Epoch 6, Perdida: 12497177280512.0,  Perdida de prueba: 8688088645632.0\n",
            "Epoch 7, Perdida: 5895223246848.0,  Perdida de prueba: 3960554913792.0\n",
            "Epoch 8, Perdida: 2601398566912.0,  Perdida de prueba: 1669974851584.0\n",
            "Epoch 9, Perdida: 1052632875008.0,  Perdida de prueba: 633231179776.0\n",
            "Epoch 10, Perdida: 380802007040.0,  Perdida de prueba: 215708581888.0\n",
            "Epoch 11, Perdida: 128028909568.0,  Perdida de prueba: 73365995520.0\n",
            "Epoch 12, Perdida: 46714728448.0,  Perdida de prueba: 30415161344.0\n",
            "Epoch 13, Perdida: 21685696512.0,  Perdida de prueba: 16081191936.0\n",
            "Epoch 14, Perdida: 12363943936.0,  Perdida de prueba: 9857685504.0\n",
            "Epoch 15, Perdida: 7880524800.0,  Perdida de prueba: 6519239680.0\n",
            "Epoch 16, Perdida: 5322330112.0,  Perdida de prueba: 4491451904.0\n",
            "Epoch 17, Perdida: 3711892992.0,  Perdida de prueba: 3170242816.0\n",
            "Epoch 18, Perdida: 2639941120.0,  Perdida de prueba: 2271354880.0\n",
            "Epoch 19, Perdida: 1900192384.0,  Perdida de prueba: 1641414528.0\n",
            "Epoch 20, Perdida: 1376340864.0,  Perdida de prueba: 1190103680.0\n"
          ],
          "name": "stdout"
        }
      ]
    },
    {
      "cell_type": "code",
      "metadata": {
        "id": "RNdLgMKLVzsU",
        "colab_type": "code",
        "colab": {}
      },
      "source": [
        ""
      ],
      "execution_count": 0,
      "outputs": []
    }
  ]
}