{
  "nbformat": 4,
  "nbformat_minor": 0,
  "metadata": {
    "colab": {
      "name": " ConvolucionalNN_TF2.ipynb",
      "provenance": []
    },
    "kernelspec": {
      "name": "python3",
      "display_name": "Python 3"
    },
    "accelerator": "GPU"
  },
  "cells": [
    {
      "cell_type": "code",
      "metadata": {
        "id": "D17zjJSMBBXf",
        "colab_type": "code",
        "outputId": "5f25a686-f010-4e99-acd0-945191afde4a",
        "colab": {
          "base_uri": "https://localhost:8080/",
          "height": 34
        }
      },
      "source": [
        "%tensorflow_version 2.x"
      ],
      "execution_count": 0,
      "outputs": [
        {
          "output_type": "stream",
          "text": [
            "TensorFlow 2.x selected.\n"
          ],
          "name": "stdout"
        }
      ]
    },
    {
      "cell_type": "code",
      "metadata": {
        "id": "AFCFzafkBLp7",
        "colab_type": "code",
        "colab": {}
      },
      "source": [
        "import tensorflow as tf\n",
        "import numpy as np\n",
        "import matplotlib.pyplot as plt\n",
        "from sklearn.preprocessing import OneHotEncoder\n",
        "%matplotlib inline"
      ],
      "execution_count": 0,
      "outputs": []
    },
    {
      "cell_type": "code",
      "metadata": {
        "id": "7h5V3NrLBRQl",
        "colab_type": "code",
        "outputId": "6f7dbd57-732b-4fac-d295-036570371107",
        "colab": {
          "base_uri": "https://localhost:8080/",
          "height": 51
        }
      },
      "source": [
        "mnist = tf.keras.datasets.mnist\n",
        "\n",
        "(x_train, y_train), (x_test, y_test) = mnist.load_data( )"
      ],
      "execution_count": 0,
      "outputs": [
        {
          "output_type": "stream",
          "text": [
            "Downloading data from https://storage.googleapis.com/tensorflow/tf-keras-datasets/mnist.npz\n",
            "11493376/11490434 [==============================] - 0s 0us/step\n"
          ],
          "name": "stdout"
        }
      ]
    },
    {
      "cell_type": "code",
      "metadata": {
        "id": "nSOcJqM9DTuU",
        "colab_type": "code",
        "outputId": "9ed96983-bdfe-4745-cafb-abdbbc5351e1",
        "colab": {
          "base_uri": "https://localhost:8080/",
          "height": 34
        }
      },
      "source": [
        "y_train.shape"
      ],
      "execution_count": 0,
      "outputs": [
        {
          "output_type": "execute_result",
          "data": {
            "text/plain": [
              "(60000,)"
            ]
          },
          "metadata": {
            "tags": []
          },
          "execution_count": 4
        }
      ]
    },
    {
      "cell_type": "code",
      "metadata": {
        "id": "64HZIYwiDbDU",
        "colab_type": "code",
        "outputId": "6a803658-0583-4b3f-f105-466f18ac0a97",
        "colab": {
          "base_uri": "https://localhost:8080/",
          "height": 34
        }
      },
      "source": [
        "x_train.shape"
      ],
      "execution_count": 0,
      "outputs": [
        {
          "output_type": "execute_result",
          "data": {
            "text/plain": [
              "(60000, 28, 28)"
            ]
          },
          "metadata": {
            "tags": []
          },
          "execution_count": 5
        }
      ]
    },
    {
      "cell_type": "code",
      "metadata": {
        "id": "odhp342nDc1S",
        "colab_type": "code",
        "outputId": "4f57ca9c-bc62-4a56-d96d-39bd546a0a90",
        "colab": {
          "base_uri": "https://localhost:8080/",
          "height": 34
        }
      },
      "source": [
        "y_train[0]"
      ],
      "execution_count": 0,
      "outputs": [
        {
          "output_type": "execute_result",
          "data": {
            "text/plain": [
              "5"
            ]
          },
          "metadata": {
            "tags": []
          },
          "execution_count": 6
        }
      ]
    },
    {
      "cell_type": "code",
      "metadata": {
        "id": "CYUODJiXDeyq",
        "colab_type": "code",
        "outputId": "8c8ead85-af4c-49ce-efdc-6946f15a3ff9",
        "colab": {
          "base_uri": "https://localhost:8080/",
          "height": 282
        }
      },
      "source": [
        "imagendemo=x_train[0]\n",
        "plt.imshow(imagendemo,cmap='gray')"
      ],
      "execution_count": 0,
      "outputs": [
        {
          "output_type": "execute_result",
          "data": {
            "text/plain": [
              "<matplotlib.image.AxesImage at 0x7f8c7ba724e0>"
            ]
          },
          "metadata": {
            "tags": []
          },
          "execution_count": 7
        },
        {
          "output_type": "display_data",
          "data": {
            "image/png": "[encoded data removed]",
            "text/plain": [
              "<Figure size 432x288 with 1 Axes>"
            ]
          },
          "metadata": {
            "tags": []
          }
        }
      ]
    },
    {
      "cell_type": "code",
      "metadata": {
        "id": "X9G11ylqDlDi",
        "colab_type": "code",
        "outputId": "db9912f2-0c3a-4301-ef89-538a8742e1ec",
        "colab": {
          "base_uri": "https://localhost:8080/",
          "height": 34
        }
      },
      "source": [
        "onehot_encoder = OneHotEncoder(sparse=False)\n",
        "y_train = y_train.reshape(len(y_train), 1)\n",
        "y_train_onehot = onehot_encoder.fit_transform(y_train)\n",
        "\n",
        "y_test = y_test.reshape(len(y_test), 1)\n",
        "y_test_onehot = onehot_encoder.fit_transform(y_test)\n",
        "\n",
        "y_train_onehot.shape"
      ],
      "execution_count": 0,
      "outputs": [
        {
          "output_type": "execute_result",
          "data": {
            "text/plain": [
              "(60000, 10)"
            ]
          },
          "metadata": {
            "tags": []
          },
          "execution_count": 8
        }
      ]
    },
    {
      "cell_type": "code",
      "metadata": {
        "id": "jGiRM_9SyJhW",
        "colab_type": "code",
        "colab": {}
      },
      "source": [
        "def conv2d(x, W,name,padd,strid=[1,1,1,1]):\n",
        "    #El stride de esa función no reduce el tamaño de la imagen\n",
        "    return tf.nn.conv2d(x, W, strides=strid, padding=padd,name=name)\n",
        "\n",
        "def maxpool2d(x,ks,st):\n",
        "    #           El st de esta función reduce la imagen a la mitad\n",
        "    return tf.nn.max_pool(x, ksize=ks, strides=st, padding='SAME')"
      ],
      "execution_count": 0,
      "outputs": []
    },
    {
      "cell_type": "markdown",
      "metadata": {
        "id": "f1JUpcIwFe6Y",
        "colab_type": "text"
      },
      "source": [
        "# Declarando la arquitectura\n"
      ]
    },
    {
      "cell_type": "code",
      "metadata": {
        "id": "b6NpPnF9Fm49",
        "colab_type": "code",
        "colab": {}
      },
      "source": [
        "class DNN_model(object):\n",
        "  def __init__(self,\n",
        "               n_classes=10):\n",
        "    self.h1LW = tf.Variable(np.random.rand(5,5,1,32),name=\"hl1weigths\",dtype=\"float32\")\n",
        "    self.h1LB = tf.Variable(np.random.rand(32),name=\"hl1bias\",dtype=\"float32\")\n",
        "    self.h2LW = tf.Variable(np.random.rand(5,5,32,64),name=\"hl2weigths\",dtype=\"float32\")\n",
        "    self.h2LB = tf.Variable(np.random.rand(64),name=\"hl2bias\",dtype=\"float32\")\n",
        "    self.h3LW = tf.Variable(np.random.rand(7*7*64,1024),name=\"hl3weigths\",dtype=\"float32\")\n",
        "    self.h3LB = tf.Variable(np.random.rand(1024),name=\"hl3bias\",dtype=\"float32\")\n",
        "    self.outW = tf.Variable(np.random.rand(1024, n_classes),name=\"outweigths\",dtype=\"float32\")\n",
        "    self.outB = tf.Variable(np.random.rand(n_classes),name=\"outbias\",dtype=\"float32\")\n",
        "    self.trainable_variables =[self.h1LW,self.h1LB,self.h2LW,self.h2LB,self.h3LW,self.h3LB,self.outW,self.outB]          \n",
        "  def __call__(self,x): \n",
        "\n",
        "      # Declarando la arquitectura\n",
        "      x  = tf.cast(x, tf.float32)\n",
        "      img = tf.reshape(x, shape=[-1, 28, 28, 1])\n",
        "\n",
        "      l1= tf.nn.conv2d(img,self.h1LW, strides=[1,1,1,1], padding='SAME')  \n",
        "      l1 = tf.add(l1, self.h1LB)\n",
        "      l1 = tf.nn.relu(l1)\n",
        "      l1 = tf.nn.max_pool(l1, ksize=[1,2,2,1], strides=[1,2,2,1], padding='SAME')\n",
        "      #14*14*32\n",
        "\n",
        "      l2= tf.nn.conv2d(l1,self.h2LW, strides=[1,1,1,1], padding='SAME')  \n",
        "      l2 = tf.add(l2, self.h2LB)\n",
        "      l2 = tf.nn.relu(l2)\n",
        "      l2 = tf.nn.max_pool(l2, ksize=[1,2,2,1], strides=[1,2,2,1], padding='SAME')\n",
        "      #7*7*64\n",
        "      \n",
        "      l3=  tf.reshape(l2,[-1, 7*7*64])\n",
        "      l3=  tf.matmul(l3,self.h3LW)\n",
        "      l3 = tf.add(l3, self.h3LB)\n",
        "      l3 = tf.nn.relu(l3)\n",
        "\n",
        "\n",
        "      output = tf.matmul(l3,self.outW) + self.outB\n",
        "      return output\n",
        "  "
      ],
      "execution_count": 0,
      "outputs": []
    },
    {
      "cell_type": "code",
      "metadata": {
        "id": "B77Ru-lyE8nz",
        "colab_type": "code",
        "outputId": "59ddca48-2ac6-48d1-f80f-c92277a6c7fe",
        "colab": {
          "base_uri": "https://localhost:8080/",
          "height": 340
        }
      },
      "source": [
        "DNN = DNN_model()\n",
        "DNN(x_train[24:30])"
      ],
      "execution_count": 0,
      "outputs": [
        {
          "output_type": "execute_result",
          "data": {
            "text/plain": [
              "<tf.Tensor: shape=(6, 10), dtype=float32, numpy=\n",
              "array([[1.80498989e+11, 1.87543323e+11, 1.83942103e+11, 1.83275553e+11,\n",
              "        1.80573209e+11, 1.86865713e+11, 1.84264098e+11, 1.88407939e+11,\n",
              "        1.81671674e+11, 1.82872375e+11],\n",
              "       [3.17994828e+11, 3.30414555e+11, 3.24103864e+11, 3.22879586e+11,\n",
              "        3.18142022e+11, 3.29238053e+11, 3.24627202e+11, 3.31914379e+11,\n",
              "        3.20076481e+11, 3.22217017e+11],\n",
              "       [1.17215969e+11, 1.21776210e+11, 1.19435821e+11, 1.19031103e+11,\n",
              "        1.17258650e+11, 1.21352684e+11, 1.19657529e+11, 1.22345095e+11,\n",
              "        1.17969715e+11, 1.18752412e+11],\n",
              "       [3.53298186e+11, 3.67085224e+11, 3.60091353e+11, 3.58733545e+11,\n",
              "        3.53486766e+11, 3.65794623e+11, 3.60652505e+11, 3.68768713e+11,\n",
              "        3.55624518e+11, 3.57997019e+11],\n",
              "       [3.24444488e+11, 3.37125310e+11, 3.30719166e+11, 3.29463824e+11,\n",
              "        3.24661117e+11, 3.35941403e+11, 3.31252367e+11, 3.38679628e+11,\n",
              "        3.26626836e+11, 3.28773009e+11],\n",
              "       [1.40318589e+11, 1.45764532e+11, 1.42975910e+11, 1.42479557e+11,\n",
              "        1.40365136e+11, 1.45252155e+11, 1.43221522e+11, 1.46457002e+11,\n",
              "        1.41202260e+11, 1.42138524e+11]], dtype=float32)>"
            ]
          },
          "metadata": {
            "tags": []
          },
          "execution_count": 32
        }
      ]
    },
    {
      "cell_type": "code",
      "metadata": {
        "id": "tKqSpJ6gTryJ",
        "colab_type": "code",
        "colab": {}
      },
      "source": [
        "optimizador = tf.compat.v1.train.AdamOptimizer(learning_rate=0.01)"
      ],
      "execution_count": 0,
      "outputs": []
    },
    {
      "cell_type": "code",
      "metadata": {
        "id": "hJDaI2UvRKq4",
        "colab_type": "code",
        "colab": {}
      },
      "source": [
        "train_loss = tf.keras.metrics.Mean(name='train_loss')\n",
        "train_accuracy = tf.keras.metrics.CategoricalAccuracy(name='train_accuracy')\n",
        "\n",
        "test_loss = tf.keras.metrics.Mean(name='test_loss')\n",
        "test_accuracy = tf.keras.metrics.CategoricalAccuracy(name='test_accuracy')"
      ],
      "execution_count": 0,
      "outputs": []
    },
    {
      "cell_type": "code",
      "metadata": {
        "id": "Rr7fMsF_SP03",
        "colab_type": "code",
        "colab": {}
      },
      "source": [
        "@tf.function\n",
        "def train_step(model,tdata, labels):\n",
        "  with tf.GradientTape() as tape:\n",
        "    predictions = model(tdata)\n",
        "    #calculo de una funcion de error \n",
        "    loss = tf.reduce_mean(tf.nn.softmax_cross_entropy_with_logits(labels, predictions))\n",
        "   \n",
        "  gradients = tape.gradient(loss, model.trainable_variables)\n",
        "  capped_grads_and_vars = [(grad,model.trainable_variables[index]) for index, grad in enumerate(gradients)]\n",
        "  optimizador.apply_gradients(capped_grads_and_vars)\n",
        "  train_loss(loss)\n",
        "  train_accuracy(labels, predictions)"
      ],
      "execution_count": 0,
      "outputs": []
    },
    {
      "cell_type": "code",
      "metadata": {
        "id": "iqHMkhmuVlnT",
        "colab_type": "code",
        "colab": {}
      },
      "source": [
        "@tf.function\n",
        "def test_step(model,tdata, labels):\n",
        "  predictions = model(tdata)\n",
        "  t_loss =  tf.reduce_mean(tf.nn.softmax_cross_entropy_with_logits(labels, predictions))\n",
        "\n",
        "  test_loss(t_loss)\n",
        "  test_accuracy(labels, predictions)"
      ],
      "execution_count": 0,
      "outputs": []
    },
    {
      "cell_type": "code",
      "metadata": {
        "id": "HohbKy7EVoU2",
        "colab_type": "code",
        "colab": {}
      },
      "source": [
        "def fitting(model,train_x,train_y,test_x,test_y,EPOCHS,N_batch,batch_size):\n",
        "  for epoch in range(EPOCHS):\n",
        "    i=0\n",
        "    while i+batch_size < len(train_x) or i+batch_size<batch_size*N_batch:\n",
        "      start = i\n",
        "      end = i+batch_size\n",
        "      batch_x = train_x[start:end]\n",
        "      batch_y = train_y[start:end]\n",
        "      train_step(model,batch_x,batch_y)\n",
        "      i+=batch_size\n",
        "\n",
        "    test_step(model,test_x,test_y)\n",
        "      \n",
        "    template = 'Epoch {}, Perdida: {}, Exactitud: {}, Perdida de prueba: {}, Exactitud de prueba: {}'\n",
        "    print(template.format(epoch+1,\n",
        "                         train_loss.result(),\n",
        "                        train_accuracy.result()*100,\n",
        "                        test_loss.result(),\n",
        "                        test_accuracy.result()*100))\n",
        "    train_loss.reset_states()\n",
        "    train_accuracy.reset_states()\n",
        "    test_loss.reset_states()\n",
        "    test_accuracy.reset_states()\n",
        "\n",
        "  "
      ],
      "execution_count": 0,
      "outputs": []
    },
    {
      "cell_type": "code",
      "metadata": {
        "id": "2jPtn5A6VvP1",
        "colab_type": "code",
        "outputId": "0b69eb29-2d8e-407c-c2dc-13cc19ad3063",
        "colab": {
          "base_uri": "https://localhost:8080/",
          "height": 357
        }
      },
      "source": [
        "fitting(DNN,x_train,y_train_onehot,x_test,y_test_onehot,20,600,100)"
      ],
      "execution_count": 0,
      "outputs": [
        {
          "output_type": "stream",
          "text": [
            "Epoch 1, Perdida: 249763744.0, Exactitud: 60.98163604736328, Perdida de prueba: 942306.125, Exactitud de prueba: 70.99000549316406\n",
            "Epoch 2, Perdida: 533196.6875, Exactitud: 75.6193618774414, Perdida de prueba: 347530.75, Exactitud de prueba: 76.58000183105469\n",
            "Epoch 3, Perdida: 165175.09375, Exactitud: 82.72286987304688, Perdida de prueba: 120477.1484375, Exactitud de prueba: 81.95999908447266\n",
            "Epoch 4, Perdida: 57666.6640625, Exactitud: 87.45909881591797, Perdida de prueba: 28072.97265625, Exactitud de prueba: 90.63999938964844\n",
            "Epoch 5, Perdida: 21820.048828125, Exactitud: 90.76961517333984, Perdida de prueba: 14359.955078125, Exactitud de prueba: 91.68999481201172\n",
            "Epoch 6, Perdida: 10627.173828125, Exactitud: 92.44407653808594, Perdida de prueba: 8998.6591796875, Exactitud de prueba: 92.1199951171875\n",
            "Epoch 7, Perdida: 6194.916015625, Exactitud: 93.47077941894531, Perdida de prueba: 4008.3408203125, Exactitud de prueba: 94.8499984741211\n",
            "Epoch 8, Perdida: 3636.732421875, Exactitud: 94.52253723144531, Perdida de prueba: 2304.86083984375, Exactitud de prueba: 95.66000366210938\n",
            "Epoch 9, Perdida: 2395.699951171875, Exactitud: 95.26043701171875, Perdida de prueba: 1944.3311767578125, Exactitud de prueba: 95.9800033569336\n",
            "Epoch 10, Perdida: 1699.9453125, Exactitud: 95.87145233154297, Perdida de prueba: 1614.3631591796875, Exactitud de prueba: 95.76000213623047\n",
            "Epoch 11, Perdida: 1215.6634521484375, Exactitud: 96.38898468017578, Perdida de prueba: 1225.8680419921875, Exactitud de prueba: 96.62000274658203\n",
            "Epoch 12, Perdida: 939.9917602539062, Exactitud: 96.67613220214844, Perdida de prueba: 1074.157958984375, Exactitud de prueba: 96.62000274658203\n",
            "Epoch 13, Perdida: 771.48193359375, Exactitud: 96.87312316894531, Perdida de prueba: 817.4249267578125, Exactitud de prueba: 97.13999938964844\n",
            "Epoch 14, Perdida: 626.351806640625, Exactitud: 97.01669311523438, Perdida de prueba: 814.0737915039062, Exactitud de prueba: 96.77999877929688\n",
            "Epoch 15, Perdida: 557.350341796875, Exactitud: 96.94324493408203, Perdida de prueba: 680.6243896484375, Exactitud de prueba: 96.72000122070312\n",
            "Epoch 16, Perdida: 464.1306457519531, Exactitud: 96.938232421875, Perdida de prueba: 699.8414916992188, Exactitud de prueba: 96.31999969482422\n",
            "Epoch 17, Perdida: 378.0176696777344, Exactitud: 97.02838134765625, Perdida de prueba: 664.7996215820312, Exactitud de prueba: 96.75\n",
            "Epoch 18, Perdida: 389.4388427734375, Exactitud: 96.79466247558594, Perdida de prueba: 611.505126953125, Exactitud de prueba: 95.77999877929688\n",
            "Epoch 19, Perdida: 373.1517639160156, Exactitud: 96.4474105834961, Perdida de prueba: 520.9334106445312, Exactitud de prueba: 95.66000366210938\n",
            "Epoch 20, Perdida: 297.5837707519531, Exactitud: 96.43572235107422, Perdida de prueba: 373.0086975097656, Exactitud de prueba: 95.95000457763672\n"
          ],
          "name": "stdout"
        }
      ]
    },
    {
      "cell_type": "code",
      "metadata": {
        "id": "RNdLgMKLVzsU",
        "colab_type": "code",
        "colab": {}
      },
      "source": [
        ""
      ],
      "execution_count": 0,
      "outputs": []
    }
  ]
}