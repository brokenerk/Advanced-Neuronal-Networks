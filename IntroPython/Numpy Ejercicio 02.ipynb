{
 "cells": [
  {
   "cell_type": "markdown",
   "metadata": {
    "colab_type": "text",
    "id": "LTaP0-2X1vYD"
   },
   "source": [
    "# Ejercicios NumPy\n",
    "\n",
    "Esta serie de ejercicios tienen como objetivo que comprueben los conocimientos adquiridos. Inicial con ejercicios simples y se se complican gradualmente."
   ]
  },
  {
   "cell_type": "markdown",
   "metadata": {
    "colab_type": "text",
    "id": "1Ak5wk5X1vYF"
   },
   "source": [
    "#### Importación de NumPy "
   ]
  },
  {
   "cell_type": "code",
   "execution_count": 1,
   "metadata": {
    "colab": {},
    "colab_type": "code",
    "id": "fD3aNwzq1vYG"
   },
   "outputs": [],
   "source": [
    "import numpy as np"
   ]
  },
  {
   "cell_type": "markdown",
   "metadata": {
    "colab_type": "text",
    "id": "A6BX2gZ71vYL"
   },
   "source": [
    "#### Crear un arreglo de 5 ceros  "
   ]
  },
  {
   "cell_type": "code",
   "execution_count": 2,
   "metadata": {
    "colab": {
     "base_uri": "https://localhost:8080/",
     "height": 34
    },
    "colab_type": "code",
    "executionInfo": {
     "elapsed": 1203,
     "status": "ok",
     "timestamp": 1580866769163,
     "user": {
      "displayName": "Enrique Ramos Diaz",
      "photoUrl": "https://lh3.googleusercontent.com/a-/AAuE7mALwCJrTOMom4PfJnleVRYFJfs8M6b4od17ajBOJg=s64",
      "userId": "03180666184446923491"
     },
     "user_tz": 360
    },
    "id": "9P_rYvfn1vYM",
    "outputId": "62b8ab60-c780-4840-c67f-e3bbedcea66d"
   },
   "outputs": [
    {
     "data": {
      "text/plain": [
       "array([0., 0., 0., 0., 0.])"
      ]
     },
     "execution_count": 2,
     "metadata": {},
     "output_type": "execute_result"
    }
   ],
   "source": [
    "np.zeros(5)"
   ]
  },
  {
   "cell_type": "markdown",
   "metadata": {
    "colab_type": "text",
    "id": "BxF7cTAC1vYP"
   },
   "source": [
    "#### Crear un arreglo de 10 unos"
   ]
  },
  {
   "cell_type": "code",
   "execution_count": 3,
   "metadata": {
    "colab": {
     "base_uri": "https://localhost:8080/",
     "height": 34
    },
    "colab_type": "code",
    "executionInfo": {
     "elapsed": 1192,
     "status": "ok",
     "timestamp": 1580866769163,
     "user": {
      "displayName": "Enrique Ramos Diaz",
      "photoUrl": "https://lh3.googleusercontent.com/a-/AAuE7mALwCJrTOMom4PfJnleVRYFJfs8M6b4od17ajBOJg=s64",
      "userId": "03180666184446923491"
     },
     "user_tz": 360
    },
    "id": "L5NeNfy_1vYQ",
    "outputId": "957f075f-ff3f-435c-b7af-afb448061ce7"
   },
   "outputs": [
    {
     "data": {
      "text/plain": [
       "array([1., 1., 1., 1., 1., 1., 1., 1., 1., 1.])"
      ]
     },
     "execution_count": 3,
     "metadata": {},
     "output_type": "execute_result"
    }
   ],
   "source": [
    "np.ones(10)"
   ]
  },
  {
   "cell_type": "markdown",
   "metadata": {
    "colab_type": "text",
    "id": "p8hjo0Ip1vYS"
   },
   "source": [
    "#### Crear un arreglo de 5  cincos "
   ]
  },
  {
   "cell_type": "code",
   "execution_count": 4,
   "metadata": {
    "colab": {
     "base_uri": "https://localhost:8080/",
     "height": 34
    },
    "colab_type": "code",
    "executionInfo": {
     "elapsed": 1182,
     "status": "ok",
     "timestamp": 1580866769164,
     "user": {
      "displayName": "Enrique Ramos Diaz",
      "photoUrl": "https://lh3.googleusercontent.com/a-/AAuE7mALwCJrTOMom4PfJnleVRYFJfs8M6b4od17ajBOJg=s64",
      "userId": "03180666184446923491"
     },
     "user_tz": 360
    },
    "id": "5jZPXZXP1vYT",
    "outputId": "c8adf733-7d5a-4a3a-b8c8-492182fe4ce3"
   },
   "outputs": [
    {
     "data": {
      "text/plain": [
       "array([5., 5., 5., 5., 5.])"
      ]
     },
     "execution_count": 4,
     "metadata": {},
     "output_type": "execute_result"
    }
   ],
   "source": [
    "5 * np.ones(5)"
   ]
  },
  {
   "cell_type": "markdown",
   "metadata": {
    "colab_type": "text",
    "id": "xw0Y-W8_1vYW"
   },
   "source": [
    "#### Crear un arreglo de números consecutivos empezando en 10 terminando en 30  "
   ]
  },
  {
   "cell_type": "code",
   "execution_count": 5,
   "metadata": {
    "colab": {
     "base_uri": "https://localhost:8080/",
     "height": 51
    },
    "colab_type": "code",
    "executionInfo": {
     "elapsed": 1172,
     "status": "ok",
     "timestamp": 1580866769165,
     "user": {
      "displayName": "Enrique Ramos Diaz",
      "photoUrl": "https://lh3.googleusercontent.com/a-/AAuE7mALwCJrTOMom4PfJnleVRYFJfs8M6b4od17ajBOJg=s64",
      "userId": "03180666184446923491"
     },
     "user_tz": 360
    },
    "id": "Msj6FQnD1vYX",
    "outputId": "f9566927-426b-4bdd-c21f-6a43268af172"
   },
   "outputs": [
    {
     "data": {
      "text/plain": [
       "array([10, 11, 12, 13, 14, 15, 16, 17, 18, 19, 20, 21, 22, 23, 24, 25, 26,\n",
       "       27, 28, 29, 30])"
      ]
     },
     "execution_count": 5,
     "metadata": {},
     "output_type": "execute_result"
    }
   ],
   "source": [
    "np.arange(10, 31)"
   ]
  },
  {
   "cell_type": "markdown",
   "metadata": {
    "colab_type": "text",
    "id": "1e-e8HEU1vYb"
   },
   "source": [
    "#### Crear un arreglo de todos los  números pares  empezando en 10 terminando en 30  "
   ]
  },
  {
   "cell_type": "code",
   "execution_count": 6,
   "metadata": {
    "colab": {
     "base_uri": "https://localhost:8080/",
     "height": 34
    },
    "colab_type": "code",
    "executionInfo": {
     "elapsed": 1161,
     "status": "ok",
     "timestamp": 1580866769165,
     "user": {
      "displayName": "Enrique Ramos Diaz",
      "photoUrl": "https://lh3.googleusercontent.com/a-/AAuE7mALwCJrTOMom4PfJnleVRYFJfs8M6b4od17ajBOJg=s64",
      "userId": "03180666184446923491"
     },
     "user_tz": 360
    },
    "id": "c7IhoXDI1vYc",
    "outputId": "6ba4f81a-316c-407d-d888-be15d51bdca2"
   },
   "outputs": [
    {
     "data": {
      "text/plain": [
       "array([10, 12, 14, 16, 18, 20, 22, 24, 26, 28, 30])"
      ]
     },
     "execution_count": 6,
     "metadata": {},
     "output_type": "execute_result"
    }
   ],
   "source": [
    "np.arange(10, 31, 2)"
   ]
  },
  {
   "cell_type": "markdown",
   "metadata": {
    "colab_type": "text",
    "id": "36V3qEqe1vYf"
   },
   "source": [
    "#### Crear  un matriz  de 3x3  formada por números consecutivos del 0 al 8 "
   ]
  },
  {
   "cell_type": "code",
   "execution_count": 7,
   "metadata": {
    "colab": {
     "base_uri": "https://localhost:8080/",
     "height": 68
    },
    "colab_type": "code",
    "executionInfo": {
     "elapsed": 1150,
     "status": "ok",
     "timestamp": 1580866769166,
     "user": {
      "displayName": "Enrique Ramos Diaz",
      "photoUrl": "https://lh3.googleusercontent.com/a-/AAuE7mALwCJrTOMom4PfJnleVRYFJfs8M6b4od17ajBOJg=s64",
      "userId": "03180666184446923491"
     },
     "user_tz": 360
    },
    "id": "rb8Pwqeq1vYg",
    "outputId": "dfd67265-9c15-4447-da19-4277539fb150"
   },
   "outputs": [
    {
     "data": {
      "text/plain": [
       "array([[0, 1, 2],\n",
       "       [3, 4, 5],\n",
       "       [6, 7, 8]])"
      ]
     },
     "execution_count": 7,
     "metadata": {},
     "output_type": "execute_result"
    }
   ],
   "source": [
    "np.arange(0, 9).reshape(3, 3)"
   ]
  },
  {
   "cell_type": "markdown",
   "metadata": {
    "colab_type": "text",
    "id": "HpFqfOQJ1vYj"
   },
   "source": [
    "#### Crear una matriz identidad  de 5x5"
   ]
  },
  {
   "cell_type": "code",
   "execution_count": 8,
   "metadata": {
    "colab": {
     "base_uri": "https://localhost:8080/",
     "height": 102
    },
    "colab_type": "code",
    "executionInfo": {
     "elapsed": 1141,
     "status": "ok",
     "timestamp": 1580866769167,
     "user": {
      "displayName": "Enrique Ramos Diaz",
      "photoUrl": "https://lh3.googleusercontent.com/a-/AAuE7mALwCJrTOMom4PfJnleVRYFJfs8M6b4od17ajBOJg=s64",
      "userId": "03180666184446923491"
     },
     "user_tz": 360
    },
    "id": "kW6Vk7p41vYk",
    "outputId": "ab132c58-24b1-414a-939a-bd2cb3e9f528"
   },
   "outputs": [
    {
     "data": {
      "text/plain": [
       "array([[1., 0., 0., 0., 0.],\n",
       "       [0., 1., 0., 0., 0.],\n",
       "       [0., 0., 1., 0., 0.],\n",
       "       [0., 0., 0., 1., 0.],\n",
       "       [0., 0., 0., 0., 1.]])"
      ]
     },
     "execution_count": 8,
     "metadata": {},
     "output_type": "execute_result"
    }
   ],
   "source": [
    "np.eye(5)"
   ]
  },
  {
   "cell_type": "markdown",
   "metadata": {
    "colab_type": "text",
    "id": "Vm3jTS4p1vYn"
   },
   "source": [
    "#### Crear un número aleatorio entre 0 y 10"
   ]
  },
  {
   "cell_type": "code",
   "execution_count": 9,
   "metadata": {
    "colab": {
     "base_uri": "https://localhost:8080/",
     "height": 34
    },
    "colab_type": "code",
    "executionInfo": {
     "elapsed": 1131,
     "status": "ok",
     "timestamp": 1580866769167,
     "user": {
      "displayName": "Enrique Ramos Diaz",
      "photoUrl": "https://lh3.googleusercontent.com/a-/AAuE7mALwCJrTOMom4PfJnleVRYFJfs8M6b4od17ajBOJg=s64",
      "userId": "03180666184446923491"
     },
     "user_tz": 360
    },
    "id": "Kr8WCrsB1vYo",
    "outputId": "49cec202-1788-4bc6-b690-1c6e6596415a"
   },
   "outputs": [
    {
     "data": {
      "text/plain": [
       "1.9917473754486614"
      ]
     },
     "execution_count": 9,
     "metadata": {},
     "output_type": "execute_result"
    }
   ],
   "source": [
    "10 * np.random.random_sample()"
   ]
  },
  {
   "cell_type": "markdown",
   "metadata": {
    "colab_type": "text",
    "id": "5HU_uORK1vYq"
   },
   "source": [
    "#### Generen un arreglo de 20 elementos aleatorios  usando una distribución normal estándar "
   ]
  },
  {
   "cell_type": "code",
   "execution_count": 10,
   "metadata": {
    "colab": {
     "base_uri": "https://localhost:8080/",
     "height": 85
    },
    "colab_type": "code",
    "executionInfo": {
     "elapsed": 1121,
     "status": "ok",
     "timestamp": 1580866769168,
     "user": {
      "displayName": "Enrique Ramos Diaz",
      "photoUrl": "https://lh3.googleusercontent.com/a-/AAuE7mALwCJrTOMom4PfJnleVRYFJfs8M6b4od17ajBOJg=s64",
      "userId": "03180666184446923491"
     },
     "user_tz": 360
    },
    "id": "GZine8rk1vYr",
    "outputId": "27bbdbc7-adff-46f1-9018-5a81d450f26f"
   },
   "outputs": [
    {
     "data": {
      "text/plain": [
       "array([-0.83139446,  0.21790282,  0.13487561,  1.5236016 ,  0.37297815,\n",
       "       -0.17956473,  1.10664418, -0.14807302,  0.79158195, -0.10602966,\n",
       "        0.24388937,  1.22549075,  1.19539734,  0.65671416,  0.47345522,\n",
       "       -0.07794283, -1.18234032, -0.20341092,  0.57943082,  0.19689993])"
      ]
     },
     "execution_count": 10,
     "metadata": {},
     "output_type": "execute_result"
    }
   ],
   "source": [
    "np.random.randn(20)"
   ]
  },
  {
   "cell_type": "markdown",
   "metadata": {
    "colab_type": "text",
    "id": "l4xtBhI_1vYu"
   },
   "source": [
    "#### Crear la siguiente matriz \n",
    "\n",
    "array([[ 0.01,  0.02,  0.03,  0.04,  0.05,  0.06,  0.07,  0.08,  0.09,  0.1 ],\n",
    "       [ 0.11,  0.12,  0.13,  0.14,  0.15,  0.16,  0.17,  0.18,  0.19,  0.2 ],\n",
    "       [ 0.21,  0.22,  0.23,  0.24,  0.25,  0.26,  0.27,  0.28,  0.29,  0.3 ],\n",
    "       [ 0.31,  0.32,  0.33,  0.34,  0.35,  0.36,  0.37,  0.38,  0.39,  0.4 ],\n",
    "       [ 0.41,  0.42,  0.43,  0.44,  0.45,  0.46,  0.47,  0.48,  0.49,  0.5 ],\n",
    "       [ 0.51,  0.52,  0.53,  0.54,  0.55,  0.56,  0.57,  0.58,  0.59,  0.6 ],\n",
    "       [ 0.61,  0.62,  0.63,  0.64,  0.65,  0.66,  0.67,  0.68,  0.69,  0.7 ],\n",
    "       [ 0.71,  0.72,  0.73,  0.74,  0.75,  0.76,  0.77,  0.78,  0.79,  0.8 ],\n",
    "       [ 0.81,  0.82,  0.83,  0.84,  0.85,  0.86,  0.87,  0.88,  0.89,  0.9 ],\n",
    "       [ 0.91,  0.92,  0.93,  0.94,  0.95,  0.96,  0.97,  0.98,  0.99,  1.  ]])"
   ]
  },
  {
   "cell_type": "code",
   "execution_count": 11,
   "metadata": {
    "colab": {
     "base_uri": "https://localhost:8080/",
     "height": 187
    },
    "colab_type": "code",
    "executionInfo": {
     "elapsed": 1113,
     "status": "ok",
     "timestamp": 1580866769169,
     "user": {
      "displayName": "Enrique Ramos Diaz",
      "photoUrl": "https://lh3.googleusercontent.com/a-/AAuE7mALwCJrTOMom4PfJnleVRYFJfs8M6b4od17ajBOJg=s64",
      "userId": "03180666184446923491"
     },
     "user_tz": 360
    },
    "id": "Y9-qlH_R1vYv",
    "outputId": "8e02293a-16d9-4a25-ff99-b0c0af306bb9"
   },
   "outputs": [
    {
     "data": {
      "text/plain": [
       "array([[0.01, 0.02, 0.03, 0.04, 0.05, 0.06, 0.07, 0.08, 0.09, 0.1 ],\n",
       "       [0.11, 0.12, 0.13, 0.14, 0.15, 0.16, 0.17, 0.18, 0.19, 0.2 ],\n",
       "       [0.21, 0.22, 0.23, 0.24, 0.25, 0.26, 0.27, 0.28, 0.29, 0.3 ],\n",
       "       [0.31, 0.32, 0.33, 0.34, 0.35, 0.36, 0.37, 0.38, 0.39, 0.4 ],\n",
       "       [0.41, 0.42, 0.43, 0.44, 0.45, 0.46, 0.47, 0.48, 0.49, 0.5 ],\n",
       "       [0.51, 0.52, 0.53, 0.54, 0.55, 0.56, 0.57, 0.58, 0.59, 0.6 ],\n",
       "       [0.61, 0.62, 0.63, 0.64, 0.65, 0.66, 0.67, 0.68, 0.69, 0.7 ],\n",
       "       [0.71, 0.72, 0.73, 0.74, 0.75, 0.76, 0.77, 0.78, 0.79, 0.8 ],\n",
       "       [0.81, 0.82, 0.83, 0.84, 0.85, 0.86, 0.87, 0.88, 0.89, 0.9 ],\n",
       "       [0.91, 0.92, 0.93, 0.94, 0.95, 0.96, 0.97, 0.98, 0.99, 1.  ]])"
      ]
     },
     "execution_count": 11,
     "metadata": {},
     "output_type": "execute_result"
    }
   ],
   "source": [
    "np.arange(0.01, 1.01, 0.01).reshape(10, 10)"
   ]
  },
  {
   "cell_type": "markdown",
   "metadata": {
    "colab_type": "text",
    "id": "gB8kG9ZY1vYx"
   },
   "source": [
    "#### Crear un arreglo de 20 elementos equidistantes entre los valores de 0 a 1 "
   ]
  },
  {
   "cell_type": "code",
   "execution_count": 12,
   "metadata": {
    "colab": {
     "base_uri": "https://localhost:8080/",
     "height": 85
    },
    "colab_type": "code",
    "executionInfo": {
     "elapsed": 1101,
     "status": "ok",
     "timestamp": 1580866769169,
     "user": {
      "displayName": "Enrique Ramos Diaz",
      "photoUrl": "https://lh3.googleusercontent.com/a-/AAuE7mALwCJrTOMom4PfJnleVRYFJfs8M6b4od17ajBOJg=s64",
      "userId": "03180666184446923491"
     },
     "user_tz": 360
    },
    "id": "Lud7cZJu1vYy",
    "outputId": "f4577812-9861-43f3-c5c6-2eb5ab19b449"
   },
   "outputs": [
    {
     "data": {
      "text/plain": [
       "array([0.        , 0.05263158, 0.10526316, 0.15789474, 0.21052632,\n",
       "       0.26315789, 0.31578947, 0.36842105, 0.42105263, 0.47368421,\n",
       "       0.52631579, 0.57894737, 0.63157895, 0.68421053, 0.73684211,\n",
       "       0.78947368, 0.84210526, 0.89473684, 0.94736842, 1.        ])"
      ]
     },
     "execution_count": 12,
     "metadata": {},
     "output_type": "execute_result"
    }
   ],
   "source": [
    "np.linspace(0, 1, 20)"
   ]
  },
  {
   "cell_type": "markdown",
   "metadata": {
    "colab_type": "text",
    "id": "ATcSDVw11vY8"
   },
   "source": [
    "## Indexación en arreglos numpy \n",
    "\n",
    "En esta sección se evaluará su conocimiento para obtener porciones de la matriz generada, para replicarlo tienen que usar exclusivamente  indexación "
   ]
  },
  {
   "cell_type": "code",
   "execution_count": 13,
   "metadata": {
    "colab": {
     "base_uri": "https://localhost:8080/",
     "height": 102
    },
    "colab_type": "code",
    "executionInfo": {
     "elapsed": 1092,
     "status": "ok",
     "timestamp": 1580866769170,
     "user": {
      "displayName": "Enrique Ramos Diaz",
      "photoUrl": "https://lh3.googleusercontent.com/a-/AAuE7mALwCJrTOMom4PfJnleVRYFJfs8M6b4od17ajBOJg=s64",
      "userId": "03180666184446923491"
     },
     "user_tz": 360
    },
    "id": "58rHyjST1vY9",
    "outputId": "e06a9e97-3413-4d52-8827-9b7b0d9a5210"
   },
   "outputs": [
    {
     "data": {
      "text/plain": [
       "array([[ 1,  2,  3,  4,  5],\n",
       "       [ 6,  7,  8,  9, 10],\n",
       "       [11, 12, 13, 14, 15],\n",
       "       [16, 17, 18, 19, 20],\n",
       "       [21, 22, 23, 24, 25]])"
      ]
     },
     "execution_count": 13,
     "metadata": {},
     "output_type": "execute_result"
    }
   ],
   "source": [
    "mat = np.arange(1, 26).reshape(5, 5)\n",
    "mat"
   ]
  },
  {
   "cell_type": "markdown",
   "metadata": {
    "colab_type": "text",
    "id": "Q26PMF_T1vZA"
   },
   "source": [
    "Extraer la siguiente matriz: \n",
    "array([[12, 13, 14, 15],\n",
    "       [17, 18, 19, 20],\n",
    "       [22, 23, 24, 25]])"
   ]
  },
  {
   "cell_type": "code",
   "execution_count": 14,
   "metadata": {
    "colab": {
     "base_uri": "https://localhost:8080/",
     "height": 68
    },
    "colab_type": "code",
    "executionInfo": {
     "elapsed": 1343,
     "status": "ok",
     "timestamp": 1580866769433,
     "user": {
      "displayName": "Enrique Ramos Diaz",
      "photoUrl": "https://lh3.googleusercontent.com/a-/AAuE7mALwCJrTOMom4PfJnleVRYFJfs8M6b4od17ajBOJg=s64",
      "userId": "03180666184446923491"
     },
     "user_tz": 360
    },
    "id": "4TXnPVX21vZA",
    "outputId": "59a4a6af-c8eb-4fa5-e667-ccea64faa772"
   },
   "outputs": [
    {
     "data": {
      "text/plain": [
       "array([[12, 13, 14, 15],\n",
       "       [17, 18, 19, 20],\n",
       "       [22, 23, 24, 25]])"
      ]
     },
     "execution_count": 14,
     "metadata": {},
     "output_type": "execute_result"
    }
   ],
   "source": [
    "mat[2:, 1:]"
   ]
  },
  {
   "cell_type": "markdown",
   "metadata": {
    "colab_type": "text",
    "id": "qqTF5X7-1vZD"
   },
   "source": [
    "Extraer la siguiente celda:  15"
   ]
  },
  {
   "cell_type": "code",
   "execution_count": 15,
   "metadata": {
    "colab": {
     "base_uri": "https://localhost:8080/",
     "height": 34
    },
    "colab_type": "code",
    "executionInfo": {
     "elapsed": 1333,
     "status": "ok",
     "timestamp": 1580866769434,
     "user": {
      "displayName": "Enrique Ramos Diaz",
      "photoUrl": "https://lh3.googleusercontent.com/a-/AAuE7mALwCJrTOMom4PfJnleVRYFJfs8M6b4od17ajBOJg=s64",
      "userId": "03180666184446923491"
     },
     "user_tz": 360
    },
    "id": "K3ZBRh_G1vZE",
    "outputId": "50d4036c-7ca0-4420-9b5f-17b94ddcf93b"
   },
   "outputs": [
    {
     "data": {
      "text/plain": [
       "15"
      ]
     },
     "execution_count": 15,
     "metadata": {},
     "output_type": "execute_result"
    }
   ],
   "source": [
    "mat[2,4]"
   ]
  },
  {
   "cell_type": "markdown",
   "metadata": {
    "colab_type": "text",
    "id": "cJZ39G9I1vZH"
   },
   "source": [
    "Extraer la siguiente matriz: \n",
    "    array([[ 2],\n",
    "       [ 7],\n",
    "       [12]])"
   ]
  },
  {
   "cell_type": "code",
   "execution_count": 16,
   "metadata": {
    "colab": {
     "base_uri": "https://localhost:8080/",
     "height": 68
    },
    "colab_type": "code",
    "executionInfo": {
     "elapsed": 1322,
     "status": "ok",
     "timestamp": 1580866769434,
     "user": {
      "displayName": "Enrique Ramos Diaz",
      "photoUrl": "https://lh3.googleusercontent.com/a-/AAuE7mALwCJrTOMom4PfJnleVRYFJfs8M6b4od17ajBOJg=s64",
      "userId": "03180666184446923491"
     },
     "user_tz": 360
    },
    "id": "MdKHEUOp1vZI",
    "outputId": "d69c2530-eca9-461d-be6b-f2515865bc13"
   },
   "outputs": [
    {
     "data": {
      "text/plain": [
       "array([[ 2],\n",
       "       [ 7],\n",
       "       [12]])"
      ]
     },
     "execution_count": 16,
     "metadata": {},
     "output_type": "execute_result"
    }
   ],
   "source": [
    "mat[0:3, 1:2]"
   ]
  },
  {
   "cell_type": "markdown",
   "metadata": {
    "colab_type": "text",
    "id": "2ZFe6rqL1vZL"
   },
   "source": [
    "Extraer la siguiente matriz:  array([21, 22, 23, 24, 25])"
   ]
  },
  {
   "cell_type": "code",
   "execution_count": 17,
   "metadata": {
    "colab": {
     "base_uri": "https://localhost:8080/",
     "height": 34
    },
    "colab_type": "code",
    "executionInfo": {
     "elapsed": 1314,
     "status": "ok",
     "timestamp": 1580866769435,
     "user": {
      "displayName": "Enrique Ramos Diaz",
      "photoUrl": "https://lh3.googleusercontent.com/a-/AAuE7mALwCJrTOMom4PfJnleVRYFJfs8M6b4od17ajBOJg=s64",
      "userId": "03180666184446923491"
     },
     "user_tz": 360
    },
    "id": "Hy2h2iNZ1vZM",
    "outputId": "68041059-713d-4da3-a850-79f4d6f90cce"
   },
   "outputs": [
    {
     "data": {
      "text/plain": [
       "array([21, 22, 23, 24, 25])"
      ]
     },
     "execution_count": 17,
     "metadata": {},
     "output_type": "execute_result"
    }
   ],
   "source": [
    "mat[mat.shape[1] - 1]"
   ]
  },
  {
   "cell_type": "markdown",
   "metadata": {
    "colab_type": "text",
    "id": "QZQq3s551vZO"
   },
   "source": [
    "Extraer la siguiente matriz: \n",
    "    array([[16, 17, 18, 19, 20],\n",
    "       [21, 22, 23, 24, 25]])"
   ]
  },
  {
   "cell_type": "code",
   "execution_count": 18,
   "metadata": {
    "colab": {
     "base_uri": "https://localhost:8080/",
     "height": 51
    },
    "colab_type": "code",
    "executionInfo": {
     "elapsed": 1303,
     "status": "ok",
     "timestamp": 1580866769436,
     "user": {
      "displayName": "Enrique Ramos Diaz",
      "photoUrl": "https://lh3.googleusercontent.com/a-/AAuE7mALwCJrTOMom4PfJnleVRYFJfs8M6b4od17ajBOJg=s64",
      "userId": "03180666184446923491"
     },
     "user_tz": 360
    },
    "id": "j-YBFyeX1vZP",
    "outputId": "f771d2f2-a18e-4a59-f357-d4f874fdad8a"
   },
   "outputs": [
    {
     "data": {
      "text/plain": [
       "array([[16, 17, 18, 19, 20],\n",
       "       [21, 22, 23, 24, 25]])"
      ]
     },
     "execution_count": 18,
     "metadata": {},
     "output_type": "execute_result"
    }
   ],
   "source": [
    "mat[mat.shape[1] - 2:]"
   ]
  },
  {
   "cell_type": "markdown",
   "metadata": {
    "colab_type": "text",
    "id": "g8UOYboB1vZR"
   },
   "source": [
    "### Operaciones adiciones \n",
    "\n",
    "No todo puede ser cubierto por el curso sin embargo existen funciones para hacerlo [funciones universales](http://docs.scipy.org/doc/numpy/reference/ufuncs.html)\n"
   ]
  },
  {
   "cell_type": "markdown",
   "metadata": {
    "colab_type": "text",
    "id": "_z3f07ea1vZS"
   },
   "source": [
    "Obtener la suma de todos los valores en la matriz **mat**"
   ]
  },
  {
   "cell_type": "code",
   "execution_count": 19,
   "metadata": {
    "colab": {
     "base_uri": "https://localhost:8080/",
     "height": 34
    },
    "colab_type": "code",
    "executionInfo": {
     "elapsed": 1291,
     "status": "ok",
     "timestamp": 1580866769436,
     "user": {
      "displayName": "Enrique Ramos Diaz",
      "photoUrl": "https://lh3.googleusercontent.com/a-/AAuE7mALwCJrTOMom4PfJnleVRYFJfs8M6b4od17ajBOJg=s64",
      "userId": "03180666184446923491"
     },
     "user_tz": 360
    },
    "id": "zE1nd-jt1vZT",
    "outputId": "38af0220-63f4-40c6-bd05-baf8c5dce0f8"
   },
   "outputs": [
    {
     "data": {
      "text/plain": [
       "325"
      ]
     },
     "execution_count": 19,
     "metadata": {},
     "output_type": "execute_result"
    }
   ],
   "source": [
    "mat.sum()"
   ]
  },
  {
   "cell_type": "markdown",
   "metadata": {
    "colab_type": "text",
    "id": "wQFMPJd41vZV"
   },
   "source": [
    "Obtener la desviación estándar de la matriz **mat**"
   ]
  },
  {
   "cell_type": "code",
   "execution_count": 20,
   "metadata": {
    "colab": {
     "base_uri": "https://localhost:8080/",
     "height": 34
    },
    "colab_type": "code",
    "executionInfo": {
     "elapsed": 1283,
     "status": "ok",
     "timestamp": 1580866769437,
     "user": {
      "displayName": "Enrique Ramos Diaz",
      "photoUrl": "https://lh3.googleusercontent.com/a-/AAuE7mALwCJrTOMom4PfJnleVRYFJfs8M6b4od17ajBOJg=s64",
      "userId": "03180666184446923491"
     },
     "user_tz": 360
    },
    "id": "AcDh1VCq1vZW",
    "outputId": "0f12f100-9387-491a-f269-19a7d6192576"
   },
   "outputs": [
    {
     "data": {
      "text/plain": [
       "7.211102550927978"
      ]
     },
     "execution_count": 20,
     "metadata": {},
     "output_type": "execute_result"
    }
   ],
   "source": [
    "mat.std()"
   ]
  },
  {
   "cell_type": "markdown",
   "metadata": {
    "colab_type": "text",
    "id": "_ulWzy-y1vZY"
   },
   "source": [
    "Obtener la suma de cada una de las columnas en  la matriz **mat**"
   ]
  },
  {
   "cell_type": "code",
   "execution_count": 21,
   "metadata": {
    "colab": {
     "base_uri": "https://localhost:8080/",
     "height": 34
    },
    "colab_type": "code",
    "executionInfo": {
     "elapsed": 1272,
     "status": "ok",
     "timestamp": 1580866769437,
     "user": {
      "displayName": "Enrique Ramos Diaz",
      "photoUrl": "https://lh3.googleusercontent.com/a-/AAuE7mALwCJrTOMom4PfJnleVRYFJfs8M6b4od17ajBOJg=s64",
      "userId": "03180666184446923491"
     },
     "user_tz": 360
    },
    "id": "zfaTM8lp1vZZ",
    "outputId": "3b7fbff5-0e12-4bd8-82ef-07cddb90814c"
   },
   "outputs": [
    {
     "data": {
      "text/plain": [
       "array([55, 60, 65, 70, 75])"
      ]
     },
     "execution_count": 21,
     "metadata": {},
     "output_type": "execute_result"
    }
   ],
   "source": [
    "mat.sum(axis=0)"
   ]
  },
  {
   "cell_type": "markdown",
   "metadata": {
    "colab_type": "text",
    "id": "8AkqSoN41vZc"
   },
   "source": [
    "# Buen trabajo "
   ]
  }
 ],
 "metadata": {
  "colab": {
   "collapsed_sections": [],
   "name": "Numpy Ejercicio 02.ipynb",
   "provenance": []
  },
  "kernelspec": {
   "display_name": "Python 3",
   "language": "python",
   "name": "python3"
  },
  "language_info": {
   "codemirror_mode": {
    "name": "ipython",
    "version": 3
   },
   "file_extension": ".py",
   "mimetype": "text/x-python",
   "name": "python",
   "nbconvert_exporter": "python",
   "pygments_lexer": "ipython3",
   "version": "3.6.10"
  }
 },
 "nbformat": 4,
 "nbformat_minor": 4
}
