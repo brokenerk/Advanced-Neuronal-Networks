{
  "nbformat": 4,
  "nbformat_minor": 0,
  "metadata": {
    "colab": {
      "name": "Preprocesamiento_ComidaMex.ipynb",
      "provenance": [],
      "collapsed_sections": []
    },
    "kernelspec": {
      "name": "python3",
      "display_name": "Python 3"
    },
    "accelerator": "GPU"
  },
  "cells": [
    {
      "cell_type": "markdown",
      "metadata": {
        "id": "pYv5QWTmZ1M7",
        "colab_type": "text"
      },
      "source": [
        "### Importar las librerias"
      ]
    },
    {
      "cell_type": "code",
      "metadata": {
        "id": "_CSZWFYDqf5O",
        "colab_type": "code",
        "colab": {}
      },
      "source": [
        "import numpy as np\n",
        "import matplotlib.pyplot as plt\n",
        "from skimage import feature\n",
        "import tensorflow as tf\n",
        "from skimage.color import rgb2gray\n",
        "%matplotlib inline\n",
        "import os\n",
        "from sklearn.preprocessing import OneHotEncoder\n",
        "from skimage.transform import rescale\n",
        "from PIL import Image, ImageOps\n",
        "import json\n",
        "import pickle\n",
        "from sklearn.model_selection import train_test_split\n",
        "from tensorflow.keras.preprocessing.image import ImageDataGenerator"
      ],
      "execution_count": 1,
      "outputs": []
    },
    {
      "cell_type": "markdown",
      "metadata": {
        "id": "G6Q5IbygZ4gb",
        "colab_type": "text"
      },
      "source": [
        "### Importar el dataset desde Github"
      ]
    },
    {
      "cell_type": "code",
      "metadata": {
        "id": "9a7VpdRgoPlC",
        "colab_type": "code",
        "colab": {
          "base_uri": "https://localhost:8080/",
          "height": 145
        },
        "outputId": "89f6596f-2b5b-4ecb-c091-53284853b7fa"
      },
      "source": [
        "# Acceder a repo de Github\n",
        "! rm -rf dataset-food\n",
        "! git clone https://github.com/brokenerk/dataset-food.git\n",
        "! ls"
      ],
      "execution_count": 2,
      "outputs": [
        {
          "output_type": "stream",
          "text": [
            "Cloning into 'dataset-food'...\n",
            "remote: Enumerating objects: 3342, done.\u001b[K\n",
            "remote: Total 3342 (delta 0), reused 0 (delta 0), pack-reused 3342\u001b[K\n",
            "Receiving objects: 100% (3342/3342), 940.00 MiB | 15.71 MiB/s, done.\n",
            "Resolving deltas: 100% (256/256), done.\n",
            "Checking out files: 100% (2712/2712), done.\n",
            "dataset-food  sample_data\n"
          ],
          "name": "stdout"
        }
      ]
    },
    {
      "cell_type": "markdown",
      "metadata": {
        "id": "2RWDRM0JZ_nb",
        "colab_type": "text"
      },
      "source": [
        "### Clases y cantidad de imágenes por cada una\n",
        "#### Resumen del dataset"
      ]
    },
    {
      "cell_type": "code",
      "metadata": {
        "id": "Hs83xdlpq5r9",
        "colab_type": "code",
        "colab": {
          "base_uri": "https://localhost:8080/",
          "height": 1000
        },
        "outputId": "fde89da7-469a-4d88-fbd3-2fbaac8bf553"
      },
      "source": [
        "path = './dataset-food/'\n",
        "classes = []\n",
        "jsons = []\n",
        "for f in os.listdir(path):\n",
        "  if(f != \"README.md\" and f != \".git\" and f != 'pickles'):\n",
        "    classes.append(f)\n",
        "classes.sort()\n",
        "\n",
        "print(\"Total clases: \" + str(len(classes)))\n",
        "print(\"Cantidad de imagenes por platillo\\n\")\n",
        "\n",
        "for f in classes:\n",
        "  imagenes = os.listdir(path + f)\n",
        "  for i in imagenes:\n",
        "    if(i.find(\"json\") != -1 or i.find(\"JSON\") != -1):\n",
        "      jsons.append(i)\n",
        "    \n",
        "  print(f + \": \" + str(len(imagenes) - 1))\n",
        "  del imagenes\n",
        "\n",
        "jsons.sort()"
      ],
      "execution_count": 3,
      "outputs": [
        {
          "output_type": "stream",
          "text": [
            "Total clases: 53\n",
            "Cantidad de imagenes por platillo\n",
            "\n",
            "Birria: 50\n",
            "BurritoArrachera: 50\n",
            "CamaronesEmpanizadosAlCoco: 50\n",
            "ChicharronPreparado: 50\n",
            "ChongoZamorano: 50\n",
            "CoctelCamaron: 50\n",
            "ElotePreparado: 50\n",
            "EnchiladasHuastecas: 50\n",
            "EnchiladasVerdes: 50\n",
            "GorditaChicharron: 50\n",
            "Guacamole: 50\n",
            "HuevosRancheros: 50\n",
            "Milanesa: 50\n",
            "Mixiote: 50\n",
            "MojarraMojoAjo: 50\n",
            "MoleDeOlla: 50\n",
            "MolePoblano: 50\n",
            "Molletes: 50\n",
            "Pambazos: 50\n",
            "Picadillo: 50\n",
            "PicoGallo: 50\n",
            "Pozol: 50\n",
            "Pozole Verde: 50\n",
            "QuesadillasDePollo: 50\n",
            "Sopes: 50\n",
            "TacosAlPastor: 50\n",
            "TacosDorados: 50\n",
            "TamalesOaxaqueños: 50\n",
            "TampiqueñaRes: 50\n",
            "Tlacoyos: 50\n",
            "TortaAhogada: 50\n",
            "Tostadas: 50\n",
            "ajoComino: 50\n",
            "arrozRojo: 50\n",
            "chicharronSalsaVerde: 50\n",
            "chilaquilesverdes: 50\n",
            "chilesEnNogada: 50\n",
            "chilesRellenos: 50\n",
            "cochinitaPibil: 50\n",
            "enfrijoladas: 50\n",
            "esquites: 50\n",
            "frijolesOlla: 50\n",
            "huaraches: 50\n",
            "huevosalamexicana: 50\n",
            "panDeMuerto: 50\n",
            "pastel azteca: 50\n",
            "pechugaasada: 50\n",
            "pescadoVeracruzana: 50\n",
            "pozoleRojo: 50\n",
            "romeritos: 50\n",
            "tingaDePollo: 50\n",
            "tlayudas: 50\n",
            "verduras salteadas: 50\n"
          ],
          "name": "stdout"
        }
      ]
    },
    {
      "cell_type": "markdown",
      "metadata": {
        "id": "fG7G8sNVaGrz",
        "colab_type": "text"
      },
      "source": [
        "### Codificacion Onehot para las clases (platillos)\n",
        "*   Conversión del vector onehot a arreglo de numpy y float32\n",
        "\n"
      ]
    },
    {
      "cell_type": "code",
      "metadata": {
        "id": "bTXIPmPzK4fa",
        "colab_type": "code",
        "colab": {
          "base_uri": "https://localhost:8080/",
          "height": 35
        },
        "outputId": "05a52589-862e-457d-d359-887af6b09ee8"
      },
      "source": [
        "# Onehot encode\n",
        "classes_onehot = np.array(classes)\n",
        "onehot_encoder = OneHotEncoder(sparse = False)\n",
        "classes_onehot = classes_onehot.reshape(len(classes_onehot), 1)\n",
        "classes_onehot = onehot_encoder.fit_transform(classes_onehot).astype('float32')\n",
        "\n",
        "classes_onehot.shape"
      ],
      "execution_count": 4,
      "outputs": [
        {
          "output_type": "execute_result",
          "data": {
            "text/plain": [
              "(53, 53)"
            ]
          },
          "metadata": {
            "tags": []
          },
          "execution_count": 4
        }
      ]
    },
    {
      "cell_type": "markdown",
      "metadata": {
        "id": "dzIvrIZvhDRm",
        "colab_type": "text"
      },
      "source": [
        "### Data Augmentation\n",
        "Las variantes que se generan por cada imágen válida ya preprocesada son:\n",
        "\n",
        "*   Volteada a la izquierda (espejo)\n",
        "*   Volteada de cabeza\n",
        "*   Volteada de cabeza espejo (volteada a la izquierda)\n",
        "*   Saturación de color a todas las anteriores (3)\n",
        "*   Saturación de color a la imágen original\n",
        "\n",
        "Dando un total de 7 variaciones por imágen, más la imágen preprocesada original (8 en total)"
      ]
    },
    {
      "cell_type": "code",
      "metadata": {
        "id": "FhnXxzwkhGnN",
        "colab_type": "code",
        "colab": {}
      },
      "source": [
        "def dataAugmentation(image):\n",
        "  aug = ImageDataGenerator(featurewise_center=False,\n",
        "                          samplewise_center=False,\n",
        "                          featurewise_std_normalization=False,\n",
        "                          samplewise_std_normalization=False,\n",
        "                          zca_whitening=False,\n",
        "                          rotation_range=10,\n",
        "                          width_shift_range=0.05,\n",
        "                          height_shift_range=0.05,\n",
        "                          shear_range=0.1,\n",
        "                          zoom_range=0.2,\n",
        "                          channel_shift_range=0.,\n",
        "                          fill_mode='nearest',\n",
        "                          cval=0.,\n",
        "                          horizontal_flip=True,\n",
        "                          vertical_flip=False)\n",
        "  \n",
        "  da =  aug.flow(\n",
        "        image[None],\n",
        "        batch_size=8)\n",
        "\n",
        "  return da"
      ],
      "execution_count": 5,
      "outputs": []
    },
    {
      "cell_type": "markdown",
      "metadata": {
        "id": "rFFpgeXHaQ3B",
        "colab_type": "text"
      },
      "source": [
        "### Preprocesamiento de imágenes y JSON\n",
        "\n",
        "*   Dimensiones de la imágen\n",
        "*   Lectura de JSONS\n",
        "*   Revisión de canales de color para RGB\n",
        "*   Aplicación de proporcion rectangular o cuadrada\n",
        "*   Las imagenes se REESCALAN a un tamaño de 300x300\n",
        "*   Aplicación de filtros: escala de grises y bordes como canales adicionales\n",
        "*   Aplicacion de data augmentation\n",
        "*   Manejo de archivos corruptos (json e imágenes)"
      ]
    },
    {
      "cell_type": "code",
      "metadata": {
        "id": "OxaYWYb3wkcz",
        "colab_type": "code",
        "colab": {}
      },
      "source": [
        "def getDimensions(folder, imagenes, proporcion):\n",
        "  if(proporcion):\n",
        "    # Rectangular\n",
        "    width = 640\n",
        "    height = 480\n",
        "  else:\n",
        "    # Cuadrado\n",
        "    width = 500\n",
        "    height = 500\n",
        "    \n",
        "  return (width, height)"
      ],
      "execution_count": 6,
      "outputs": []
    },
    {
      "cell_type": "code",
      "metadata": {
        "id": "QJfM80_Y09Ai",
        "colab_type": "code",
        "colab": {}
      },
      "source": [
        "def preprocesarImagen(folder, imagenes, proporcion, cont, rgb, escalaGrises, bordes, applyDataAugmentation):\n",
        "  preprocessed = []\n",
        "  width, height = getDimensions(folder, imagenes, proporcion)\n",
        "  dim = 5\n",
        "\n",
        "  for i in imagenes:\n",
        "    # Lectura del JSON\n",
        "    if(i.find(\"json\") != -1 or i.find(\"JSON\") != -1):\n",
        "      try:\n",
        "        with open(path + folder + '/' + i, encoding = \"utf-8\") as json_file: \n",
        "          dict = json.load(json_file)\n",
        "          receta = [classes_onehot[cont], dict]\n",
        "          listaIngredientes.append(receta)\n",
        "        continue\n",
        "      except:\n",
        "        print(\"Error al leer JSON \" + i + \". Ignorando..\")\n",
        "        continue\n",
        "    \n",
        "    # Lectura de la imagen\n",
        "    try:\n",
        "      img = Image.open(path + folder + '/' + i)\n",
        "    except:\n",
        "        print(\"Imagen corrupta, ignorando: \" + i)\n",
        "        continue\n",
        "    \n",
        "    w, h = img.size\n",
        "    \n",
        "    w_pixels = abs(w - width)\n",
        "    h_pixels = abs(h - height)\n",
        "\n",
        "    # Se aplica la proporcion rectangular o cuadrada\n",
        "    if(h < height and w < width):\n",
        "      border = (int(w_pixels / 2), int(h_pixels / 2), int(w_pixels / 2), int(h_pixels / 2))\n",
        "      img = ImageOps.expand(img, border)\n",
        "    elif(h < height and w > width):\n",
        "      border = (int(w_pixels / 2), 0, int(w_pixels / 2), 0)\n",
        "      img = ImageOps.crop(img, border)\n",
        "      border = (0, int(h_pixels / 2), 0, int(h_pixels / 2))\n",
        "      img = ImageOps.expand(img, border)\n",
        "    elif(h > height and w < width):\n",
        "      border = (int(w_pixels / 2), 0, int(w_pixels / 2), 0)\n",
        "      img = ImageOps.expand(img, border)\n",
        "      border = (0, int(h_pixels / 2), 0, int(h_pixels / 2))\n",
        "      img = ImageOps.crop(img, border)\n",
        "    elif(h > height and w > width):\n",
        "      border = (int(w_pixels / 2), int(h_pixels / 2), int(w_pixels / 2), int(h_pixels / 2))\n",
        "      img = ImageOps.crop(img, border)\n",
        "\n",
        "    # Se hace una segunda revision para eliminar pixeles extras, resultantes de la division \n",
        "    # entre 2 de ancho y alto (en numeros nones, por ejemplo, la division no es proporcional)\n",
        "    w, h = img.size\n",
        "    w_pixels = w - width\n",
        "    h_pixels = h - height\n",
        "\n",
        "    border = (abs(w_pixels), 0, 0, 0)\n",
        "    if(w_pixels > 0):\n",
        "      img = ImageOps.crop(img, border)\n",
        "    elif (w_pixels < 0):\n",
        "      img = ImageOps.expand(img, border)\n",
        "\n",
        "    border = (0, abs(h_pixels), 0, 0)\n",
        "    if(h_pixels > 0):\n",
        "      img = ImageOps.crop(img, border)\n",
        "    elif (h_pixels < 0):\n",
        "      img = ImageOps.expand(img, border)\n",
        "\n",
        "    # Se revisan los canales para RGB\n",
        "    canales = img.getbands()\n",
        "\n",
        "    AImgRGB = np.array(img.convert('RGB'))\n",
        "    if(len(canales) > 3):\n",
        "      AImgRGB = AImgRGB[:, :, 0:3]\n",
        "\n",
        "    # Se reescala la imagen para que sea mas pequeña\n",
        "    # sin perder proporcion ni calidad\n",
        "    AImgRGB = AImgRGB.reshape((int(height / dim), dim, int(width / dim), dim, 3)).max(3).max(1)\n",
        "    AImg = None\n",
        "\n",
        "    # RGB\n",
        "    if(rgb):\n",
        "      AImg = AImgRGB\n",
        "\n",
        "    # Se aplican y agregan filtros como canales extras\n",
        "    filtro1 = np.array(img.convert('L'))\n",
        "    filtro1 = rescale(filtro1, 1 / dim, anti_aliasing = True)\n",
        "    filtro1 = filtro1.reshape(int(height / dim), int(width / dim))\n",
        "\n",
        "    # Escala de grises\n",
        "    if(escalaGrises):\n",
        "      if(isinstance(AImg, np.ndarray)):\n",
        "        AImg = np.dstack((AImg, filtro1))\n",
        "      else:\n",
        "        AImg = filtro1\n",
        "\n",
        "    # Bordes\n",
        "    if(bordes):\n",
        "      filtro2 = feature.canny(filtro1)\n",
        "      filtro2 = filtro2.reshape(int(height / dim), int(width / dim))\n",
        "      if(isinstance(AImg, np.ndarray)):\n",
        "        AImg = np.dstack((AImg, filtro2))\n",
        "      else:\n",
        "        AImg = filtro2\n",
        "\n",
        "    preprocessed.append(AImg)\n",
        "    img.close()\n",
        "\n",
        "  return preprocessed"
      ],
      "execution_count": 7,
      "outputs": []
    },
    {
      "cell_type": "code",
      "metadata": {
        "id": "SUfbu6OoC02F",
        "colab_type": "code",
        "colab": {
          "base_uri": "https://localhost:8080/",
          "height": 35
        },
        "outputId": "fab4e309-774e-43f6-ea18-f135479c2438"
      },
      "source": [
        "!rm -rf pickles/\n",
        "!mkdir pickles/\n",
        "%cd pickles/\n",
        "path = './../' + path"
      ],
      "execution_count": 8,
      "outputs": [
        {
          "output_type": "stream",
          "text": [
            "/content/pickles\n"
          ],
          "name": "stdout"
        }
      ]
    },
    {
      "cell_type": "markdown",
      "metadata": {
        "id": "txq8v6BMa3e1",
        "colab_type": "text"
      },
      "source": [
        "### Preparación y serialización de los datos \n",
        "\n",
        "*   Selección de proporcion. Rectangular = True. Cuadrado = False.\n",
        "*   Selección de filtros\n",
        "*   Selección de data augmentation\n",
        "*   Normalización de las imágenes\n",
        "*   Conversión de imágenes a arreglos de numpy y float32\n",
        "*   Generación de lista imágen + clase onehot\n",
        "*   Generación de lista clase onehot + JSON (dicccionario)\n",
        "*   Generación de pickles de imágen + clase onehot menores a 2GB"
      ]
    },
    {
      "cell_type": "code",
      "metadata": {
        "id": "44JC7zy3HBBO",
        "colab_type": "code",
        "colab": {
          "base_uri": "https://localhost:8080/",
          "height": 1000
        },
        "outputId": "e0361f98-8ee8-485e-f651-1c8b3dc5d52d"
      },
      "source": [
        "listaPlatillos = []\n",
        "listaIngredientes = []\n",
        "rgb = True\n",
        "escalaGrises = False\n",
        "bordes = False\n",
        "proporcion = False # Rectangular = True. Cuadrado = False\n",
        "applyDataAugmentation = True\n",
        "index = 0\n",
        "cont = 0\n",
        "batch = 15\n",
        "y = []\n",
        "x = []\n",
        "numDA = 20\n",
        "\n",
        "if(proporcion):\n",
        "  print(\"Proporcion RECTANGULAR\")\n",
        "else:\n",
        "  print(\"Proporcion CUADRADA\")\n",
        "\n",
        "# Recorre todas las clases\n",
        "for c in classes:\n",
        "  if(c == 'pickles'):\n",
        "    continue\n",
        "  # Obtiene las imagenes y JSON de cada clase\n",
        "  imagenes = os.listdir(path + c)\n",
        "  imagenes.sort()\n",
        "  # Preprocesamiento de los archivos\n",
        "  preprocessed = preprocesarImagen(c, imagenes, proporcion, index, rgb, escalaGrises, bordes, applyDataAugmentation)\n",
        "  del imagenes\n",
        "\n",
        "  # Se recorren las imagenes de la clase pre procesadas\n",
        "  for p in preprocessed:\n",
        "    # Se agrega la imagen y su clase onehot\n",
        "    p = p.astype('float32') / 255\n",
        "\n",
        "    # Data Augmentation\n",
        "    if(applyDataAugmentation):\n",
        "      contAug = 0\n",
        "      for aug in dataAugmentation(p):\n",
        "        aug = np.squeeze(aug, axis=0)\n",
        "        aug = aug.astype('float32')\n",
        "        platillo = [aug, classes_onehot[index]]\n",
        "        listaPlatillos.append(platillo)\n",
        "        del platillo\n",
        "        contAug += 1\n",
        "        if contAug > numDA:\n",
        "          break\n",
        "\n",
        "    platillo = [p, classes_onehot[index]]\n",
        "    listaPlatillos.append(platillo)\n",
        "    del platillo\n",
        "    tam = p.shape\n",
        "  \n",
        "  print(str(index) + \" \" + c + \" Imagenes total: \" + str(len(preprocessed) + (contAug * len(preprocessed))) + \" Tam: \" + str(tam))\n",
        "\n",
        "  # Se van guardando las imagenes en archivos pickles\n",
        "  # por partes, segun el tam de batch\n",
        "  if(index == len(classes) - 1):\n",
        "    f = open('pickle_imagenes' + str(cont), 'wb')\n",
        "    print(\"Escribiendo pickle \" + str(cont))\n",
        "    pickle.dump(listaPlatillos, f)\n",
        "    print(str(len(listaPlatillos)))\n",
        "    f.close()\n",
        "    listaPlatillos.clear()\n",
        "    cont += 1\n",
        "\n",
        "   # Ultima parte en pickle\n",
        "  if((index + 1) % batch == 0 and cont < int((len(classes) / batch))):\n",
        "    f = open('pickle_imagenes' + str(cont), 'wb')\n",
        "    print(\"Escribiendo pickle \" + str(cont))\n",
        "    pickle.dump(listaPlatillos, f)\n",
        "    print(str(len(listaPlatillos)))\n",
        "    f.close()\n",
        "    listaPlatillos.clear()\n",
        "    cont += 1\n",
        "  index += 1"
      ],
      "execution_count": 9,
      "outputs": [
        {
          "output_type": "stream",
          "text": [
            "Proporcion CUADRADA\n",
            "0 Birria Imagenes total: 1100 Tam: (100, 100, 3)\n",
            "1 BurritoArrachera Imagenes total: 1100 Tam: (100, 100, 3)\n",
            "2 CamaronesEmpanizadosAlCoco Imagenes total: 1100 Tam: (100, 100, 3)\n",
            "3 ChicharronPreparado Imagenes total: 1100 Tam: (100, 100, 3)\n",
            "4 ChongoZamorano Imagenes total: 1100 Tam: (100, 100, 3)\n"
          ],
          "name": "stdout"
        },
        {
          "output_type": "stream",
          "text": [
            "/usr/local/lib/python3.6/dist-packages/PIL/TiffImagePlugin.py:770: UserWarning: Possibly corrupt EXIF data.  Expecting to read 12 bytes but only got 10. Skipping tag 42037\n",
            "  \" Skipping tag %s\" % (size, len(data), tag)\n"
          ],
          "name": "stderr"
        },
        {
          "output_type": "stream",
          "text": [
            "5 CoctelCamaron Imagenes total: 1100 Tam: (100, 100, 3)\n",
            "6 ElotePreparado Imagenes total: 1100 Tam: (100, 100, 3)\n",
            "7 EnchiladasHuastecas Imagenes total: 1100 Tam: (100, 100, 3)\n",
            "8 EnchiladasVerdes Imagenes total: 1100 Tam: (100, 100, 3)\n",
            "9 GorditaChicharron Imagenes total: 1100 Tam: (100, 100, 3)\n",
            "10 Guacamole Imagenes total: 1100 Tam: (100, 100, 3)\n",
            "11 HuevosRancheros Imagenes total: 1100 Tam: (100, 100, 3)\n",
            "12 Milanesa Imagenes total: 1100 Tam: (100, 100, 3)\n",
            "13 Mixiote Imagenes total: 1100 Tam: (100, 100, 3)\n",
            "14 MojarraMojoAjo Imagenes total: 1100 Tam: (100, 100, 3)\n",
            "Escribiendo pickle 0\n",
            "16500\n",
            "15 MoleDeOlla Imagenes total: 1100 Tam: (100, 100, 3)\n",
            "16 MolePoblano Imagenes total: 1100 Tam: (100, 100, 3)\n",
            "17 Molletes Imagenes total: 1100 Tam: (100, 100, 3)\n",
            "18 Pambazos Imagenes total: 1100 Tam: (100, 100, 3)\n",
            "19 Picadillo Imagenes total: 1100 Tam: (100, 100, 3)\n",
            "20 PicoGallo Imagenes total: 1100 Tam: (100, 100, 3)\n",
            "21 Pozol Imagenes total: 1100 Tam: (100, 100, 3)\n",
            "22 Pozole Verde Imagenes total: 1100 Tam: (100, 100, 3)\n",
            "23 QuesadillasDePollo Imagenes total: 1100 Tam: (100, 100, 3)\n",
            "24 Sopes Imagenes total: 1100 Tam: (100, 100, 3)\n",
            "25 TacosAlPastor Imagenes total: 1100 Tam: (100, 100, 3)\n",
            "26 TacosDorados Imagenes total: 1100 Tam: (100, 100, 3)\n",
            "27 TamalesOaxaqueños Imagenes total: 1100 Tam: (100, 100, 3)\n",
            "28 TampiqueñaRes Imagenes total: 1100 Tam: (100, 100, 3)\n",
            "29 Tlacoyos Imagenes total: 1100 Tam: (100, 100, 3)\n",
            "Escribiendo pickle 1\n",
            "16500\n"
          ],
          "name": "stdout"
        },
        {
          "output_type": "stream",
          "text": [
            "/usr/local/lib/python3.6/dist-packages/PIL/TiffImagePlugin.py:788: UserWarning: Corrupt EXIF data.  Expecting to read 4 bytes but only got 0. \n",
            "  warnings.warn(str(msg))\n"
          ],
          "name": "stderr"
        },
        {
          "output_type": "stream",
          "text": [
            "30 TortaAhogada Imagenes total: 1100 Tam: (100, 100, 3)\n",
            "31 Tostadas Imagenes total: 1100 Tam: (100, 100, 3)\n",
            "32 ajoComino Imagenes total: 1100 Tam: (100, 100, 3)\n",
            "33 arrozRojo Imagenes total: 1100 Tam: (100, 100, 3)\n",
            "34 chicharronSalsaVerde Imagenes total: 1100 Tam: (100, 100, 3)\n",
            "35 chilaquilesverdes Imagenes total: 1100 Tam: (100, 100, 3)\n",
            "36 chilesEnNogada Imagenes total: 1100 Tam: (100, 100, 3)\n",
            "37 chilesRellenos Imagenes total: 1100 Tam: (100, 100, 3)\n",
            "38 cochinitaPibil Imagenes total: 1100 Tam: (100, 100, 3)\n",
            "39 enfrijoladas Imagenes total: 1100 Tam: (100, 100, 3)\n",
            "40 esquites Imagenes total: 1100 Tam: (100, 100, 3)\n",
            "41 frijolesOlla Imagenes total: 1100 Tam: (100, 100, 3)\n",
            "42 huaraches Imagenes total: 1100 Tam: (100, 100, 3)\n",
            "43 huevosalamexicana Imagenes total: 1100 Tam: (100, 100, 3)\n",
            "44 panDeMuerto Imagenes total: 1100 Tam: (100, 100, 3)\n",
            "Escribiendo pickle 2\n",
            "16500\n",
            "45 pastel azteca Imagenes total: 1100 Tam: (100, 100, 3)\n",
            "46 pechugaasada Imagenes total: 1100 Tam: (100, 100, 3)\n",
            "47 pescadoVeracruzana Imagenes total: 1100 Tam: (100, 100, 3)\n",
            "48 pozoleRojo Imagenes total: 1100 Tam: (100, 100, 3)\n",
            "49 romeritos Imagenes total: 1100 Tam: (100, 100, 3)\n",
            "50 tingaDePollo Imagenes total: 1100 Tam: (100, 100, 3)\n",
            "51 tlayudas Imagenes total: 1100 Tam: (100, 100, 3)\n",
            "52 verduras salteadas Imagenes total: 1100 Tam: (100, 100, 3)\n",
            "Escribiendo pickle 3\n",
            "8800\n"
          ],
          "name": "stdout"
        }
      ]
    },
    {
      "cell_type": "markdown",
      "metadata": {
        "id": "vVdovrqUcJ5Y",
        "colab_type": "text"
      },
      "source": [
        "##### En total los datos se dividen en 53 clases (platillos)\n",
        "\n",
        "##### Cada clase posee 50 imágenes. Un total de 2650 imágenes.\n",
        "\n",
        "##### Si se aplica data augmentation, cada clase posee 400 imágenes. Un total de 21200 imágenes.\n",
        "\n",
        "##### El numero de canales depende de los filtros aplicados.\n",
        "\n",
        "##### Si se deja solo en RGB, son 3. \n",
        "##### Si se aplican los filtros de escala de grises y deteccion de bordes, son 5.\n"
      ]
    },
    {
      "cell_type": "markdown",
      "metadata": {
        "id": "G_XQTSy8bN-M",
        "colab_type": "text"
      },
      "source": [
        "*   Generación de pickle de clase + JSON menor a 2GB"
      ]
    },
    {
      "cell_type": "code",
      "metadata": {
        "id": "cF9Djeca2Jp-",
        "colab_type": "code",
        "colab": {
          "base_uri": "https://localhost:8080/",
          "height": 72
        },
        "outputId": "9fb3fc14-91c4-430a-8ce2-77b391f7394e"
      },
      "source": [
        "f = open('pickle_jsons', 'wb')\n",
        "print(\"Escribiendo pickle jsons\")\n",
        "pickle.dump(listaIngredientes, f)\n",
        "f.close()\n",
        "\n",
        "!ls"
      ],
      "execution_count": 10,
      "outputs": [
        {
          "output_type": "stream",
          "text": [
            "Escribiendo pickle jsons\n",
            "pickle_imagenes0  pickle_imagenes2  pickle_jsons\n",
            "pickle_imagenes1  pickle_imagenes3\n"
          ],
          "name": "stdout"
        }
      ]
    },
    {
      "cell_type": "markdown",
      "metadata": {
        "id": "g2j-GM75bYUA",
        "colab_type": "text"
      },
      "source": [
        "### Escritura de archivos serializados pickles en Drive\n"
      ]
    },
    {
      "cell_type": "code",
      "metadata": {
        "id": "Ex_cVy-d2LDk",
        "colab_type": "code",
        "colab": {
          "base_uri": "https://localhost:8080/",
          "height": 146
        },
        "outputId": "489b7646-7bda-4dda-bcfc-32d4a433c497"
      },
      "source": [
        "#Nota: Utilizar cuenta vacia para guardar pickles\n",
        "# Email: colaboratory22@gmail.com\n",
        "# Password: colaboratory22\n",
        "from google.colab import drive\n",
        "drive.mount('/content/gdrive')\n",
        "\n",
        "%cd ..\n",
        "!cp -R pickles '/content/gdrive/My Drive/'"
      ],
      "execution_count": 11,
      "outputs": [
        {
          "output_type": "stream",
          "text": [
            "Go to this URL in a browser: https://accounts.google.com/o/oauth2/auth?client_id=947318989803-6bn6qk8qdgf4n4g3pfee6491hc0brc4i.apps.googleusercontent.com&redirect_uri=urn%3aietf%3awg%3aoauth%3a2.0%3aoob&response_type=code&scope=email%20https%3a%2f%2fwww.googleapis.com%2fauth%2fdocs.test%20https%3a%2f%2fwww.googleapis.com%2fauth%2fdrive%20https%3a%2f%2fwww.googleapis.com%2fauth%2fdrive.photos.readonly%20https%3a%2f%2fwww.googleapis.com%2fauth%2fpeopleapi.readonly\n",
            "\n",
            "Enter your authorization code:\n",
            "··········\n",
            "Mounted at /content/gdrive\n",
            "/content\n"
          ],
          "name": "stdout"
        }
      ]
    },
    {
      "cell_type": "markdown",
      "metadata": {
        "id": "4lJxlgWybffy",
        "colab_type": "text"
      },
      "source": [
        "### Muestra de los datos preprocesados\n",
        "Matriz de una imágen de un platillo junto a su clase onehot"
      ]
    },
    {
      "cell_type": "code",
      "metadata": {
        "id": "zkN36vBCIA55",
        "colab_type": "code",
        "colab": {
          "base_uri": "https://localhost:8080/",
          "height": 1000
        },
        "outputId": "ff6836d4-7ed7-4bfd-db52-350c7b088937"
      },
      "source": [
        "listaPlatillos = []\n",
        "f = open('pickle_imagenes0', 'rb')\n",
        "listaPlatillos = listaPlatillos + pickle.load(f, encoding='bytes')\n",
        "print(\"pickle_imagenes0 leido\");\n",
        "f.close()\n",
        "listaPlatillos[0]"
      ],
      "execution_count": 21,
      "outputs": [
        {
          "output_type": "stream",
          "text": [
            "/content/pickles\n",
            "pickle_imagenes0 leido\n"
          ],
          "name": "stdout"
        },
        {
          "output_type": "execute_result",
          "data": {
            "text/plain": [
              "[array([[[0., 0., 0.],\n",
              "         [0., 0., 0.],\n",
              "         [0., 0., 0.],\n",
              "         ...,\n",
              "         [0., 0., 0.],\n",
              "         [0., 0., 0.],\n",
              "         [0., 0., 0.]],\n",
              " \n",
              "        [[0., 0., 0.],\n",
              "         [0., 0., 0.],\n",
              "         [0., 0., 0.],\n",
              "         ...,\n",
              "         [0., 0., 0.],\n",
              "         [0., 0., 0.],\n",
              "         [0., 0., 0.]],\n",
              " \n",
              "        [[0., 0., 0.],\n",
              "         [0., 0., 0.],\n",
              "         [0., 0., 0.],\n",
              "         ...,\n",
              "         [0., 0., 0.],\n",
              "         [0., 0., 0.],\n",
              "         [0., 0., 0.]],\n",
              " \n",
              "        ...,\n",
              " \n",
              "        [[0., 0., 0.],\n",
              "         [0., 0., 0.],\n",
              "         [0., 0., 0.],\n",
              "         ...,\n",
              "         [0., 0., 0.],\n",
              "         [0., 0., 0.],\n",
              "         [0., 0., 0.]],\n",
              " \n",
              "        [[0., 0., 0.],\n",
              "         [0., 0., 0.],\n",
              "         [0., 0., 0.],\n",
              "         ...,\n",
              "         [0., 0., 0.],\n",
              "         [0., 0., 0.],\n",
              "         [0., 0., 0.]],\n",
              " \n",
              "        [[0., 0., 0.],\n",
              "         [0., 0., 0.],\n",
              "         [0., 0., 0.],\n",
              "         ...,\n",
              "         [0., 0., 0.],\n",
              "         [0., 0., 0.],\n",
              "         [0., 0., 0.]]], dtype=float32),\n",
              " array([1., 0., 0., 0., 0., 0., 0., 0., 0., 0., 0., 0., 0., 0., 0., 0., 0.,\n",
              "        0., 0., 0., 0., 0., 0., 0., 0., 0., 0., 0., 0., 0., 0., 0., 0., 0.,\n",
              "        0., 0., 0., 0., 0., 0., 0., 0., 0., 0., 0., 0., 0., 0., 0., 0., 0.,\n",
              "        0., 0.], dtype=float32)]"
            ]
          },
          "metadata": {
            "tags": []
          },
          "execution_count": 21
        }
      ]
    },
    {
      "cell_type": "markdown",
      "metadata": {
        "id": "mSUa0Ru-hrDD",
        "colab_type": "text"
      },
      "source": [
        "Tamaño de la lista de platillos"
      ]
    },
    {
      "cell_type": "code",
      "metadata": {
        "id": "bXN9jNRUhtTI",
        "colab_type": "code",
        "colab": {
          "base_uri": "https://localhost:8080/",
          "height": 35
        },
        "outputId": "96523fb0-c8de-4d0c-f688-022abc4d76b1"
      },
      "source": [
        "len(listaPlatillos)"
      ],
      "execution_count": 22,
      "outputs": [
        {
          "output_type": "execute_result",
          "data": {
            "text/plain": [
              "16500"
            ]
          },
          "metadata": {
            "tags": []
          },
          "execution_count": 22
        }
      ]
    },
    {
      "cell_type": "markdown",
      "metadata": {
        "id": "VaIJEb0eboXq",
        "colab_type": "text"
      },
      "source": [
        "#### Imagen a color RGB - 3 canales [Canales 0 - 2]"
      ]
    },
    {
      "cell_type": "code",
      "metadata": {
        "id": "LEoayf6SIPU5",
        "colab_type": "code",
        "colab": {
          "base_uri": "https://localhost:8080/",
          "height": 286
        },
        "outputId": "328d6202-e400-4fae-8a2b-e4f215c38c6d"
      },
      "source": [
        "imagenMuestra = listaPlatillos[0][0]\n",
        "plt.imshow(imagenMuestra)"
      ],
      "execution_count": 23,
      "outputs": [
        {
          "output_type": "execute_result",
          "data": {
            "text/plain": [
              "<matplotlib.image.AxesImage at 0x7fefadfe1e10>"
            ]
          },
          "metadata": {
            "tags": []
          },
          "execution_count": 23
        },
        {
          "output_type": "display_data",
          "data": {
            "image/png": "[encoded data removed]",
            "text/plain": [
              "<Figure size 432x288 with 1 Axes>"
            ]
          },
          "metadata": {
            "tags": [],
            "needs_background": "light"
          }
        }
      ]
    },
    {
      "cell_type": "markdown",
      "metadata": {
        "id": "zsIW_hOSbtHc",
        "colab_type": "text"
      },
      "source": [
        "Los ingredientes del platillo seleccionado, a modo de diccionario, junto a su clase onehot"
      ]
    },
    {
      "cell_type": "code",
      "metadata": {
        "id": "R6QNnkqjx0Ei",
        "colab_type": "code",
        "colab": {
          "base_uri": "https://localhost:8080/",
          "height": 581
        },
        "outputId": "cd5b02db-f61c-435c-8bb3-6d6aa768afac"
      },
      "source": [
        "listaIngredientes[0]"
      ],
      "execution_count": 24,
      "outputs": [
        {
          "output_type": "execute_result",
          "data": {
            "text/plain": [
              "[array([1., 0., 0., 0., 0., 0., 0., 0., 0., 0., 0., 0., 0., 0., 0., 0., 0.,\n",
              "        0., 0., 0., 0., 0., 0., 0., 0., 0., 0., 0., 0., 0., 0., 0., 0., 0.,\n",
              "        0., 0., 0., 0., 0., 0., 0., 0., 0., 0., 0., 0., 0., 0., 0., 0., 0.,\n",
              "        0., 0.], dtype=float32),\n",
              " {'Birria': [{'Calorias': 54,\n",
              "    'Cantidad': '125',\n",
              "    'Ingrediente': 'Carne de res'},\n",
              "   {'Calorias': 87, 'Cantidad': '125', 'Ingrediente': 'Pulpa de res'},\n",
              "   {'Calorias': 2, 'Cantidad': '3/4', 'Ingrediente': 'Agua'},\n",
              "   {'Calorias': 23, 'Cantidad': '12', 'Ingrediente': 'Chiles secos'},\n",
              "   {'Calorias': 8, 'Cantidad': '5', 'Ingrediente': 'Chile cascabel'},\n",
              "   {'Calorias': 22,\n",
              "    'Cantidad': '1',\n",
              "    'Ingrediente': 'Jitomate guaje o saladet'},\n",
              "   {'Calorias': 5, 'Cantidad': '3/8', 'Ingrediente': 'Ajo en polvo'},\n",
              "   {'Calorias': 7, 'Cantidad': '1/16', 'Ingrediente': 'Comino'},\n",
              "   {'Calorias': 5, 'Cantidad': '1/16', 'Ingrediente': 'Pimienta negra'},\n",
              "   {'Calorias': 6, 'Cantidad': '3/8', 'Ingrediente': 'Clavo de olor'},\n",
              "   {'Calorias': 6, 'Cantidad': '1/8', 'Ingrediente': 'Oregano'},\n",
              "   {'Calorias': 3, 'Cantidad': '1/16', 'Ingrediente': 'Mejorana'},\n",
              "   {'Calorias': 23,\n",
              "    'Cantidad': '1/8',\n",
              "    'Ingrediente': 'Cebolla blanca rebanada'},\n",
              "   {'Calorias': 5, 'Cantidad': '1/8', 'Ingrediente': 'Canela en raja'},\n",
              "   {'Calorias': 1, 'Cantidad': '7/8', 'Ingrediente': 'Vinagre blanco'},\n",
              "   {'Calorias': 0, 'Cantidad': '1/16', 'Ingrediente': 'Sal'},\n",
              "   {'Calorias': 1, 'Cantidad': '1/4', 'Ingrediente': 'Hoja de aguacate'},\n",
              "   {'Calorias': 24,\n",
              "    'Cantidad': '1/16',\n",
              "    'Ingrediente': 'Cilantro picado crudo'}],\n",
              "  'Procedencia': 'Mexico-Jalisco'}]"
            ]
          },
          "metadata": {
            "tags": []
          },
          "execution_count": 24
        }
      ]
    },
    {
      "cell_type": "markdown",
      "metadata": {
        "id": "jlkuBujwhv7o",
        "colab_type": "text"
      },
      "source": [
        "Tamaño lista de Ingredientes por platillo "
      ]
    },
    {
      "cell_type": "code",
      "metadata": {
        "id": "svCteqGFhvlG",
        "colab_type": "code",
        "colab": {
          "base_uri": "https://localhost:8080/",
          "height": 35
        },
        "outputId": "2c130571-74b8-4228-d620-4607e2c7fa9d"
      },
      "source": [
        "len(listaIngredientes)"
      ],
      "execution_count": 25,
      "outputs": [
        {
          "output_type": "execute_result",
          "data": {
            "text/plain": [
              "53"
            ]
          },
          "metadata": {
            "tags": []
          },
          "execution_count": 25
        }
      ]
    }
  ]
}