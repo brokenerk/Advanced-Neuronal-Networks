{
 "cells": [
  {
   "cell_type": "markdown",
   "metadata": {
    "colab_type": "text",
    "id": "VJTsbtollLQQ"
   },
   "source": [
    "# Matplotlib  \n",
    "\n",
    "## Instalación\n",
    "\n",
    "Para instalar matplotlib \n",
    "\n",
    "    conda install matplotlib\n",
    "\n",
    "    pip install matplotlib \n",
    "\n",
    "## Importación \n",
    "\n",
    "para importar matplotlib usar la siguiente instrucción  \n"
   ]
  },
  {
   "cell_type": "code",
   "execution_count": null,
   "metadata": {
    "colab": {},
    "colab_type": "code",
    "id": "5pTZOIUdlLQS"
   },
   "outputs": [],
   "source": [
    "import matplotlib.pyplot as plt"
   ]
  },
  {
   "cell_type": "markdown",
   "metadata": {
    "colab_type": "text",
    "id": "XO6xL4-XlLQX"
   },
   "source": [
    "Esta línea se ocupa para que se grafique entre líneas del cuaderno"
   ]
  },
  {
   "cell_type": "code",
   "execution_count": null,
   "metadata": {
    "colab": {},
    "colab_type": "code",
    "id": "vsPuSHZalLQY"
   },
   "outputs": [],
   "source": [
    "%matplotlib inline"
   ]
  },
  {
   "cell_type": "markdown",
   "metadata": {
    "colab_type": "text",
    "id": "BnaD6RD9lLQc"
   },
   "source": [
    "como alternativa a esta linea usar **plt.show()**  después de un comando de graficado\n",
    "\n",
    "## Definiendo el conjunto de pruebas "
   ]
  },
  {
   "cell_type": "code",
   "execution_count": null,
   "metadata": {
    "colab": {},
    "colab_type": "code",
    "id": "8wml2M6hlLQd"
   },
   "outputs": [],
   "source": [
    "import numpy as np\n",
    "x=np.linspace(0,5,11)\n",
    "y=x**2"
   ]
  },
  {
   "cell_type": "code",
   "execution_count": 4,
   "metadata": {
    "colab": {
     "base_uri": "https://localhost:8080/",
     "height": 34
    },
    "colab_type": "code",
    "executionInfo": {
     "elapsed": 1356,
     "status": "ok",
     "timestamp": 1580231616629,
     "user": {
      "displayName": "Enrique Ramos Diaz",
      "photoUrl": "https://lh3.googleusercontent.com/a-/AAuE7mALwCJrTOMom4PfJnleVRYFJfs8M6b4od17ajBOJg=s64",
      "userId": "03180666184446923491"
     },
     "user_tz": 360
    },
    "id": "Q7SV0VJllLQg",
    "outputId": "5eee1270-9dc4-4a53-8a97-72461e5c5ebc"
   },
   "outputs": [
    {
     "data": {
      "text/plain": [
       "array([0. , 0.5, 1. , 1.5, 2. , 2.5, 3. , 3.5, 4. , 4.5, 5. ])"
      ]
     },
     "execution_count": 4,
     "metadata": {
      "tags": []
     },
     "output_type": "execute_result"
    }
   ],
   "source": [
    "x"
   ]
  },
  {
   "cell_type": "code",
   "execution_count": 5,
   "metadata": {
    "colab": {
     "base_uri": "https://localhost:8080/",
     "height": 51
    },
    "colab_type": "code",
    "executionInfo": {
     "elapsed": 1349,
     "status": "ok",
     "timestamp": 1580231616630,
     "user": {
      "displayName": "Enrique Ramos Diaz",
      "photoUrl": "https://lh3.googleusercontent.com/a-/AAuE7mALwCJrTOMom4PfJnleVRYFJfs8M6b4od17ajBOJg=s64",
      "userId": "03180666184446923491"
     },
     "user_tz": 360
    },
    "id": "9gbw60KIlLQm",
    "outputId": "52bbacd6-947a-413b-c6fd-67b2f4e5853a"
   },
   "outputs": [
    {
     "data": {
      "text/plain": [
       "array([ 0.  ,  0.25,  1.  ,  2.25,  4.  ,  6.25,  9.  , 12.25, 16.  ,\n",
       "       20.25, 25.  ])"
      ]
     },
     "execution_count": 5,
     "metadata": {
      "tags": []
     },
     "output_type": "execute_result"
    }
   ],
   "source": [
    "y"
   ]
  },
  {
   "cell_type": "markdown",
   "metadata": {
    "colab_type": "text",
    "id": "iu5WMgR1lLQr"
   },
   "source": [
    "# Graficado Básico "
   ]
  },
  {
   "cell_type": "code",
   "execution_count": 6,
   "metadata": {
    "colab": {
     "base_uri": "https://localhost:8080/",
     "height": 312
    },
    "colab_type": "code",
    "executionInfo": {
     "elapsed": 1341,
     "status": "ok",
     "timestamp": 1580231616631,
     "user": {
      "displayName": "Enrique Ramos Diaz",
      "photoUrl": "https://lh3.googleusercontent.com/a-/AAuE7mALwCJrTOMom4PfJnleVRYFJfs8M6b4od17ajBOJg=s64",
      "userId": "03180666184446923491"
     },
     "user_tz": 360
    },
    "id": "WEJhL93MlLQs",
    "outputId": "735aced7-9b2e-470d-e303-e3e827b506b3"
   },
   "outputs": [
    {
     "data": {
      "text/plain": [
       "Text(0.5, 1.0, 'string')"
      ]
     },
     "execution_count": 6,
     "metadata": {
      "tags": []
     },
     "output_type": "execute_result"
    },
    {
     "data": {
      "image/png": "[encoded data removed]",
      "text/plain": [
       "<Figure size 432x288 with 1 Axes>"
      ]
     },
     "metadata": {
      "tags": []
     },
     "output_type": "display_data"
    }
   ],
   "source": [
    "plt.plot(x,y)\n",
    "plt.xlabel(\"xlabel\")\n",
    "plt.ylabel(\"ylabel\")\n",
    "plt.title(\"string\")"
   ]
  },
  {
   "cell_type": "markdown",
   "metadata": {
    "colab_type": "text",
    "id": "BrOmzfoClLQx"
   },
   "source": [
    "# Múltiples Gráficas "
   ]
  },
  {
   "cell_type": "code",
   "execution_count": 7,
   "metadata": {
    "colab": {
     "base_uri": "https://localhost:8080/",
     "height": 282
    },
    "colab_type": "code",
    "executionInfo": {
     "elapsed": 1747,
     "status": "ok",
     "timestamp": 1580231617077,
     "user": {
      "displayName": "Enrique Ramos Diaz",
      "photoUrl": "https://lh3.googleusercontent.com/a-/AAuE7mALwCJrTOMom4PfJnleVRYFJfs8M6b4od17ajBOJg=s64",
      "userId": "03180666184446923491"
     },
     "user_tz": 360
    },
    "id": "QfZoZ_NPlLQz",
    "outputId": "37a85128-0372-4f4e-d23c-9708e14deb1c"
   },
   "outputs": [
    {
     "data": {
      "text/plain": [
       "[<matplotlib.lines.Line2D at 0x7f8354f14320>]"
      ]
     },
     "execution_count": 7,
     "metadata": {
      "tags": []
     },
     "output_type": "execute_result"
    },
    {
     "data": {
      "image/png": "[encoded data removed]",
      "text/plain": [
       "<Figure size 432x288 with 2 Axes>"
      ]
     },
     "metadata": {
      "tags": []
     },
     "output_type": "display_data"
    }
   ],
   "source": [
    "plt.subplot(1,2,1)\n",
    "plt.plot(x,y)\n",
    "plt.subplot(1,2,2)\n",
    "plt.plot(y,x)"
   ]
  },
  {
   "cell_type": "markdown",
   "metadata": {
    "colab_type": "text",
    "id": "oUOwVJ-PlLQ-"
   },
   "source": [
    "# Método  orientado a objetos "
   ]
  },
  {
   "cell_type": "code",
   "execution_count": 8,
   "metadata": {
    "colab": {
     "base_uri": "https://localhost:8080/",
     "height": 34
    },
    "colab_type": "code",
    "executionInfo": {
     "elapsed": 1731,
     "status": "ok",
     "timestamp": 1580231617079,
     "user": {
      "displayName": "Enrique Ramos Diaz",
      "photoUrl": "https://lh3.googleusercontent.com/a-/AAuE7mALwCJrTOMom4PfJnleVRYFJfs8M6b4od17ajBOJg=s64",
      "userId": "03180666184446923491"
     },
     "user_tz": 360
    },
    "id": "JsA4kdVYlLQ_",
    "outputId": "ea7ffbc2-3a98-4b3d-e2d5-3f96bb6b8d30"
   },
   "outputs": [
    {
     "data": {
      "text/plain": [
       "<Figure size 432x288 with 0 Axes>"
      ]
     },
     "metadata": {
      "tags": []
     },
     "output_type": "display_data"
    }
   ],
   "source": [
    "fig=plt.figure()"
   ]
  },
  {
   "cell_type": "code",
   "execution_count": null,
   "metadata": {
    "colab": {},
    "colab_type": "code",
    "id": "1AwVd_z6lLRG"
   },
   "outputs": [],
   "source": [
    "axes=fig.add_axes([0.1,0.1,0.8,0.8])"
   ]
  },
  {
   "cell_type": "code",
   "execution_count": 10,
   "metadata": {
    "colab": {
     "base_uri": "https://localhost:8080/",
     "height": 282
    },
    "colab_type": "code",
    "executionInfo": {
     "elapsed": 2113,
     "status": "ok",
     "timestamp": 1580231617489,
     "user": {
      "displayName": "Enrique Ramos Diaz",
      "photoUrl": "https://lh3.googleusercontent.com/a-/AAuE7mALwCJrTOMom4PfJnleVRYFJfs8M6b4od17ajBOJg=s64",
      "userId": "03180666184446923491"
     },
     "user_tz": 360
    },
    "id": "Y1hyatWYlLRL",
    "outputId": "143c6a82-c73a-48a8-a9c1-a7bfa6257fe4"
   },
   "outputs": [
    {
     "data": {
      "image/png": "[encoded data removed]",
      "text/plain": [
       "<Figure size 432x288 with 1 Axes>"
      ]
     },
     "execution_count": 10,
     "metadata": {
      "tags": []
     },
     "output_type": "execute_result"
    }
   ],
   "source": [
    "fig"
   ]
  },
  {
   "cell_type": "code",
   "execution_count": 11,
   "metadata": {
    "colab": {
     "base_uri": "https://localhost:8080/",
     "height": 34
    },
    "colab_type": "code",
    "executionInfo": {
     "elapsed": 2103,
     "status": "ok",
     "timestamp": 1580231617490,
     "user": {
      "displayName": "Enrique Ramos Diaz",
      "photoUrl": "https://lh3.googleusercontent.com/a-/AAuE7mALwCJrTOMom4PfJnleVRYFJfs8M6b4od17ajBOJg=s64",
      "userId": "03180666184446923491"
     },
     "user_tz": 360
    },
    "id": "4v_xM8mwlLRR",
    "outputId": "6a124139-0f37-49f5-d257-92a4ee89436c"
   },
   "outputs": [
    {
     "data": {
      "text/plain": [
       "<matplotlib.axes._axes.Axes at 0x7f8354ed2978>"
      ]
     },
     "execution_count": 11,
     "metadata": {
      "tags": []
     },
     "output_type": "execute_result"
    }
   ],
   "source": [
    "axes"
   ]
  },
  {
   "cell_type": "code",
   "execution_count": 12,
   "metadata": {
    "colab": {
     "base_uri": "https://localhost:8080/",
     "height": 34
    },
    "colab_type": "code",
    "executionInfo": {
     "elapsed": 2085,
     "status": "ok",
     "timestamp": 1580231617491,
     "user": {
      "displayName": "Enrique Ramos Diaz",
      "photoUrl": "https://lh3.googleusercontent.com/a-/AAuE7mALwCJrTOMom4PfJnleVRYFJfs8M6b4od17ajBOJg=s64",
      "userId": "03180666184446923491"
     },
     "user_tz": 360
    },
    "id": "c-2DL4U9lLRY",
    "outputId": "3d355c3f-b5cb-41bd-c286-baf635b3569b"
   },
   "outputs": [
    {
     "data": {
      "text/plain": [
       "[<matplotlib.lines.Line2D at 0x7f8355ca0320>]"
      ]
     },
     "execution_count": 12,
     "metadata": {
      "tags": []
     },
     "output_type": "execute_result"
    }
   ],
   "source": [
    "axes.plot(x,y)"
   ]
  },
  {
   "cell_type": "code",
   "execution_count": 13,
   "metadata": {
    "colab": {
     "base_uri": "https://localhost:8080/",
     "height": 278
    },
    "colab_type": "code",
    "executionInfo": {
     "elapsed": 2036,
     "status": "ok",
     "timestamp": 1580231617491,
     "user": {
      "displayName": "Enrique Ramos Diaz",
      "photoUrl": "https://lh3.googleusercontent.com/a-/AAuE7mALwCJrTOMom4PfJnleVRYFJfs8M6b4od17ajBOJg=s64",
      "userId": "03180666184446923491"
     },
     "user_tz": 360
    },
    "id": "z945tXyslLRi",
    "outputId": "75a9bc06-9b9c-460e-dba7-3d5e5d4b235a"
   },
   "outputs": [
    {
     "data": {
      "image/png": "[encoded data removed]",
      "text/plain": [
       "<Figure size 432x288 with 1 Axes>"
      ]
     },
     "execution_count": 13,
     "metadata": {
      "tags": []
     },
     "output_type": "execute_result"
    }
   ],
   "source": [
    "fig"
   ]
  },
  {
   "cell_type": "code",
   "execution_count": 14,
   "metadata": {
    "colab": {
     "base_uri": "https://localhost:8080/",
     "height": 34
    },
    "colab_type": "code",
    "executionInfo": {
     "elapsed": 2026,
     "status": "ok",
     "timestamp": 1580231617492,
     "user": {
      "displayName": "Enrique Ramos Diaz",
      "photoUrl": "https://lh3.googleusercontent.com/a-/AAuE7mALwCJrTOMom4PfJnleVRYFJfs8M6b4od17ajBOJg=s64",
      "userId": "03180666184446923491"
     },
     "user_tz": 360
    },
    "id": "yGfLSgf1lLRu",
    "outputId": "1d127f71-260b-4eb2-f8be-eebb2c7465bd"
   },
   "outputs": [
    {
     "data": {
      "text/plain": [
       "Text(0.5, 1, 'title')"
      ]
     },
     "execution_count": 14,
     "metadata": {
      "tags": []
     },
     "output_type": "execute_result"
    }
   ],
   "source": [
    "axes.set_xlabel(\"xlabel\")\n",
    "axes.set_ylabel(\"ylabel\")\n",
    "axes.set_title(\"title\")"
   ]
  },
  {
   "cell_type": "code",
   "execution_count": 15,
   "metadata": {
    "colab": {
     "base_uri": "https://localhost:8080/",
     "height": 308
    },
    "colab_type": "code",
    "executionInfo": {
     "elapsed": 2654,
     "status": "ok",
     "timestamp": 1580231618131,
     "user": {
      "displayName": "Enrique Ramos Diaz",
      "photoUrl": "https://lh3.googleusercontent.com/a-/AAuE7mALwCJrTOMom4PfJnleVRYFJfs8M6b4od17ajBOJg=s64",
      "userId": "03180666184446923491"
     },
     "user_tz": 360
    },
    "id": "4aTFKIxalLR4",
    "outputId": "597fae3c-dfc0-42d1-b860-25d1603828b8"
   },
   "outputs": [
    {
     "data": {
      "image/png": "[encoded data removed]",
      "text/plain": [
       "<Figure size 432x288 with 1 Axes>"
      ]
     },
     "execution_count": 15,
     "metadata": {
      "tags": []
     },
     "output_type": "execute_result"
    }
   ],
   "source": [
    "fig"
   ]
  },
  {
   "cell_type": "code",
   "execution_count": 16,
   "metadata": {
    "colab": {
     "base_uri": "https://localhost:8080/",
     "height": 325
    },
    "colab_type": "code",
    "executionInfo": {
     "elapsed": 2645,
     "status": "ok",
     "timestamp": 1580231618132,
     "user": {
      "displayName": "Enrique Ramos Diaz",
      "photoUrl": "https://lh3.googleusercontent.com/a-/AAuE7mALwCJrTOMom4PfJnleVRYFJfs8M6b4od17ajBOJg=s64",
      "userId": "03180666184446923491"
     },
     "user_tz": 360
    },
    "id": "nmGX4MwElLSA",
    "outputId": "59aa9377-be6e-4e9c-f709-534dfd5282e2"
   },
   "outputs": [
    {
     "data": {
      "text/plain": [
       "Text(0.5, 1.0, 'title2')"
      ]
     },
     "execution_count": 16,
     "metadata": {
      "tags": []
     },
     "output_type": "execute_result"
    },
    {
     "data": {
      "image/png": "[encoded data removed]",
      "text/plain": [
       "<Figure size 432x288 with 2 Axes>"
      ]
     },
     "metadata": {
      "tags": []
     },
     "output_type": "display_data"
    }
   ],
   "source": [
    "fig=plt.figure()\n",
    "#figure1\n",
    "axes=fig.add_axes([0.1,0.1,0.8,0.8])\n",
    "axes.plot(x,y)\n",
    "axes.set_xlabel(\"xlabel\")\n",
    "axes.set_ylabel(\"ylabel\")\n",
    "axes.set_title(\"title\")\n",
    "\n",
    "#figure2\n",
    "axes2=fig.add_axes([0.2,0.5,0.4,0.3])\n",
    "axes2.plot(y,x)\n",
    "axes2.set_xlabel(\"xlabel2\")\n",
    "axes2.set_ylabel(\"ylabel2\")\n",
    "axes2.set_title(\"title2\")"
   ]
  },
  {
   "cell_type": "code",
   "execution_count": 17,
   "metadata": {
    "colab": {
     "base_uri": "https://localhost:8080/",
     "height": 312
    },
    "colab_type": "code",
    "executionInfo": {
     "elapsed": 3047,
     "status": "ok",
     "timestamp": 1580231618545,
     "user": {
      "displayName": "Enrique Ramos Diaz",
      "photoUrl": "https://lh3.googleusercontent.com/a-/AAuE7mALwCJrTOMom4PfJnleVRYFJfs8M6b4od17ajBOJg=s64",
      "userId": "03180666184446923491"
     },
     "user_tz": 360
    },
    "id": "KFzwc9krlLSG",
    "outputId": "e5bcdfe6-d816-4429-c553-6d8189ae990c"
   },
   "outputs": [
    {
     "data": {
      "text/plain": [
       "Text(0.5, 1.0, 'title')"
      ]
     },
     "execution_count": 17,
     "metadata": {
      "tags": []
     },
     "output_type": "execute_result"
    },
    {
     "data": {
      "image/png": "[encoded data removed]",
      "text/plain": [
       "<Figure size 432x288 with 1 Axes>"
      ]
     },
     "metadata": {
      "tags": []
     },
     "output_type": "display_data"
    }
   ],
   "source": [
    "fig,axes=plt.subplots()\n",
    "\n",
    "axes.plot(x,y)\n",
    "axes.set_xlabel(\"xlabel\")\n",
    "axes.set_ylabel(\"ylabel\")\n",
    "axes.set_title(\"title\")"
   ]
  },
  {
   "cell_type": "code",
   "execution_count": 18,
   "metadata": {
    "colab": {
     "base_uri": "https://localhost:8080/",
     "height": 297
    },
    "colab_type": "code",
    "executionInfo": {
     "elapsed": 3925,
     "status": "ok",
     "timestamp": 1580231619432,
     "user": {
      "displayName": "Enrique Ramos Diaz",
      "photoUrl": "https://lh3.googleusercontent.com/a-/AAuE7mALwCJrTOMom4PfJnleVRYFJfs8M6b4od17ajBOJg=s64",
      "userId": "03180666184446923491"
     },
     "user_tz": 360
    },
    "id": "BbG7VwI3lLSL",
    "outputId": "c46b3ccf-1e3f-484a-944c-f1372e00e8cb"
   },
   "outputs": [
    {
     "data": {
      "image/png": "[encoded data removed]",
      "text/plain": [
       "<Figure size 432x288 with 9 Axes>"
      ]
     },
     "metadata": {
      "tags": []
     },
     "output_type": "display_data"
    }
   ],
   "source": [
    "fig,axes=plt.subplots(nrows=3,ncols=3)\n",
    "plt.tight_layout()"
   ]
  },
  {
   "cell_type": "code",
   "execution_count": 19,
   "metadata": {
    "colab": {
     "base_uri": "https://localhost:8080/",
     "height": 279
    },
    "colab_type": "code",
    "executionInfo": {
     "elapsed": 3918,
     "status": "ok",
     "timestamp": 1580231619433,
     "user": {
      "displayName": "Enrique Ramos Diaz",
      "photoUrl": "https://lh3.googleusercontent.com/a-/AAuE7mALwCJrTOMom4PfJnleVRYFJfs8M6b4od17ajBOJg=s64",
      "userId": "03180666184446923491"
     },
     "user_tz": 360
    },
    "id": "DIVbu34PlLSP",
    "outputId": "570057e4-4470-4317-e0ed-d166e252d943"
   },
   "outputs": [
    {
     "data": {
      "image/png": "[encoded data removed]",
      "text/plain": [
       "<Figure size 432x288 with 2 Axes>"
      ]
     },
     "metadata": {
      "tags": []
     },
     "output_type": "display_data"
    }
   ],
   "source": [
    "fig,axes=plt.subplots(nrows=1,ncols=2)\n",
    "for ax in axes:\n",
    "    ax.plot(x,y)\n",
    "    ax.set_xlabel(\"x\")\n",
    "    ax.set_ylabel(\"y\")"
   ]
  },
  {
   "cell_type": "code",
   "execution_count": 20,
   "metadata": {
    "colab": {
     "base_uri": "https://localhost:8080/",
     "height": 286
    },
    "colab_type": "code",
    "executionInfo": {
     "elapsed": 4327,
     "status": "ok",
     "timestamp": 1580231619849,
     "user": {
      "displayName": "Enrique Ramos Diaz",
      "photoUrl": "https://lh3.googleusercontent.com/a-/AAuE7mALwCJrTOMom4PfJnleVRYFJfs8M6b4od17ajBOJg=s64",
      "userId": "03180666184446923491"
     },
     "user_tz": 360
    },
    "id": "e3siP71BlLSU",
    "outputId": "4ea5c2c5-7dc0-4208-8023-2b1471d73c75"
   },
   "outputs": [
    {
     "data": {
      "text/plain": [
       "[<matplotlib.lines.Line2D at 0x7f835227de10>]"
      ]
     },
     "execution_count": 20,
     "metadata": {
      "tags": []
     },
     "output_type": "execute_result"
    },
    {
     "data": {
      "image/png": "[encoded data removed]",
      "text/plain": [
       "<Figure size 432x288 with 2 Axes>"
      ]
     },
     "metadata": {
      "tags": []
     },
     "output_type": "display_data"
    }
   ],
   "source": [
    "fig,axes=plt.subplots(nrows=1,ncols=2)\n",
    "axes[1].plot(x,y)"
   ]
  },
  {
   "cell_type": "markdown",
   "metadata": {
    "colab_type": "text",
    "id": "QeJPLWfslLSX"
   },
   "source": [
    "# Propiedades de aspecto tamaño y densidad de píxeles "
   ]
  },
  {
   "cell_type": "code",
   "execution_count": 21,
   "metadata": {
    "colab": {
     "base_uri": "https://localhost:8080/",
     "height": 34
    },
    "colab_type": "code",
    "executionInfo": {
     "elapsed": 4320,
     "status": "ok",
     "timestamp": 1580231619850,
     "user": {
      "displayName": "Enrique Ramos Diaz",
      "photoUrl": "https://lh3.googleusercontent.com/a-/AAuE7mALwCJrTOMom4PfJnleVRYFJfs8M6b4od17ajBOJg=s64",
      "userId": "03180666184446923491"
     },
     "user_tz": 360
    },
    "id": "wdco1JLElLSY",
    "outputId": "1f510c3d-0665-41bd-cc92-3ebba6abcaea"
   },
   "outputs": [
    {
     "data": {
      "text/plain": [
       "<Figure size 800x400 with 0 Axes>"
      ]
     },
     "metadata": {
      "tags": []
     },
     "output_type": "display_data"
    }
   ],
   "source": [
    "fig =plt.figure(figsize=(8,4),dpi=100)"
   ]
  },
  {
   "cell_type": "code",
   "execution_count": 22,
   "metadata": {
    "colab": {
     "base_uri": "https://localhost:8080/",
     "height": 304
    },
    "colab_type": "code",
    "executionInfo": {
     "elapsed": 4997,
     "status": "ok",
     "timestamp": 1580231620534,
     "user": {
      "displayName": "Enrique Ramos Diaz",
      "photoUrl": "https://lh3.googleusercontent.com/a-/AAuE7mALwCJrTOMom4PfJnleVRYFJfs8M6b4od17ajBOJg=s64",
      "userId": "03180666184446923491"
     },
     "user_tz": 360
    },
    "id": "Q8_LKeNJlLSc",
    "outputId": "1b1bae44-5c1e-4028-ae0f-115b61e67e27"
   },
   "outputs": [
    {
     "data": {
      "text/plain": [
       "[<matplotlib.lines.Line2D at 0x7f8354d5cfd0>]"
      ]
     },
     "execution_count": 22,
     "metadata": {
      "tags": []
     },
     "output_type": "execute_result"
    },
    {
     "data": {
      "image/png": "[encoded data removed]",
      "text/plain": [
       "<Figure size 1200x300 with 1 Axes>"
      ]
     },
     "metadata": {
      "tags": []
     },
     "output_type": "display_data"
    }
   ],
   "source": [
    "fig,axes=plt.subplots(figsize=(12,3),dpi=100)\n",
    "axes.plot(x,y)"
   ]
  },
  {
   "cell_type": "markdown",
   "metadata": {
    "colab_type": "text",
    "id": "sLHigjo6lLSf"
   },
   "source": [
    "# Guardar las imágenes"
   ]
  },
  {
   "cell_type": "code",
   "execution_count": null,
   "metadata": {
    "colab": {},
    "colab_type": "code",
    "id": "6wkZjDnJlLSg"
   },
   "outputs": [],
   "source": [
    "fig.savefig(\"filename.png\",dpi=200) "
   ]
  },
  {
   "cell_type": "markdown",
   "metadata": {
    "colab_type": "text",
    "id": "zBJRKlzzlLSk"
   },
   "source": [
    "# Leyendas y etiquetas  "
   ]
  },
  {
   "cell_type": "code",
   "execution_count": 30,
   "metadata": {
    "colab": {
     "base_uri": "https://localhost:8080/",
     "height": 353
    },
    "colab_type": "code",
    "executionInfo": {
     "elapsed": 814,
     "status": "ok",
     "timestamp": 1580231660818,
     "user": {
      "displayName": "Enrique Ramos Diaz",
      "photoUrl": "https://lh3.googleusercontent.com/a-/AAuE7mALwCJrTOMom4PfJnleVRYFJfs8M6b4od17ajBOJg=s64",
      "userId": "03180666184446923491"
     },
     "user_tz": 360
    },
    "id": "TqniJDBTlLSl",
    "outputId": "2ccecdc6-b5fe-4790-881f-d60f45c3ac2b"
   },
   "outputs": [
    {
     "data": {
      "text/plain": [
       "<matplotlib.legend.Legend at 0x7f8351e095f8>"
      ]
     },
     "execution_count": 30,
     "metadata": {
      "tags": []
     },
     "output_type": "execute_result"
    },
    {
     "data": {
      "image/png": "[encoded data removed]",
      "text/plain": [
       "<Figure size 432x288 with 1 Axes>"
      ]
     },
     "metadata": {
      "tags": []
     },
     "output_type": "display_data"
    }
   ],
   "source": [
    "fig=plt.figure()\n",
    "\n",
    "ax=fig.add_axes([0,0,1,1])\n",
    "ax.plot(x,x**2,label=\"$x^2$\")\n",
    "ax.plot(x,x**3,label=\"$x^3$\")\n",
    "ax.legend()"
   ]
  },
  {
   "cell_type": "markdown",
   "metadata": {
    "colab_type": "text",
    "id": "rfOCkjy2lLSp"
   },
   "source": [
    "La función de leyenda toma un argumento opcional que puede ser usado para especificar donde aparecerá el cuadro de leyenda. [documentation page](http://matplotlib.org/users/legend_guide.html#legend-location) "
   ]
  },
  {
   "cell_type": "markdown",
   "metadata": {
    "colab_type": "text",
    "id": "hw760Y0nlLSq"
   },
   "source": [
    "# Tipos de linea "
   ]
  },
  {
   "cell_type": "code",
   "execution_count": 25,
   "metadata": {
    "colab": {
     "base_uri": "https://localhost:8080/",
     "height": 282
    },
    "colab_type": "code",
    "executionInfo": {
     "elapsed": 5445,
     "status": "ok",
     "timestamp": 1580231621006,
     "user": {
      "displayName": "Enrique Ramos Diaz",
      "photoUrl": "https://lh3.googleusercontent.com/a-/AAuE7mALwCJrTOMom4PfJnleVRYFJfs8M6b4od17ajBOJg=s64",
      "userId": "03180666184446923491"
     },
     "user_tz": 360
    },
    "id": "QYFeL3KPlLSs",
    "outputId": "4ae57613-f82e-4313-9da1-79ff3bd15ada"
   },
   "outputs": [
    {
     "data": {
      "text/plain": [
       "[<matplotlib.lines.Line2D at 0x7f835205ea58>]"
      ]
     },
     "execution_count": 25,
     "metadata": {
      "tags": []
     },
     "output_type": "execute_result"
    },
    {
     "data": {
      "image/png": "[encoded data removed]",
      "text/plain": [
       "<Figure size 432x288 with 1 Axes>"
      ]
     },
     "metadata": {
      "tags": []
     },
     "output_type": "display_data"
    }
   ],
   "source": [
    "fig,ax =plt.subplots()\n",
    "ax.plot(x,x**2,'b--')\n",
    "ax.plot(x,x**3,'g.-')"
   ]
  },
  {
   "cell_type": "markdown",
   "metadata": {
    "colab_type": "text",
    "id": "hpvLrccJlLSv"
   },
   "source": [
    "# Colores y marcadores "
   ]
  },
  {
   "cell_type": "code",
   "execution_count": 26,
   "metadata": {
    "colab": {
     "base_uri": "https://localhost:8080/",
     "height": 282
    },
    "colab_type": "code",
    "executionInfo": {
     "elapsed": 5438,
     "status": "ok",
     "timestamp": 1580231621007,
     "user": {
      "displayName": "Enrique Ramos Diaz",
      "photoUrl": "https://lh3.googleusercontent.com/a-/AAuE7mALwCJrTOMom4PfJnleVRYFJfs8M6b4od17ajBOJg=s64",
      "userId": "03180666184446923491"
     },
     "user_tz": 360
    },
    "id": "XubcVNkclLSx",
    "outputId": "b99357d3-2156-4119-8dbb-95536f4c1c06"
   },
   "outputs": [
    {
     "data": {
      "text/plain": [
       "[<matplotlib.lines.Line2D at 0x7f8352047828>]"
      ]
     },
     "execution_count": 26,
     "metadata": {
      "tags": []
     },
     "output_type": "execute_result"
    },
    {
     "data": {
      "image/png": "[encoded data removed]",
      "text/plain": [
       "<Figure size 432x288 with 1 Axes>"
      ]
     },
     "metadata": {
      "tags": []
     },
     "output_type": "display_data"
    }
   ],
   "source": [
    "fig,ax =plt.subplots()\n",
    "ax.plot(x,x+2,color=\"blue\")\n",
    "ax.plot(x,x+3,color=\"#8B008B\")\n",
    "ax.plot(x,x+4,color=\"#FF8C00\")"
   ]
  },
  {
   "cell_type": "code",
   "execution_count": 27,
   "metadata": {
    "colab": {
     "base_uri": "https://localhost:8080/",
     "height": 282
    },
    "colab_type": "code",
    "executionInfo": {
     "elapsed": 5960,
     "status": "ok",
     "timestamp": 1580231621538,
     "user": {
      "displayName": "Enrique Ramos Diaz",
      "photoUrl": "https://lh3.googleusercontent.com/a-/AAuE7mALwCJrTOMom4PfJnleVRYFJfs8M6b4od17ajBOJg=s64",
      "userId": "03180666184446923491"
     },
     "user_tz": 360
    },
    "id": "ec_e0KZIlLS1",
    "outputId": "7114d907-1c0e-4716-87dc-3c22a9385fa9"
   },
   "outputs": [
    {
     "data": {
      "text/plain": [
       "[<matplotlib.lines.Line2D at 0x7f8351f619b0>]"
      ]
     },
     "execution_count": 27,
     "metadata": {
      "tags": []
     },
     "output_type": "execute_result"
    },
    {
     "data": {
      "image/png": "[encoded data removed]",
      "text/plain": [
       "<Figure size 432x288 with 1 Axes>"
      ]
     },
     "metadata": {
      "tags": []
     },
     "output_type": "display_data"
    }
   ],
   "source": [
    "fig,ax =plt.subplots()\n",
    "ax.plot(x,x+1,color=\"red\",linewidth=0.25)\n",
    "ax.plot(x,x+2,color=\"red\",linewidth=0.50)\n",
    "ax.plot(x,x+3,color=\"red\",linewidth=1.00)\n",
    "ax.plot(x,x+4,color=\"red\",linewidth=2.00)\n",
    "\n",
    "ax.plot(x,x+5,color=\"red\",lw=1,linestyle=\"-\")\n",
    "ax.plot(x,x+6,color=\"red\",lw=1,ls=\"-.\")\n",
    "ax.plot(x,x+7,color=\"red\",lw=1,ls=\"--\")\n",
    "ax.plot(x,x+8,color=\"red\",lw=2,ls=\":\")\n",
    "\n",
    "ax.plot(x,x+9,color=\"green\",lw=1,ls=\"-\",marker=\"+\" )\n",
    "ax.plot(x,x+10,color=\"green\",lw=1,ls=\"-\",marker=\"o\")\n",
    "ax.plot(x,x+11,color=\"green\",lw=1,ls=\"-\",marker=\"s\")\n",
    "ax.plot(x,x+12,color=\"green\",lw=2,ls=\"-\",marker=\"1\")\n",
    "\n",
    "ax.plot(x,x+13,color=\"blue\",lw=1,ls=\"-\",marker=\"s\",markersize=2 )\n",
    "ax.plot(x,x+14,color=\"blue\",lw=1,ls=\"-\",marker=\"s\",markersize=3)\n",
    "ax.plot(x,x+15,color=\"blue\",lw=1,ls=\"-\",marker=\"s\",markersize=4)\n",
    "ax.plot(x,x+16,color=\"blue\",lw=2,ls=\"-\",marker=\"s\",markersize=10,markerfacecolor=\"red\",markeredgecolor=\"yellow\")"
   ]
  },
  {
   "cell_type": "markdown",
   "metadata": {
    "colab_type": "text",
    "id": "g5L7PjWIlLS5"
   },
   "source": [
    "# lecturas\n",
    "* http://www.matplotlib.org - The project web page for matplotlib.\n",
    "* https://github.com/matplotlib/matplotlib - The source code for matplotlib.\n",
    "* http://matplotlib.org/gallery.html - A large gallery showcaseing various types of plots matplotlib can create. Highly recommended! \n",
    "* http://www.loria.fr/~rougier/teaching/matplotlib - A good matplotlib tutorial.\n",
    "* http://scipy-lectures.github.io/matplotlib/matplotlib.html - Another good matplotlib reference.\n"
   ]
  }
 ],
 "metadata": {
  "colab": {
   "name": "Matplotlib.ipynb",
   "provenance": []
  },
  "kernelspec": {
   "display_name": "Python 3",
   "language": "python",
   "name": "python3"
  },
  "language_info": {
   "codemirror_mode": {
    "name": "ipython",
    "version": 3
   },
   "file_extension": ".py",
   "mimetype": "text/x-python",
   "name": "python",
   "nbconvert_exporter": "python",
   "pygments_lexer": "ipython3",
   "version": "3.7.3"
  }
 },
 "nbformat": 4,
 "nbformat_minor": 4
}
