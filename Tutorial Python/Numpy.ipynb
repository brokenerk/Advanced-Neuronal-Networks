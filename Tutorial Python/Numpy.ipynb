{
 "cells": [
  {
   "cell_type": "markdown",
   "metadata": {
    "colab_type": "text",
    "id": "n5uuMnzIl7nT"
   },
   "source": [
    "# NumPy\n",
    "\n",
    "NumPy es una libreria de algebra linear para Python, Esta libreria es particularmente importante por que el resto de librerías de cómputo científico dependen de ella de alguna manera \n",
    "\n",
    "NumPy es icreiblemente rapido a comparacion del manejo de listas en python. si quieren saber por que usar arreglos en lugar de listas pueden checarlo en [StackOverflow post](http://stackoverflow.com/questions/993984/why-numpy-instead-of-python-lists)."
   ]
  },
  {
   "cell_type": "code",
   "execution_count": 1,
   "metadata": {
    "colab": {},
    "colab_type": "code",
    "id": "v1J-ZNC2l7nU"
   },
   "outputs": [],
   "source": [
    "import numpy as np"
   ]
  },
  {
   "cell_type": "markdown",
   "metadata": {
    "colab_type": "text",
    "id": "LTl5e_s_l7nY"
   },
   "source": [
    "# Arreglos"
   ]
  },
  {
   "cell_type": "code",
   "execution_count": 2,
   "metadata": {
    "colab": {
     "base_uri": "https://localhost:8080/",
     "height": 35
    },
    "colab_type": "code",
    "executionInfo": {
     "elapsed": 531,
     "status": "ok",
     "timestamp": 1534865281848,
     "user": {
      "displayName": "Carlos Duchanoy",
      "photoUrl": "//lh6.googleusercontent.com/-gXwhi5Xb2vo/AAAAAAAAAAI/AAAAAAAAA2c/j3TkLhebLOo/s50-c-k-no/photo.jpg",
      "userId": "107498058990176578915"
     },
     "user_tz": 300
    },
    "id": "pfAJ25PYl7nZ",
    "outputId": "b81474e9-7179-489f-9f69-cacd2404ed72"
   },
   "outputs": [
    {
     "data": {
      "text/plain": [
       "[1, 2, 3]"
      ]
     },
     "execution_count": 2,
     "metadata": {},
     "output_type": "execute_result"
    }
   ],
   "source": [
    "mylist=[1,2,3]\n",
    "mylist"
   ]
  },
  {
   "cell_type": "code",
   "execution_count": 3,
   "metadata": {
    "colab": {
     "base_uri": "https://localhost:8080/",
     "height": 35
    },
    "colab_type": "code",
    "executionInfo": {
     "elapsed": 335,
     "status": "ok",
     "timestamp": 1534865298193,
     "user": {
      "displayName": "Carlos Duchanoy",
      "photoUrl": "//lh6.googleusercontent.com/-gXwhi5Xb2vo/AAAAAAAAAAI/AAAAAAAAA2c/j3TkLhebLOo/s50-c-k-no/photo.jpg",
      "userId": "107498058990176578915"
     },
     "user_tz": 300
    },
    "id": "jrA6opw3l7nf",
    "outputId": "b9d0ad2d-0769-49d8-8ebc-adb31b207cbe"
   },
   "outputs": [
    {
     "data": {
      "text/plain": [
       "array([1, 2, 3])"
      ]
     },
     "execution_count": 3,
     "metadata": {},
     "output_type": "execute_result"
    }
   ],
   "source": [
    "np.array(mylist)"
   ]
  },
  {
   "cell_type": "code",
   "execution_count": 4,
   "metadata": {
    "colab": {
     "base_uri": "https://localhost:8080/",
     "height": 35
    },
    "colab_type": "code",
    "executionInfo": {
     "elapsed": 367,
     "status": "ok",
     "timestamp": 1534865354116,
     "user": {
      "displayName": "Carlos Duchanoy",
      "photoUrl": "//lh6.googleusercontent.com/-gXwhi5Xb2vo/AAAAAAAAAAI/AAAAAAAAA2c/j3TkLhebLOo/s50-c-k-no/photo.jpg",
      "userId": "107498058990176578915"
     },
     "user_tz": 300
    },
    "id": "wHh_l9X8l7nj",
    "outputId": "7bc91ba5-2a67-4833-fc35-3bb74d9116af"
   },
   "outputs": [
    {
     "data": {
      "text/plain": [
       "[[1, 2, 3], [4, 5, 6], [7, 8, 9]]"
      ]
     },
     "execution_count": 4,
     "metadata": {},
     "output_type": "execute_result"
    }
   ],
   "source": [
    "my_matrix=[[1,2,3],[4,5,6],[7,8,9]]\n",
    "my_matrix"
   ]
  },
  {
   "cell_type": "code",
   "execution_count": 5,
   "metadata": {
    "colab": {
     "base_uri": "https://localhost:8080/",
     "height": 69
    },
    "colab_type": "code",
    "executionInfo": {
     "elapsed": 401,
     "status": "ok",
     "timestamp": 1534865357812,
     "user": {
      "displayName": "Carlos Duchanoy",
      "photoUrl": "//lh6.googleusercontent.com/-gXwhi5Xb2vo/AAAAAAAAAAI/AAAAAAAAA2c/j3TkLhebLOo/s50-c-k-no/photo.jpg",
      "userId": "107498058990176578915"
     },
     "user_tz": 300
    },
    "id": "dxLaH9i6l7nn",
    "outputId": "c7ac79a0-27bf-4165-bc5a-371594d381b5"
   },
   "outputs": [
    {
     "data": {
      "text/plain": [
       "array([[1, 2, 3],\n",
       "       [4, 5, 6],\n",
       "       [7, 8, 9]])"
      ]
     },
     "execution_count": 5,
     "metadata": {},
     "output_type": "execute_result"
    }
   ],
   "source": [
    "np.array(my_matrix)"
   ]
  },
  {
   "cell_type": "markdown",
   "metadata": {
    "colab_type": "text",
    "id": "4mZfPY3fl7nr"
   },
   "source": [
    "# Creación de arreglos y matrices  \n",
    "## Secuenciales"
   ]
  },
  {
   "cell_type": "code",
   "execution_count": 6,
   "metadata": {
    "colab": {
     "base_uri": "https://localhost:8080/",
     "height": 35
    },
    "colab_type": "code",
    "executionInfo": {
     "elapsed": 419,
     "status": "ok",
     "timestamp": 1534865409165,
     "user": {
      "displayName": "Carlos Duchanoy",
      "photoUrl": "//lh6.googleusercontent.com/-gXwhi5Xb2vo/AAAAAAAAAAI/AAAAAAAAA2c/j3TkLhebLOo/s50-c-k-no/photo.jpg",
      "userId": "107498058990176578915"
     },
     "user_tz": 300
    },
    "id": "dNzVOE_il7nr",
    "outputId": "8e5e6b2f-d08c-41b5-818e-64b9f089ba0a"
   },
   "outputs": [
    {
     "data": {
      "text/plain": [
       "array([0, 1, 2, 3, 4, 5, 6, 7, 8, 9])"
      ]
     },
     "execution_count": 6,
     "metadata": {},
     "output_type": "execute_result"
    }
   ],
   "source": [
    "np.arange(0,10)"
   ]
  },
  {
   "cell_type": "code",
   "execution_count": 7,
   "metadata": {
    "colab": {
     "base_uri": "https://localhost:8080/",
     "height": 52
    },
    "colab_type": "code",
    "executionInfo": {
     "elapsed": 376,
     "status": "ok",
     "timestamp": 1534865445145,
     "user": {
      "displayName": "Carlos Duchanoy",
      "photoUrl": "//lh6.googleusercontent.com/-gXwhi5Xb2vo/AAAAAAAAAAI/AAAAAAAAA2c/j3TkLhebLOo/s50-c-k-no/photo.jpg",
      "userId": "107498058990176578915"
     },
     "user_tz": 300
    },
    "id": "rRfEJSpfl7nv",
    "outputId": "96b52820-1cda-44bb-e71b-ef0c1c95c042"
   },
   "outputs": [
    {
     "data": {
      "text/plain": [
       "array([ 0. ,  0.5,  1. ,  1.5,  2. ,  2.5,  3. ,  3.5,  4. ,  4.5,  5. ,\n",
       "        5.5,  6. ,  6.5,  7. ,  7.5,  8. ,  8.5,  9. ,  9.5, 10. , 10.5])"
      ]
     },
     "execution_count": 7,
     "metadata": {},
     "output_type": "execute_result"
    }
   ],
   "source": [
    "np.arange(0,11,.5)"
   ]
  },
  {
   "cell_type": "markdown",
   "metadata": {
    "colab_type": "text",
    "id": "C8m7e1NFl7n4"
   },
   "source": [
    "## Ceros y Unos "
   ]
  },
  {
   "cell_type": "code",
   "execution_count": 8,
   "metadata": {
    "colab": {
     "base_uri": "https://localhost:8080/",
     "height": 35
    },
    "colab_type": "code",
    "executionInfo": {
     "elapsed": 403,
     "status": "ok",
     "timestamp": 1534865491846,
     "user": {
      "displayName": "Carlos Duchanoy",
      "photoUrl": "//lh6.googleusercontent.com/-gXwhi5Xb2vo/AAAAAAAAAAI/AAAAAAAAA2c/j3TkLhebLOo/s50-c-k-no/photo.jpg",
      "userId": "107498058990176578915"
     },
     "user_tz": 300
    },
    "id": "mtk2b6BLl7n5",
    "outputId": "211295d8-f229-489c-ac3a-2b8bdc379abf"
   },
   "outputs": [
    {
     "data": {
      "text/plain": [
       "array([0., 0., 0.])"
      ]
     },
     "execution_count": 8,
     "metadata": {},
     "output_type": "execute_result"
    }
   ],
   "source": [
    "np.zeros(3)"
   ]
  },
  {
   "cell_type": "code",
   "execution_count": 9,
   "metadata": {
    "colab": {
     "base_uri": "https://localhost:8080/",
     "height": 104
    },
    "colab_type": "code",
    "executionInfo": {
     "elapsed": 319,
     "status": "ok",
     "timestamp": 1534865508859,
     "user": {
      "displayName": "Carlos Duchanoy",
      "photoUrl": "//lh6.googleusercontent.com/-gXwhi5Xb2vo/AAAAAAAAAAI/AAAAAAAAA2c/j3TkLhebLOo/s50-c-k-no/photo.jpg",
      "userId": "107498058990176578915"
     },
     "user_tz": 300
    },
    "id": "SDSljO32l7n-",
    "outputId": "506182cd-4c79-46d6-ad5c-18216436a054"
   },
   "outputs": [
    {
     "data": {
      "text/plain": [
       "array([[0., 0., 0., 0., 0.],\n",
       "       [0., 0., 0., 0., 0.],\n",
       "       [0., 0., 0., 0., 0.],\n",
       "       [0., 0., 0., 0., 0.],\n",
       "       [0., 0., 0., 0., 0.]])"
      ]
     },
     "execution_count": 9,
     "metadata": {},
     "output_type": "execute_result"
    }
   ],
   "source": [
    "np.zeros((5,5))"
   ]
  },
  {
   "cell_type": "code",
   "execution_count": 10,
   "metadata": {
    "colab": {
     "base_uri": "https://localhost:8080/",
     "height": 35
    },
    "colab_type": "code",
    "executionInfo": {
     "elapsed": 349,
     "status": "ok",
     "timestamp": 1534865521125,
     "user": {
      "displayName": "Carlos Duchanoy",
      "photoUrl": "//lh6.googleusercontent.com/-gXwhi5Xb2vo/AAAAAAAAAAI/AAAAAAAAA2c/j3TkLhebLOo/s50-c-k-no/photo.jpg",
      "userId": "107498058990176578915"
     },
     "user_tz": 300
    },
    "id": "d-sN3Rf_l7oC",
    "outputId": "8574a732-d8b6-493a-d54f-2adf3d9ffd35"
   },
   "outputs": [
    {
     "data": {
      "text/plain": [
       "array([1., 1., 1.])"
      ]
     },
     "execution_count": 10,
     "metadata": {},
     "output_type": "execute_result"
    }
   ],
   "source": [
    "np.ones(3)"
   ]
  },
  {
   "cell_type": "code",
   "execution_count": 11,
   "metadata": {
    "colab": {
     "base_uri": "https://localhost:8080/",
     "height": 69
    },
    "colab_type": "code",
    "executionInfo": {
     "elapsed": 359,
     "status": "ok",
     "timestamp": 1534865521601,
     "user": {
      "displayName": "Carlos Duchanoy",
      "photoUrl": "//lh6.googleusercontent.com/-gXwhi5Xb2vo/AAAAAAAAAAI/AAAAAAAAA2c/j3TkLhebLOo/s50-c-k-no/photo.jpg",
      "userId": "107498058990176578915"
     },
     "user_tz": 300
    },
    "id": "QcTRyelEl7oI",
    "outputId": "b0316b3c-3a6b-4d74-dd4f-a6e7ab5c2bfa"
   },
   "outputs": [
    {
     "data": {
      "text/plain": [
       "array([[1., 1., 1.],\n",
       "       [1., 1., 1.],\n",
       "       [1., 1., 1.]])"
      ]
     },
     "execution_count": 11,
     "metadata": {},
     "output_type": "execute_result"
    }
   ],
   "source": [
    "np.ones((3,3))"
   ]
  },
  {
   "cell_type": "markdown",
   "metadata": {
    "colab_type": "text",
    "id": "RIGaR-spl7oL"
   },
   "source": [
    "## Con separaciones iguales"
   ]
  },
  {
   "cell_type": "code",
   "execution_count": 12,
   "metadata": {
    "colab": {
     "base_uri": "https://localhost:8080/",
     "height": 52
    },
    "colab_type": "code",
    "executionInfo": {
     "elapsed": 401,
     "status": "ok",
     "timestamp": 1534865563368,
     "user": {
      "displayName": "Carlos Duchanoy",
      "photoUrl": "//lh6.googleusercontent.com/-gXwhi5Xb2vo/AAAAAAAAAAI/AAAAAAAAA2c/j3TkLhebLOo/s50-c-k-no/photo.jpg",
      "userId": "107498058990176578915"
     },
     "user_tz": 300
    },
    "id": "Z2gUe_x_l7oL",
    "outputId": "f57126fd-c244-491d-d082-d4b12592359c"
   },
   "outputs": [
    {
     "data": {
      "text/plain": [
       "array([ 0.        ,  1.66666667,  3.33333333,  5.        ,  6.66666667,\n",
       "        8.33333333, 10.        ])"
      ]
     },
     "execution_count": 12,
     "metadata": {},
     "output_type": "execute_result"
    }
   ],
   "source": [
    "np.linspace(0,10,7)"
   ]
  },
  {
   "cell_type": "code",
   "execution_count": 13,
   "metadata": {
    "colab": {
     "base_uri": "https://localhost:8080/",
     "height": 191
    },
    "colab_type": "code",
    "executionInfo": {
     "elapsed": 367,
     "status": "ok",
     "timestamp": 1534865578058,
     "user": {
      "displayName": "Carlos Duchanoy",
      "photoUrl": "//lh6.googleusercontent.com/-gXwhi5Xb2vo/AAAAAAAAAAI/AAAAAAAAA2c/j3TkLhebLOo/s50-c-k-no/photo.jpg",
      "userId": "107498058990176578915"
     },
     "user_tz": 300
    },
    "id": "krNn6nJ9l7oO",
    "outputId": "0b81c7cd-1e06-4773-a0dc-c42737f306c5"
   },
   "outputs": [
    {
     "data": {
      "text/plain": [
       "array([ 0.        ,  0.20408163,  0.40816327,  0.6122449 ,  0.81632653,\n",
       "        1.02040816,  1.2244898 ,  1.42857143,  1.63265306,  1.83673469,\n",
       "        2.04081633,  2.24489796,  2.44897959,  2.65306122,  2.85714286,\n",
       "        3.06122449,  3.26530612,  3.46938776,  3.67346939,  3.87755102,\n",
       "        4.08163265,  4.28571429,  4.48979592,  4.69387755,  4.89795918,\n",
       "        5.10204082,  5.30612245,  5.51020408,  5.71428571,  5.91836735,\n",
       "        6.12244898,  6.32653061,  6.53061224,  6.73469388,  6.93877551,\n",
       "        7.14285714,  7.34693878,  7.55102041,  7.75510204,  7.95918367,\n",
       "        8.16326531,  8.36734694,  8.57142857,  8.7755102 ,  8.97959184,\n",
       "        9.18367347,  9.3877551 ,  9.59183673,  9.79591837, 10.        ])"
      ]
     },
     "execution_count": 13,
     "metadata": {},
     "output_type": "execute_result"
    }
   ],
   "source": [
    "np.linspace(0,10,50)"
   ]
  },
  {
   "cell_type": "markdown",
   "metadata": {
    "colab_type": "text",
    "id": "7t1T9gh8l7oS"
   },
   "source": [
    "## Matriz identidad "
   ]
  },
  {
   "cell_type": "code",
   "execution_count": 14,
   "metadata": {
    "colab": {
     "base_uri": "https://localhost:8080/",
     "height": 69
    },
    "colab_type": "code",
    "executionInfo": {
     "elapsed": 470,
     "status": "ok",
     "timestamp": 1534865601230,
     "user": {
      "displayName": "Carlos Duchanoy",
      "photoUrl": "//lh6.googleusercontent.com/-gXwhi5Xb2vo/AAAAAAAAAAI/AAAAAAAAA2c/j3TkLhebLOo/s50-c-k-no/photo.jpg",
      "userId": "107498058990176578915"
     },
     "user_tz": 300
    },
    "id": "ZMAAnm84l7oT",
    "outputId": "3ed04f3f-3b8a-409a-9b65-bcd8ed64bc5e"
   },
   "outputs": [
    {
     "data": {
      "text/plain": [
       "array([[1., 0., 0.],\n",
       "       [0., 1., 0.],\n",
       "       [0., 0., 1.]])"
      ]
     },
     "execution_count": 14,
     "metadata": {},
     "output_type": "execute_result"
    }
   ],
   "source": [
    "np.eye(3)"
   ]
  },
  {
   "cell_type": "markdown",
   "metadata": {
    "colab_type": "text",
    "id": "f43Q8Qgkl7oW"
   },
   "source": [
    "## Aleatorias"
   ]
  },
  {
   "cell_type": "code",
   "execution_count": 15,
   "metadata": {
    "colab": {
     "base_uri": "https://localhost:8080/",
     "height": 35
    },
    "colab_type": "code",
    "executionInfo": {
     "elapsed": 349,
     "status": "ok",
     "timestamp": 1534865634353,
     "user": {
      "displayName": "Carlos Duchanoy",
      "photoUrl": "//lh6.googleusercontent.com/-gXwhi5Xb2vo/AAAAAAAAAAI/AAAAAAAAA2c/j3TkLhebLOo/s50-c-k-no/photo.jpg",
      "userId": "107498058990176578915"
     },
     "user_tz": 300
    },
    "id": "0fNmHVurl7oX",
    "outputId": "64d206f5-a02e-4269-e0df-3a0e32891485"
   },
   "outputs": [
    {
     "data": {
      "text/plain": [
       "array([0.6460056 , 0.50865598])"
      ]
     },
     "execution_count": 15,
     "metadata": {},
     "output_type": "execute_result"
    }
   ],
   "source": [
    "np.random.rand(2)"
   ]
  },
  {
   "cell_type": "code",
   "execution_count": 16,
   "metadata": {
    "colab": {
     "base_uri": "https://localhost:8080/",
     "height": 104
    },
    "colab_type": "code",
    "executionInfo": {
     "elapsed": 316,
     "status": "ok",
     "timestamp": 1534865679641,
     "user": {
      "displayName": "Carlos Duchanoy",
      "photoUrl": "//lh6.googleusercontent.com/-gXwhi5Xb2vo/AAAAAAAAAAI/AAAAAAAAA2c/j3TkLhebLOo/s50-c-k-no/photo.jpg",
      "userId": "107498058990176578915"
     },
     "user_tz": 300
    },
    "id": "1cENb9t5l7oa",
    "outputId": "32bd6668-15ed-4528-e44e-defe2ef963fc"
   },
   "outputs": [
    {
     "data": {
      "text/plain": [
       "array([[0.62837617, 0.08365354, 0.47602442, 0.61591405, 0.74790574],\n",
       "       [0.7802593 , 0.1682082 , 0.1639358 , 0.53856588, 0.32738366],\n",
       "       [0.91410205, 0.33150083, 0.24705275, 0.84890722, 0.13693604],\n",
       "       [0.16518394, 0.49238824, 0.95234838, 0.46649672, 0.82583963],\n",
       "       [0.89137575, 0.68542323, 0.57409623, 0.11069067, 0.0389268 ]])"
      ]
     },
     "execution_count": 16,
     "metadata": {},
     "output_type": "execute_result"
    }
   ],
   "source": [
    "np.random.rand(5,5)"
   ]
  },
  {
   "cell_type": "code",
   "execution_count": 17,
   "metadata": {
    "colab": {
     "base_uri": "https://localhost:8080/",
     "height": 35
    },
    "colab_type": "code",
    "executionInfo": {
     "elapsed": 431,
     "status": "ok",
     "timestamp": 1534865698892,
     "user": {
      "displayName": "Carlos Duchanoy",
      "photoUrl": "//lh6.googleusercontent.com/-gXwhi5Xb2vo/AAAAAAAAAAI/AAAAAAAAA2c/j3TkLhebLOo/s50-c-k-no/photo.jpg",
      "userId": "107498058990176578915"
     },
     "user_tz": 300
    },
    "id": "yyTVFIISl7od",
    "outputId": "b9c28921-5273-4e2c-9f3b-777a9e908591"
   },
   "outputs": [
    {
     "data": {
      "text/plain": [
       "array([-0.541603  , -1.21237113])"
      ]
     },
     "execution_count": 17,
     "metadata": {},
     "output_type": "execute_result"
    }
   ],
   "source": [
    "np.random.randn(2)"
   ]
  },
  {
   "cell_type": "code",
   "execution_count": 18,
   "metadata": {
    "colab": {
     "base_uri": "https://localhost:8080/",
     "height": 52
    },
    "colab_type": "code",
    "executionInfo": {
     "elapsed": 395,
     "status": "ok",
     "timestamp": 1534865700167,
     "user": {
      "displayName": "Carlos Duchanoy",
      "photoUrl": "//lh6.googleusercontent.com/-gXwhi5Xb2vo/AAAAAAAAAAI/AAAAAAAAA2c/j3TkLhebLOo/s50-c-k-no/photo.jpg",
      "userId": "107498058990176578915"
     },
     "user_tz": 300
    },
    "id": "JLEWmposl7oh",
    "outputId": "66fc481f-5475-4a08-e556-1ec1af101204"
   },
   "outputs": [
    {
     "data": {
      "text/plain": [
       "array([[-1.50466052,  0.70311089],\n",
       "       [-1.71821607,  0.81869379]])"
      ]
     },
     "execution_count": 18,
     "metadata": {},
     "output_type": "execute_result"
    }
   ],
   "source": [
    "np.random.randn(2,2)"
   ]
  },
  {
   "cell_type": "code",
   "execution_count": 19,
   "metadata": {
    "colab": {
     "base_uri": "https://localhost:8080/",
     "height": 35
    },
    "colab_type": "code",
    "executionInfo": {
     "elapsed": 352,
     "status": "ok",
     "timestamp": 1534865749054,
     "user": {
      "displayName": "Carlos Duchanoy",
      "photoUrl": "//lh6.googleusercontent.com/-gXwhi5Xb2vo/AAAAAAAAAAI/AAAAAAAAA2c/j3TkLhebLOo/s50-c-k-no/photo.jpg",
      "userId": "107498058990176578915"
     },
     "user_tz": 300
    },
    "id": "xulMbqE0l7oj",
    "outputId": "e33a7c2b-2a72-44d8-ea14-a47c2196c2ab"
   },
   "outputs": [
    {
     "data": {
      "text/plain": [
       "87"
      ]
     },
     "execution_count": 19,
     "metadata": {},
     "output_type": "execute_result"
    }
   ],
   "source": [
    "np.random.randint(1,99)"
   ]
  },
  {
   "cell_type": "code",
   "execution_count": 20,
   "metadata": {
    "colab": {
     "base_uri": "https://localhost:8080/",
     "height": 35
    },
    "colab_type": "code",
    "executionInfo": {
     "elapsed": 367,
     "status": "ok",
     "timestamp": 1534865778374,
     "user": {
      "displayName": "Carlos Duchanoy",
      "photoUrl": "//lh6.googleusercontent.com/-gXwhi5Xb2vo/AAAAAAAAAAI/AAAAAAAAA2c/j3TkLhebLOo/s50-c-k-no/photo.jpg",
      "userId": "107498058990176578915"
     },
     "user_tz": 300
    },
    "id": "0sw9w6mQl7om",
    "outputId": "c27c248f-5180-4b28-c8eb-4f20353f9444"
   },
   "outputs": [
    {
     "data": {
      "text/plain": [
       "array([21, 81, 28, 62, 20, 23, 94, 65, 55, 23])"
      ]
     },
     "execution_count": 20,
     "metadata": {},
     "output_type": "execute_result"
    }
   ],
   "source": [
    "np.random.randint(1,99,10)"
   ]
  },
  {
   "cell_type": "markdown",
   "metadata": {
    "colab_type": "text",
    "id": "w0ZFdAxql7op"
   },
   "source": [
    "# Atributos y métodos "
   ]
  },
  {
   "cell_type": "code",
   "execution_count": 21,
   "metadata": {
    "colab": {},
    "colab_type": "code",
    "id": "GgwpKugMl7oq"
   },
   "outputs": [],
   "source": [
    "arr=np.arange(25)\n",
    "randarr=np.random.randint(0,50,10)"
   ]
  },
  {
   "cell_type": "code",
   "execution_count": 22,
   "metadata": {
    "colab": {
     "base_uri": "https://localhost:8080/",
     "height": 52
    },
    "colab_type": "code",
    "executionInfo": {
     "elapsed": 334,
     "status": "ok",
     "timestamp": 1534865821884,
     "user": {
      "displayName": "Carlos Duchanoy",
      "photoUrl": "//lh6.googleusercontent.com/-gXwhi5Xb2vo/AAAAAAAAAAI/AAAAAAAAA2c/j3TkLhebLOo/s50-c-k-no/photo.jpg",
      "userId": "107498058990176578915"
     },
     "user_tz": 300
    },
    "id": "SjjRUqfpl7ot",
    "outputId": "f68240e0-66cc-4f45-d85d-121d4bcdae32"
   },
   "outputs": [
    {
     "data": {
      "text/plain": [
       "array([ 0,  1,  2,  3,  4,  5,  6,  7,  8,  9, 10, 11, 12, 13, 14, 15, 16,\n",
       "       17, 18, 19, 20, 21, 22, 23, 24])"
      ]
     },
     "execution_count": 22,
     "metadata": {},
     "output_type": "execute_result"
    }
   ],
   "source": [
    "arr"
   ]
  },
  {
   "cell_type": "code",
   "execution_count": 23,
   "metadata": {
    "colab": {
     "base_uri": "https://localhost:8080/",
     "height": 35
    },
    "colab_type": "code",
    "executionInfo": {
     "elapsed": 353,
     "status": "ok",
     "timestamp": 1534865822876,
     "user": {
      "displayName": "Carlos Duchanoy",
      "photoUrl": "//lh6.googleusercontent.com/-gXwhi5Xb2vo/AAAAAAAAAAI/AAAAAAAAA2c/j3TkLhebLOo/s50-c-k-no/photo.jpg",
      "userId": "107498058990176578915"
     },
     "user_tz": 300
    },
    "id": "_r6022s4l7ow",
    "outputId": "8c86e07b-de75-4921-dbd8-0769a0618e31"
   },
   "outputs": [
    {
     "data": {
      "text/plain": [
       "array([29, 23,  0, 35, 37, 15,  7, 14,  7, 25])"
      ]
     },
     "execution_count": 23,
     "metadata": {},
     "output_type": "execute_result"
    }
   ],
   "source": [
    "randarr"
   ]
  },
  {
   "cell_type": "markdown",
   "metadata": {
    "colab_type": "text",
    "id": "xXhpA-dOl7o0"
   },
   "source": [
    "## Cambiar forma de los arreglos"
   ]
  },
  {
   "cell_type": "code",
   "execution_count": 24,
   "metadata": {
    "colab": {
     "base_uri": "https://localhost:8080/",
     "height": 104
    },
    "colab_type": "code",
    "executionInfo": {
     "elapsed": 393,
     "status": "ok",
     "timestamp": 1534865887376,
     "user": {
      "displayName": "Carlos Duchanoy",
      "photoUrl": "//lh6.googleusercontent.com/-gXwhi5Xb2vo/AAAAAAAAAAI/AAAAAAAAA2c/j3TkLhebLOo/s50-c-k-no/photo.jpg",
      "userId": "107498058990176578915"
     },
     "user_tz": 300
    },
    "id": "51ZuyFMMl7o2",
    "outputId": "0ec9f48d-4410-471f-b25d-0b0766fb83a8"
   },
   "outputs": [
    {
     "data": {
      "text/plain": [
       "array([[ 0,  1,  2,  3,  4],\n",
       "       [ 5,  6,  7,  8,  9],\n",
       "       [10, 11, 12, 13, 14],\n",
       "       [15, 16, 17, 18, 19],\n",
       "       [20, 21, 22, 23, 24]])"
      ]
     },
     "execution_count": 24,
     "metadata": {},
     "output_type": "execute_result"
    }
   ],
   "source": [
    "arr.reshape(5,5)"
   ]
  },
  {
   "cell_type": "markdown",
   "metadata": {
    "colab_type": "text",
    "id": "0gn4W_gNl7o5"
   },
   "source": [
    "## Encontrar maximos y minimos"
   ]
  },
  {
   "cell_type": "code",
   "execution_count": 25,
   "metadata": {
    "colab": {
     "base_uri": "https://localhost:8080/",
     "height": 35
    },
    "colab_type": "code",
    "executionInfo": {
     "elapsed": 395,
     "status": "ok",
     "timestamp": 1534865926483,
     "user": {
      "displayName": "Carlos Duchanoy",
      "photoUrl": "//lh6.googleusercontent.com/-gXwhi5Xb2vo/AAAAAAAAAAI/AAAAAAAAA2c/j3TkLhebLOo/s50-c-k-no/photo.jpg",
      "userId": "107498058990176578915"
     },
     "user_tz": 300
    },
    "id": "fBhp1oiLl7o5",
    "outputId": "818cdcd4-b6eb-488a-c353-29fe56ab0d5a"
   },
   "outputs": [
    {
     "data": {
      "text/plain": [
       "array([29, 23,  0, 35, 37, 15,  7, 14,  7, 25])"
      ]
     },
     "execution_count": 25,
     "metadata": {},
     "output_type": "execute_result"
    }
   ],
   "source": [
    "randarr"
   ]
  },
  {
   "cell_type": "code",
   "execution_count": 26,
   "metadata": {
    "colab": {
     "base_uri": "https://localhost:8080/",
     "height": 35
    },
    "colab_type": "code",
    "executionInfo": {
     "elapsed": 325,
     "status": "ok",
     "timestamp": 1534865941015,
     "user": {
      "displayName": "Carlos Duchanoy",
      "photoUrl": "//lh6.googleusercontent.com/-gXwhi5Xb2vo/AAAAAAAAAAI/AAAAAAAAA2c/j3TkLhebLOo/s50-c-k-no/photo.jpg",
      "userId": "107498058990176578915"
     },
     "user_tz": 300
    },
    "id": "Ue5P-sTTl7o9",
    "outputId": "48aa7121-873e-4ff3-bc79-c3a1159b540d"
   },
   "outputs": [
    {
     "data": {
      "text/plain": [
       "37"
      ]
     },
     "execution_count": 26,
     "metadata": {},
     "output_type": "execute_result"
    }
   ],
   "source": [
    "randarr.max()"
   ]
  },
  {
   "cell_type": "code",
   "execution_count": 27,
   "metadata": {
    "colab": {
     "base_uri": "https://localhost:8080/",
     "height": 35
    },
    "colab_type": "code",
    "executionInfo": {
     "elapsed": 325,
     "status": "ok",
     "timestamp": 1534865954105,
     "user": {
      "displayName": "Carlos Duchanoy",
      "photoUrl": "//lh6.googleusercontent.com/-gXwhi5Xb2vo/AAAAAAAAAAI/AAAAAAAAA2c/j3TkLhebLOo/s50-c-k-no/photo.jpg",
      "userId": "107498058990176578915"
     },
     "user_tz": 300
    },
    "id": "sFeZnWKZl7pB",
    "outputId": "d35d9dfc-6ecd-4779-d98a-3904a37e1ada"
   },
   "outputs": [
    {
     "data": {
      "text/plain": [
       "4"
      ]
     },
     "execution_count": 27,
     "metadata": {},
     "output_type": "execute_result"
    }
   ],
   "source": [
    "randarr.argmax()"
   ]
  },
  {
   "cell_type": "code",
   "execution_count": 28,
   "metadata": {
    "colab": {
     "base_uri": "https://localhost:8080/",
     "height": 35
    },
    "colab_type": "code",
    "executionInfo": {
     "elapsed": 517,
     "status": "ok",
     "timestamp": 1534865999340,
     "user": {
      "displayName": "Carlos Duchanoy",
      "photoUrl": "//lh6.googleusercontent.com/-gXwhi5Xb2vo/AAAAAAAAAAI/AAAAAAAAA2c/j3TkLhebLOo/s50-c-k-no/photo.jpg",
      "userId": "107498058990176578915"
     },
     "user_tz": 300
    },
    "id": "MBbwIkFCl7pF",
    "outputId": "d9dc1583-c663-46d4-8f60-0e4be3b262e1"
   },
   "outputs": [
    {
     "data": {
      "text/plain": [
       "0"
      ]
     },
     "execution_count": 28,
     "metadata": {},
     "output_type": "execute_result"
    }
   ],
   "source": [
    "randarr.min()"
   ]
  },
  {
   "cell_type": "code",
   "execution_count": 29,
   "metadata": {
    "colab": {
     "base_uri": "https://localhost:8080/",
     "height": 35
    },
    "colab_type": "code",
    "executionInfo": {
     "elapsed": 445,
     "status": "ok",
     "timestamp": 1534866000679,
     "user": {
      "displayName": "Carlos Duchanoy",
      "photoUrl": "//lh6.googleusercontent.com/-gXwhi5Xb2vo/AAAAAAAAAAI/AAAAAAAAA2c/j3TkLhebLOo/s50-c-k-no/photo.jpg",
      "userId": "107498058990176578915"
     },
     "user_tz": 300
    },
    "id": "Cr1_HzSGl7pI",
    "outputId": "d1cacdb6-baae-49fd-c60c-0189050ec7d0"
   },
   "outputs": [
    {
     "data": {
      "text/plain": [
       "2"
      ]
     },
     "execution_count": 29,
     "metadata": {},
     "output_type": "execute_result"
    }
   ],
   "source": [
    "randarr.argmin()"
   ]
  },
  {
   "cell_type": "markdown",
   "metadata": {
    "colab_type": "text",
    "id": "tCze_XjXl7pM"
   },
   "source": [
    "## Analizar la forma de los arreglos"
   ]
  },
  {
   "cell_type": "code",
   "execution_count": 30,
   "metadata": {
    "colab": {
     "base_uri": "https://localhost:8080/",
     "height": 35
    },
    "colab_type": "code",
    "executionInfo": {
     "elapsed": 729,
     "status": "ok",
     "timestamp": 1534866047746,
     "user": {
      "displayName": "Carlos Duchanoy",
      "photoUrl": "//lh6.googleusercontent.com/-gXwhi5Xb2vo/AAAAAAAAAAI/AAAAAAAAA2c/j3TkLhebLOo/s50-c-k-no/photo.jpg",
      "userId": "107498058990176578915"
     },
     "user_tz": 300
    },
    "id": "VzUzgmeGl7pM",
    "outputId": "f6f1c6e0-ac47-40d4-ccee-556dff41155e"
   },
   "outputs": [
    {
     "data": {
      "text/plain": [
       "(25,)"
      ]
     },
     "execution_count": 30,
     "metadata": {},
     "output_type": "execute_result"
    }
   ],
   "source": [
    "arr.shape"
   ]
  },
  {
   "cell_type": "code",
   "execution_count": 31,
   "metadata": {
    "colab": {
     "base_uri": "https://localhost:8080/",
     "height": 52
    },
    "colab_type": "code",
    "executionInfo": {
     "elapsed": 371,
     "status": "ok",
     "timestamp": 1534866092053,
     "user": {
      "displayName": "Carlos Duchanoy",
      "photoUrl": "//lh6.googleusercontent.com/-gXwhi5Xb2vo/AAAAAAAAAAI/AAAAAAAAA2c/j3TkLhebLOo/s50-c-k-no/photo.jpg",
      "userId": "107498058990176578915"
     },
     "user_tz": 300
    },
    "id": "ViCEFSrvl7pR",
    "outputId": "a14a92d1-571e-467e-a231-172632885765"
   },
   "outputs": [
    {
     "data": {
      "text/plain": [
       "array([[ 0,  1,  2,  3,  4,  5,  6,  7,  8,  9, 10, 11, 12, 13, 14, 15,\n",
       "        16, 17, 18, 19, 20, 21, 22, 23, 24]])"
      ]
     },
     "execution_count": 31,
     "metadata": {},
     "output_type": "execute_result"
    }
   ],
   "source": [
    "arr.reshape(1,25)"
   ]
  },
  {
   "cell_type": "code",
   "execution_count": 32,
   "metadata": {
    "colab": {
     "base_uri": "https://localhost:8080/",
     "height": 52
    },
    "colab_type": "code",
    "executionInfo": {
     "elapsed": 339,
     "status": "ok",
     "timestamp": 1534866094584,
     "user": {
      "displayName": "Carlos Duchanoy",
      "photoUrl": "//lh6.googleusercontent.com/-gXwhi5Xb2vo/AAAAAAAAAAI/AAAAAAAAA2c/j3TkLhebLOo/s50-c-k-no/photo.jpg",
      "userId": "107498058990176578915"
     },
     "user_tz": 300
    },
    "id": "04sTcpQyl7pU",
    "outputId": "174b5858-78e5-483d-9d67-fddbe5108a20"
   },
   "outputs": [
    {
     "data": {
      "text/plain": [
       "array([ 0,  1,  2,  3,  4,  5,  6,  7,  8,  9, 10, 11, 12, 13, 14, 15, 16,\n",
       "       17, 18, 19, 20, 21, 22, 23, 24])"
      ]
     },
     "execution_count": 32,
     "metadata": {},
     "output_type": "execute_result"
    }
   ],
   "source": [
    "arr"
   ]
  },
  {
   "cell_type": "code",
   "execution_count": 33,
   "metadata": {
    "colab": {
     "base_uri": "https://localhost:8080/",
     "height": 35
    },
    "colab_type": "code",
    "executionInfo": {
     "elapsed": 333,
     "status": "ok",
     "timestamp": 1534866156283,
     "user": {
      "displayName": "Carlos Duchanoy",
      "photoUrl": "//lh6.googleusercontent.com/-gXwhi5Xb2vo/AAAAAAAAAAI/AAAAAAAAA2c/j3TkLhebLOo/s50-c-k-no/photo.jpg",
      "userId": "107498058990176578915"
     },
     "user_tz": 300
    },
    "id": "4CQnIH-il7pY",
    "outputId": "46e16513-2671-41bb-8af8-53fe3d023758"
   },
   "outputs": [
    {
     "data": {
      "text/plain": [
       "(1, 25)"
      ]
     },
     "execution_count": 33,
     "metadata": {},
     "output_type": "execute_result"
    }
   ],
   "source": [
    "arr.reshape(1,25).shape"
   ]
  },
  {
   "cell_type": "code",
   "execution_count": 34,
   "metadata": {
    "colab": {
     "base_uri": "https://localhost:8080/",
     "height": 451
    },
    "colab_type": "code",
    "executionInfo": {
     "elapsed": 344,
     "status": "ok",
     "timestamp": 1534866165028,
     "user": {
      "displayName": "Carlos Duchanoy",
      "photoUrl": "//lh6.googleusercontent.com/-gXwhi5Xb2vo/AAAAAAAAAAI/AAAAAAAAA2c/j3TkLhebLOo/s50-c-k-no/photo.jpg",
      "userId": "107498058990176578915"
     },
     "user_tz": 300
    },
    "id": "ejVEwg4cl7pb",
    "outputId": "597f60d4-7238-42c7-ba12-fd492298031b"
   },
   "outputs": [
    {
     "data": {
      "text/plain": [
       "array([[ 0],\n",
       "       [ 1],\n",
       "       [ 2],\n",
       "       [ 3],\n",
       "       [ 4],\n",
       "       [ 5],\n",
       "       [ 6],\n",
       "       [ 7],\n",
       "       [ 8],\n",
       "       [ 9],\n",
       "       [10],\n",
       "       [11],\n",
       "       [12],\n",
       "       [13],\n",
       "       [14],\n",
       "       [15],\n",
       "       [16],\n",
       "       [17],\n",
       "       [18],\n",
       "       [19],\n",
       "       [20],\n",
       "       [21],\n",
       "       [22],\n",
       "       [23],\n",
       "       [24]])"
      ]
     },
     "execution_count": 34,
     "metadata": {},
     "output_type": "execute_result"
    }
   ],
   "source": [
    "arr.reshape(25,1)"
   ]
  },
  {
   "cell_type": "code",
   "execution_count": 35,
   "metadata": {
    "colab": {
     "base_uri": "https://localhost:8080/",
     "height": 35
    },
    "colab_type": "code",
    "executionInfo": {
     "elapsed": 543,
     "status": "ok",
     "timestamp": 1534866207975,
     "user": {
      "displayName": "Carlos Duchanoy",
      "photoUrl": "//lh6.googleusercontent.com/-gXwhi5Xb2vo/AAAAAAAAAAI/AAAAAAAAA2c/j3TkLhebLOo/s50-c-k-no/photo.jpg",
      "userId": "107498058990176578915"
     },
     "user_tz": 300
    },
    "id": "RirGeqcll7pd",
    "outputId": "17c28781-d6bf-4d44-84df-d20a245af7dd"
   },
   "outputs": [
    {
     "data": {
      "text/plain": [
       "dtype('int32')"
      ]
     },
     "execution_count": 35,
     "metadata": {},
     "output_type": "execute_result"
    }
   ],
   "source": [
    "arr.dtype"
   ]
  },
  {
   "cell_type": "markdown",
   "metadata": {
    "colab_type": "text",
    "id": "RTEiyBNBl7pq"
   },
   "source": [
    "## Indexación de arreglos "
   ]
  },
  {
   "cell_type": "code",
   "execution_count": 36,
   "metadata": {
    "colab": {
     "base_uri": "https://localhost:8080/",
     "height": 52
    },
    "colab_type": "code",
    "executionInfo": {
     "elapsed": 366,
     "status": "ok",
     "timestamp": 1534866245233,
     "user": {
      "displayName": "Carlos Duchanoy",
      "photoUrl": "//lh6.googleusercontent.com/-gXwhi5Xb2vo/AAAAAAAAAAI/AAAAAAAAA2c/j3TkLhebLOo/s50-c-k-no/photo.jpg",
      "userId": "107498058990176578915"
     },
     "user_tz": 300
    },
    "id": "B8UzulbZl7pr",
    "outputId": "893f386e-85ef-4a43-f854-cffa523a36bb"
   },
   "outputs": [
    {
     "data": {
      "text/plain": [
       "array([ 0,  1,  2,  3,  4,  5,  6,  7,  8,  9, 10, 11, 12, 13, 14, 15, 16,\n",
       "       17, 18, 19, 20, 21, 22, 23, 24])"
      ]
     },
     "execution_count": 36,
     "metadata": {},
     "output_type": "execute_result"
    }
   ],
   "source": [
    "arr"
   ]
  },
  {
   "cell_type": "code",
   "execution_count": 37,
   "metadata": {
    "colab": {
     "base_uri": "https://localhost:8080/",
     "height": 35
    },
    "colab_type": "code",
    "executionInfo": {
     "elapsed": 360,
     "status": "ok",
     "timestamp": 1534866252440,
     "user": {
      "displayName": "Carlos Duchanoy",
      "photoUrl": "//lh6.googleusercontent.com/-gXwhi5Xb2vo/AAAAAAAAAAI/AAAAAAAAA2c/j3TkLhebLOo/s50-c-k-no/photo.jpg",
      "userId": "107498058990176578915"
     },
     "user_tz": 300
    },
    "id": "NE5B-eCFl7px",
    "outputId": "11d13341-16de-46b1-996b-c7b268adc845"
   },
   "outputs": [
    {
     "data": {
      "text/plain": [
       "8"
      ]
     },
     "execution_count": 37,
     "metadata": {},
     "output_type": "execute_result"
    }
   ],
   "source": [
    "arr[8]"
   ]
  },
  {
   "cell_type": "code",
   "execution_count": 38,
   "metadata": {
    "colab": {
     "base_uri": "https://localhost:8080/",
     "height": 35
    },
    "colab_type": "code",
    "executionInfo": {
     "elapsed": 349,
     "status": "ok",
     "timestamp": 1534866276061,
     "user": {
      "displayName": "Carlos Duchanoy",
      "photoUrl": "//lh6.googleusercontent.com/-gXwhi5Xb2vo/AAAAAAAAAAI/AAAAAAAAA2c/j3TkLhebLOo/s50-c-k-no/photo.jpg",
      "userId": "107498058990176578915"
     },
     "user_tz": 300
    },
    "id": "mv-YM1hFl7p1",
    "outputId": "441a8606-453c-4325-ab4c-86a3a76be8c9"
   },
   "outputs": [
    {
     "data": {
      "text/plain": [
       "array([1, 2, 3, 4, 5, 6, 7])"
      ]
     },
     "execution_count": 38,
     "metadata": {},
     "output_type": "execute_result"
    }
   ],
   "source": [
    "arr[1:8]"
   ]
  },
  {
   "cell_type": "markdown",
   "metadata": {
    "colab_type": "text",
    "id": "m_EDjKIHl7p5"
   },
   "source": [
    "## Asignaciones múltiples"
   ]
  },
  {
   "cell_type": "code",
   "execution_count": 39,
   "metadata": {
    "colab": {},
    "colab_type": "code",
    "id": "LTeNaXCkl7p5"
   },
   "outputs": [],
   "source": [
    "arr[0:5]=100"
   ]
  },
  {
   "cell_type": "code",
   "execution_count": 40,
   "metadata": {
    "colab": {
     "base_uri": "https://localhost:8080/",
     "height": 52
    },
    "colab_type": "code",
    "executionInfo": {
     "elapsed": 363,
     "status": "ok",
     "timestamp": 1534866309468,
     "user": {
      "displayName": "Carlos Duchanoy",
      "photoUrl": "//lh6.googleusercontent.com/-gXwhi5Xb2vo/AAAAAAAAAAI/AAAAAAAAA2c/j3TkLhebLOo/s50-c-k-no/photo.jpg",
      "userId": "107498058990176578915"
     },
     "user_tz": 300
    },
    "id": "OduZ50e0l7p-",
    "outputId": "5ca5169d-1388-4435-cf7c-bdd0f11ef57f"
   },
   "outputs": [
    {
     "data": {
      "text/plain": [
       "array([100, 100, 100, 100, 100,   5,   6,   7,   8,   9,  10,  11,  12,\n",
       "        13,  14,  15,  16,  17,  18,  19,  20,  21,  22,  23,  24])"
      ]
     },
     "execution_count": 40,
     "metadata": {},
     "output_type": "execute_result"
    }
   ],
   "source": [
    "arr"
   ]
  },
  {
   "cell_type": "code",
   "execution_count": 41,
   "metadata": {
    "colab": {},
    "colab_type": "code",
    "id": "_dp5WJELl7qB"
   },
   "outputs": [],
   "source": [
    "slice_arr=arr[6:10]"
   ]
  },
  {
   "cell_type": "code",
   "execution_count": 42,
   "metadata": {
    "colab": {
     "base_uri": "https://localhost:8080/",
     "height": 35
    },
    "colab_type": "code",
    "executionInfo": {
     "elapsed": 398,
     "status": "ok",
     "timestamp": 1534866338323,
     "user": {
      "displayName": "Carlos Duchanoy",
      "photoUrl": "//lh6.googleusercontent.com/-gXwhi5Xb2vo/AAAAAAAAAAI/AAAAAAAAA2c/j3TkLhebLOo/s50-c-k-no/photo.jpg",
      "userId": "107498058990176578915"
     },
     "user_tz": 300
    },
    "id": "LSF6TIL_l7qC",
    "outputId": "840b0293-ffbc-422a-9da5-7bf573fed78a"
   },
   "outputs": [
    {
     "data": {
      "text/plain": [
       "array([6, 7, 8, 9])"
      ]
     },
     "execution_count": 42,
     "metadata": {},
     "output_type": "execute_result"
    }
   ],
   "source": [
    "slice_arr"
   ]
  },
  {
   "cell_type": "code",
   "execution_count": 43,
   "metadata": {
    "colab": {},
    "colab_type": "code",
    "id": "gVC02Ssxl7qF"
   },
   "outputs": [],
   "source": [
    "slice_arr[0:4]=99"
   ]
  },
  {
   "cell_type": "code",
   "execution_count": 44,
   "metadata": {
    "colab": {
     "base_uri": "https://localhost:8080/",
     "height": 35
    },
    "colab_type": "code",
    "executionInfo": {
     "elapsed": 631,
     "status": "ok",
     "timestamp": 1534866356126,
     "user": {
      "displayName": "Carlos Duchanoy",
      "photoUrl": "//lh6.googleusercontent.com/-gXwhi5Xb2vo/AAAAAAAAAAI/AAAAAAAAA2c/j3TkLhebLOo/s50-c-k-no/photo.jpg",
      "userId": "107498058990176578915"
     },
     "user_tz": 300
    },
    "id": "AzFuPFZQl7qH",
    "outputId": "720976e0-7464-442d-9cb5-d4d8bd631f14"
   },
   "outputs": [
    {
     "data": {
      "text/plain": [
       "array([99, 99, 99, 99])"
      ]
     },
     "execution_count": 44,
     "metadata": {},
     "output_type": "execute_result"
    }
   ],
   "source": [
    "slice_arr"
   ]
  },
  {
   "cell_type": "code",
   "execution_count": 45,
   "metadata": {
    "colab": {
     "base_uri": "https://localhost:8080/",
     "height": 52
    },
    "colab_type": "code",
    "executionInfo": {
     "elapsed": 811,
     "status": "ok",
     "timestamp": 1534866365992,
     "user": {
      "displayName": "Carlos Duchanoy",
      "photoUrl": "//lh6.googleusercontent.com/-gXwhi5Xb2vo/AAAAAAAAAAI/AAAAAAAAA2c/j3TkLhebLOo/s50-c-k-no/photo.jpg",
      "userId": "107498058990176578915"
     },
     "user_tz": 300
    },
    "id": "C4mm8bwEl7qK",
    "outputId": "3fe7c110-b14e-43f6-bff3-8891e770ab0d"
   },
   "outputs": [
    {
     "data": {
      "text/plain": [
       "array([100, 100, 100, 100, 100,   5,  99,  99,  99,  99,  10,  11,  12,\n",
       "        13,  14,  15,  16,  17,  18,  19,  20,  21,  22,  23,  24])"
      ]
     },
     "execution_count": 45,
     "metadata": {},
     "output_type": "execute_result"
    }
   ],
   "source": [
    "arr"
   ]
  },
  {
   "cell_type": "code",
   "execution_count": 46,
   "metadata": {
    "colab": {
     "base_uri": "https://localhost:8080/",
     "height": 52
    },
    "colab_type": "code",
    "executionInfo": {
     "elapsed": 334,
     "status": "ok",
     "timestamp": 1534866385050,
     "user": {
      "displayName": "Carlos Duchanoy",
      "photoUrl": "//lh6.googleusercontent.com/-gXwhi5Xb2vo/AAAAAAAAAAI/AAAAAAAAA2c/j3TkLhebLOo/s50-c-k-no/photo.jpg",
      "userId": "107498058990176578915"
     },
     "user_tz": 300
    },
    "id": "PzKcyK5cl7qL",
    "outputId": "069ebf50-a65c-4678-a800-322f97275340"
   },
   "outputs": [
    {
     "data": {
      "text/plain": [
       "array([100, 100, 100, 100, 100,   5,  99,  99,  99,  99,  10,  11,  12,\n",
       "        13,  14,  15,  16,  17,  18,  19,  20,  21,  22,  23,  24])"
      ]
     },
     "execution_count": 46,
     "metadata": {},
     "output_type": "execute_result"
    }
   ],
   "source": [
    "arr_copy=arr.copy()\n",
    "arr_copy"
   ]
  },
  {
   "cell_type": "code",
   "execution_count": 47,
   "metadata": {
    "colab": {},
    "colab_type": "code",
    "id": "LUqs749Yl7qO"
   },
   "outputs": [],
   "source": [
    "arr_copy[0:20]=20"
   ]
  },
  {
   "cell_type": "code",
   "execution_count": 48,
   "metadata": {
    "colab": {
     "base_uri": "https://localhost:8080/",
     "height": 52
    },
    "colab_type": "code",
    "executionInfo": {
     "elapsed": 335,
     "status": "ok",
     "timestamp": 1534866388730,
     "user": {
      "displayName": "Carlos Duchanoy",
      "photoUrl": "//lh6.googleusercontent.com/-gXwhi5Xb2vo/AAAAAAAAAAI/AAAAAAAAA2c/j3TkLhebLOo/s50-c-k-no/photo.jpg",
      "userId": "107498058990176578915"
     },
     "user_tz": 300
    },
    "id": "hpIjsIYQl7qQ",
    "outputId": "ed016bb5-7ba5-4287-ef7c-4313593e92f0"
   },
   "outputs": [
    {
     "data": {
      "text/plain": [
       "array([20, 20, 20, 20, 20, 20, 20, 20, 20, 20, 20, 20, 20, 20, 20, 20, 20,\n",
       "       20, 20, 20, 20, 21, 22, 23, 24])"
      ]
     },
     "execution_count": 48,
     "metadata": {},
     "output_type": "execute_result"
    }
   ],
   "source": [
    "arr_copy"
   ]
  },
  {
   "cell_type": "code",
   "execution_count": 49,
   "metadata": {
    "colab": {
     "base_uri": "https://localhost:8080/",
     "height": 52
    },
    "colab_type": "code",
    "executionInfo": {
     "elapsed": 450,
     "status": "ok",
     "timestamp": 1534866390372,
     "user": {
      "displayName": "Carlos Duchanoy",
      "photoUrl": "//lh6.googleusercontent.com/-gXwhi5Xb2vo/AAAAAAAAAAI/AAAAAAAAA2c/j3TkLhebLOo/s50-c-k-no/photo.jpg",
      "userId": "107498058990176578915"
     },
     "user_tz": 300
    },
    "id": "c9pK4kkAl7qT",
    "outputId": "b589c67d-2f36-4e23-90d2-025bbbfe44e4"
   },
   "outputs": [
    {
     "data": {
      "text/plain": [
       "array([100, 100, 100, 100, 100,   5,  99,  99,  99,  99,  10,  11,  12,\n",
       "        13,  14,  15,  16,  17,  18,  19,  20,  21,  22,  23,  24])"
      ]
     },
     "execution_count": 49,
     "metadata": {},
     "output_type": "execute_result"
    }
   ],
   "source": [
    "arr"
   ]
  },
  {
   "cell_type": "markdown",
   "metadata": {
    "colab_type": "text",
    "id": "GVozGgLPl7qX"
   },
   "source": [
    "## Indexación de matrices "
   ]
  },
  {
   "cell_type": "code",
   "execution_count": 50,
   "metadata": {
    "colab": {
     "base_uri": "https://localhost:8080/",
     "height": 69
    },
    "colab_type": "code",
    "executionInfo": {
     "elapsed": 329,
     "status": "ok",
     "timestamp": 1534866436429,
     "user": {
      "displayName": "Carlos Duchanoy",
      "photoUrl": "//lh6.googleusercontent.com/-gXwhi5Xb2vo/AAAAAAAAAAI/AAAAAAAAA2c/j3TkLhebLOo/s50-c-k-no/photo.jpg",
      "userId": "107498058990176578915"
     },
     "user_tz": 300
    },
    "id": "GD3-tBoZl7qX",
    "outputId": "163ed1d5-480f-4923-a91a-038caa9b82ba"
   },
   "outputs": [
    {
     "data": {
      "text/plain": [
       "array([[1, 2, 3],\n",
       "       [4, 5, 6],\n",
       "       [7, 8, 9]])"
      ]
     },
     "execution_count": 50,
     "metadata": {},
     "output_type": "execute_result"
    }
   ],
   "source": [
    "arr2d=np.array([[1,2,3],[4,5,6],[7,8,9]])\n",
    "arr2d"
   ]
  },
  {
   "cell_type": "code",
   "execution_count": 51,
   "metadata": {
    "colab": {
     "base_uri": "https://localhost:8080/",
     "height": 35
    },
    "colab_type": "code",
    "executionInfo": {
     "elapsed": 672,
     "status": "ok",
     "timestamp": 1534866444059,
     "user": {
      "displayName": "Carlos Duchanoy",
      "photoUrl": "//lh6.googleusercontent.com/-gXwhi5Xb2vo/AAAAAAAAAAI/AAAAAAAAA2c/j3TkLhebLOo/s50-c-k-no/photo.jpg",
      "userId": "107498058990176578915"
     },
     "user_tz": 300
    },
    "id": "JsWiCVKql7qZ",
    "outputId": "64e97b24-16f6-47c9-8152-f3cb8d4c2ced"
   },
   "outputs": [
    {
     "data": {
      "text/plain": [
       "array([4, 5, 6])"
      ]
     },
     "execution_count": 51,
     "metadata": {},
     "output_type": "execute_result"
    }
   ],
   "source": [
    "arr2d[1]"
   ]
  },
  {
   "cell_type": "code",
   "execution_count": 52,
   "metadata": {
    "colab": {
     "base_uri": "https://localhost:8080/",
     "height": 35
    },
    "colab_type": "code",
    "executionInfo": {
     "elapsed": 420,
     "status": "ok",
     "timestamp": 1534866452459,
     "user": {
      "displayName": "Carlos Duchanoy",
      "photoUrl": "//lh6.googleusercontent.com/-gXwhi5Xb2vo/AAAAAAAAAAI/AAAAAAAAA2c/j3TkLhebLOo/s50-c-k-no/photo.jpg",
      "userId": "107498058990176578915"
     },
     "user_tz": 300
    },
    "id": "4tLkLqFWl7qc",
    "outputId": "3f9af1b2-3710-4c20-ecc1-e21e0fef9198"
   },
   "outputs": [
    {
     "data": {
      "text/plain": [
       "5"
      ]
     },
     "execution_count": 52,
     "metadata": {},
     "output_type": "execute_result"
    }
   ],
   "source": [
    "arr2d[1][1]"
   ]
  },
  {
   "cell_type": "code",
   "execution_count": 53,
   "metadata": {
    "colab": {
     "base_uri": "https://localhost:8080/",
     "height": 35
    },
    "colab_type": "code",
    "executionInfo": {
     "elapsed": 330,
     "status": "ok",
     "timestamp": 1534866463689,
     "user": {
      "displayName": "Carlos Duchanoy",
      "photoUrl": "//lh6.googleusercontent.com/-gXwhi5Xb2vo/AAAAAAAAAAI/AAAAAAAAA2c/j3TkLhebLOo/s50-c-k-no/photo.jpg",
      "userId": "107498058990176578915"
     },
     "user_tz": 300
    },
    "id": "weDDRwYel7qf",
    "outputId": "ecdc1616-4c3b-4e23-ac70-b079190198fa"
   },
   "outputs": [
    {
     "data": {
      "text/plain": [
       "5"
      ]
     },
     "execution_count": 53,
     "metadata": {},
     "output_type": "execute_result"
    }
   ],
   "source": [
    "arr2d[1,1]"
   ]
  },
  {
   "cell_type": "code",
   "execution_count": 54,
   "metadata": {
    "colab": {
     "base_uri": "https://localhost:8080/",
     "height": 52
    },
    "colab_type": "code",
    "executionInfo": {
     "elapsed": 652,
     "status": "ok",
     "timestamp": 1534866477138,
     "user": {
      "displayName": "Carlos Duchanoy",
      "photoUrl": "//lh6.googleusercontent.com/-gXwhi5Xb2vo/AAAAAAAAAAI/AAAAAAAAA2c/j3TkLhebLOo/s50-c-k-no/photo.jpg",
      "userId": "107498058990176578915"
     },
     "user_tz": 300
    },
    "id": "8nT3LBp3l7qh",
    "outputId": "7538ec4a-0842-4980-9cce-27b0740e4017"
   },
   "outputs": [
    {
     "data": {
      "text/plain": [
       "array([[1, 2],\n",
       "       [4, 5]])"
      ]
     },
     "execution_count": 54,
     "metadata": {},
     "output_type": "execute_result"
    }
   ],
   "source": [
    "arr2d[0:2,0:2]"
   ]
  },
  {
   "cell_type": "code",
   "execution_count": 55,
   "metadata": {
    "colab": {
     "base_uri": "https://localhost:8080/",
     "height": 69
    },
    "colab_type": "code",
    "executionInfo": {
     "elapsed": 311,
     "status": "ok",
     "timestamp": 1534866512704,
     "user": {
      "displayName": "Carlos Duchanoy",
      "photoUrl": "//lh6.googleusercontent.com/-gXwhi5Xb2vo/AAAAAAAAAAI/AAAAAAAAA2c/j3TkLhebLOo/s50-c-k-no/photo.jpg",
      "userId": "107498058990176578915"
     },
     "user_tz": 300
    },
    "id": "7KrPHAB7l7qk",
    "outputId": "91398e38-49cd-4d07-d5cd-ea4241403ac7"
   },
   "outputs": [
    {
     "data": {
      "text/plain": [
       "array([[1, 2, 3],\n",
       "       [4, 5, 6],\n",
       "       [7, 8, 9]])"
      ]
     },
     "execution_count": 55,
     "metadata": {},
     "output_type": "execute_result"
    }
   ],
   "source": [
    "arr2d"
   ]
  },
  {
   "cell_type": "code",
   "execution_count": 56,
   "metadata": {
    "colab": {
     "base_uri": "https://localhost:8080/",
     "height": 35
    },
    "colab_type": "code",
    "executionInfo": {
     "elapsed": 331,
     "status": "ok",
     "timestamp": 1534866515480,
     "user": {
      "displayName": "Carlos Duchanoy",
      "photoUrl": "//lh6.googleusercontent.com/-gXwhi5Xb2vo/AAAAAAAAAAI/AAAAAAAAA2c/j3TkLhebLOo/s50-c-k-no/photo.jpg",
      "userId": "107498058990176578915"
     },
     "user_tz": 300
    },
    "id": "k3Bdu70hl7qo",
    "outputId": "9da16099-e9d3-4d25-e60c-d1da52cf246d"
   },
   "outputs": [
    {
     "data": {
      "text/plain": [
       "(3, 3)"
      ]
     },
     "execution_count": 56,
     "metadata": {},
     "output_type": "execute_result"
    }
   ],
   "source": [
    "arr2d.shape"
   ]
  },
  {
   "cell_type": "code",
   "execution_count": 57,
   "metadata": {
    "colab": {
     "base_uri": "https://localhost:8080/",
     "height": 35
    },
    "colab_type": "code",
    "executionInfo": {
     "elapsed": 336,
     "status": "ok",
     "timestamp": 1534866549772,
     "user": {
      "displayName": "Carlos Duchanoy",
      "photoUrl": "//lh6.googleusercontent.com/-gXwhi5Xb2vo/AAAAAAAAAAI/AAAAAAAAA2c/j3TkLhebLOo/s50-c-k-no/photo.jpg",
      "userId": "107498058990176578915"
     },
     "user_tz": 300
    },
    "id": "MFUXqK7Wl7qp",
    "outputId": "c83cd848-0c59-4ad2-d88c-9472a0a6c9ad"
   },
   "outputs": [
    {
     "data": {
      "text/plain": [
       "array([7, 8, 9])"
      ]
     },
     "execution_count": 57,
     "metadata": {},
     "output_type": "execute_result"
    }
   ],
   "source": [
    "arr2d[arr2d.shape[1]-1]"
   ]
  },
  {
   "cell_type": "code",
   "execution_count": 58,
   "metadata": {
    "colab": {
     "base_uri": "https://localhost:8080/",
     "height": 52
    },
    "colab_type": "code",
    "executionInfo": {
     "elapsed": 526,
     "status": "ok",
     "timestamp": 1534866579844,
     "user": {
      "displayName": "Carlos Duchanoy",
      "photoUrl": "//lh6.googleusercontent.com/-gXwhi5Xb2vo/AAAAAAAAAAI/AAAAAAAAA2c/j3TkLhebLOo/s50-c-k-no/photo.jpg",
      "userId": "107498058990176578915"
     },
     "user_tz": 300
    },
    "id": "JoG0rrVOl7qs",
    "outputId": "86521134-fec5-40e3-f8d8-86851237bcef"
   },
   "outputs": [
    {
     "data": {
      "text/plain": [
       "array([100, 100, 100, 100, 100,   5,  99,  99,  99,  99,  10,  11,  12,\n",
       "        13,  14,  15,  16,  17,  18,  19,  20,  21,  22,  23,  24])"
      ]
     },
     "execution_count": 58,
     "metadata": {},
     "output_type": "execute_result"
    }
   ],
   "source": [
    "arr"
   ]
  },
  {
   "cell_type": "code",
   "execution_count": 59,
   "metadata": {
    "colab": {
     "base_uri": "https://localhost:8080/",
     "height": 69
    },
    "colab_type": "code",
    "executionInfo": {
     "elapsed": 350,
     "status": "ok",
     "timestamp": 1534866602937,
     "user": {
      "displayName": "Carlos Duchanoy",
      "photoUrl": "//lh6.googleusercontent.com/-gXwhi5Xb2vo/AAAAAAAAAAI/AAAAAAAAA2c/j3TkLhebLOo/s50-c-k-no/photo.jpg",
      "userId": "107498058990176578915"
     },
     "user_tz": 300
    },
    "id": "4ltvL59wl7qu",
    "outputId": "927faf65-6c6a-49d0-805d-38d9ab0e1e7b"
   },
   "outputs": [
    {
     "data": {
      "text/plain": [
       "array([ True,  True,  True,  True,  True, False,  True,  True,  True,\n",
       "        True, False, False, False, False, False, False, False, False,\n",
       "       False, False, False, False,  True,  True,  True])"
      ]
     },
     "execution_count": 59,
     "metadata": {},
     "output_type": "execute_result"
    }
   ],
   "source": [
    "arrbol=arr > 21\n",
    "arrbol"
   ]
  },
  {
   "cell_type": "code",
   "execution_count": 60,
   "metadata": {
    "colab": {
     "base_uri": "https://localhost:8080/",
     "height": 35
    },
    "colab_type": "code",
    "executionInfo": {
     "elapsed": 449,
     "status": "ok",
     "timestamp": 1534866617466,
     "user": {
      "displayName": "Carlos Duchanoy",
      "photoUrl": "//lh6.googleusercontent.com/-gXwhi5Xb2vo/AAAAAAAAAAI/AAAAAAAAA2c/j3TkLhebLOo/s50-c-k-no/photo.jpg",
      "userId": "107498058990176578915"
     },
     "user_tz": 300
    },
    "id": "zYARfmmel7qy",
    "outputId": "9a1e4008-5342-4732-e683-5999857f863d"
   },
   "outputs": [
    {
     "data": {
      "text/plain": [
       "array([100, 100, 100, 100, 100,  99,  99,  99,  99,  22,  23,  24])"
      ]
     },
     "execution_count": 60,
     "metadata": {},
     "output_type": "execute_result"
    }
   ],
   "source": [
    "arr[arrbol]"
   ]
  },
  {
   "cell_type": "code",
   "execution_count": 61,
   "metadata": {
    "colab": {
     "base_uri": "https://localhost:8080/",
     "height": 35
    },
    "colab_type": "code",
    "executionInfo": {
     "elapsed": 325,
     "status": "ok",
     "timestamp": 1534866641406,
     "user": {
      "displayName": "Carlos Duchanoy",
      "photoUrl": "//lh6.googleusercontent.com/-gXwhi5Xb2vo/AAAAAAAAAAI/AAAAAAAAA2c/j3TkLhebLOo/s50-c-k-no/photo.jpg",
      "userId": "107498058990176578915"
     },
     "user_tz": 300
    },
    "id": "SlcalTWUl7q5",
    "outputId": "77d1affd-52c9-48b3-f402-291f28bad857"
   },
   "outputs": [
    {
     "data": {
      "text/plain": [
       "array([ 5, 10, 11, 12, 13, 14, 15, 16, 17, 18, 19, 20])"
      ]
     },
     "execution_count": 61,
     "metadata": {},
     "output_type": "execute_result"
    }
   ],
   "source": [
    "arr[arr<21]"
   ]
  },
  {
   "cell_type": "markdown",
   "metadata": {
    "colab_type": "text",
    "id": "CsNMwnzfl7q8"
   },
   "source": [
    "# Aritmética"
   ]
  },
  {
   "cell_type": "code",
   "execution_count": 62,
   "metadata": {
    "colab": {
     "base_uri": "https://localhost:8080/",
     "height": 35
    },
    "colab_type": "code",
    "executionInfo": {
     "elapsed": 331,
     "status": "ok",
     "timestamp": 1534866694341,
     "user": {
      "displayName": "Carlos Duchanoy",
      "photoUrl": "//lh6.googleusercontent.com/-gXwhi5Xb2vo/AAAAAAAAAAI/AAAAAAAAA2c/j3TkLhebLOo/s50-c-k-no/photo.jpg",
      "userId": "107498058990176578915"
     },
     "user_tz": 300
    },
    "id": "e-6J86wCl7q9",
    "outputId": "fcb28931-e3a3-41ef-9e2a-213aa1a737cb"
   },
   "outputs": [
    {
     "data": {
      "text/plain": [
       "array([0, 1, 2, 3, 4, 5, 6, 7, 8, 9])"
      ]
     },
     "execution_count": 62,
     "metadata": {},
     "output_type": "execute_result"
    }
   ],
   "source": [
    "arr=np.arange(0,10)\n",
    "arr"
   ]
  },
  {
   "cell_type": "code",
   "execution_count": 63,
   "metadata": {
    "colab": {
     "base_uri": "https://localhost:8080/",
     "height": 35
    },
    "colab_type": "code",
    "executionInfo": {
     "elapsed": 327,
     "status": "ok",
     "timestamp": 1534866700536,
     "user": {
      "displayName": "Carlos Duchanoy",
      "photoUrl": "//lh6.googleusercontent.com/-gXwhi5Xb2vo/AAAAAAAAAAI/AAAAAAAAA2c/j3TkLhebLOo/s50-c-k-no/photo.jpg",
      "userId": "107498058990176578915"
     },
     "user_tz": 300
    },
    "id": "GFbxpOC9l7q_",
    "outputId": "3146467b-0efa-4627-e317-8ae34d3d0ef4"
   },
   "outputs": [
    {
     "data": {
      "text/plain": [
       "array([ 0,  2,  4,  6,  8, 10, 12, 14, 16, 18])"
      ]
     },
     "execution_count": 63,
     "metadata": {},
     "output_type": "execute_result"
    }
   ],
   "source": [
    "arr+arr"
   ]
  },
  {
   "cell_type": "code",
   "execution_count": 64,
   "metadata": {
    "colab": {
     "base_uri": "https://localhost:8080/",
     "height": 35
    },
    "colab_type": "code",
    "executionInfo": {
     "elapsed": 436,
     "status": "ok",
     "timestamp": 1534866705504,
     "user": {
      "displayName": "Carlos Duchanoy",
      "photoUrl": "//lh6.googleusercontent.com/-gXwhi5Xb2vo/AAAAAAAAAAI/AAAAAAAAA2c/j3TkLhebLOo/s50-c-k-no/photo.jpg",
      "userId": "107498058990176578915"
     },
     "user_tz": 300
    },
    "id": "XMFWjAidl7rB",
    "outputId": "856a86e0-8f21-4e4a-c5e8-9055ebc04104"
   },
   "outputs": [
    {
     "data": {
      "text/plain": [
       "array([ 0,  1,  4,  9, 16, 25, 36, 49, 64, 81])"
      ]
     },
     "execution_count": 64,
     "metadata": {},
     "output_type": "execute_result"
    }
   ],
   "source": [
    "arr*arr"
   ]
  },
  {
   "cell_type": "code",
   "execution_count": 65,
   "metadata": {
    "colab": {
     "base_uri": "https://localhost:8080/",
     "height": 35
    },
    "colab_type": "code",
    "executionInfo": {
     "elapsed": 356,
     "status": "ok",
     "timestamp": 1534866712242,
     "user": {
      "displayName": "Carlos Duchanoy",
      "photoUrl": "//lh6.googleusercontent.com/-gXwhi5Xb2vo/AAAAAAAAAAI/AAAAAAAAA2c/j3TkLhebLOo/s50-c-k-no/photo.jpg",
      "userId": "107498058990176578915"
     },
     "user_tz": 300
    },
    "id": "gjBtCdAfl7rE",
    "outputId": "b45dbd9a-1cce-4bc7-fb34-9b759950e6ae"
   },
   "outputs": [
    {
     "data": {
      "text/plain": [
       "array([0, 0, 0, 0, 0, 0, 0, 0, 0, 0])"
      ]
     },
     "execution_count": 65,
     "metadata": {},
     "output_type": "execute_result"
    }
   ],
   "source": [
    "arr-arr"
   ]
  },
  {
   "cell_type": "code",
   "execution_count": 66,
   "metadata": {
    "colab": {
     "base_uri": "https://localhost:8080/",
     "height": 89
    },
    "colab_type": "code",
    "executionInfo": {
     "elapsed": 331,
     "status": "ok",
     "timestamp": 1534866718780,
     "user": {
      "displayName": "Carlos Duchanoy",
      "photoUrl": "//lh6.googleusercontent.com/-gXwhi5Xb2vo/AAAAAAAAAAI/AAAAAAAAA2c/j3TkLhebLOo/s50-c-k-no/photo.jpg",
      "userId": "107498058990176578915"
     },
     "user_tz": 300
    },
    "id": "1-24O8lBl7rJ",
    "outputId": "c6bdcb23-8bfe-4a13-d537-52e0122e5ace"
   },
   "outputs": [
    {
     "name": "stderr",
     "output_type": "stream",
     "text": [
      "C:\\Users\\Flintlock\\Anaconda3\\envs\\tensorflowCPUdemo\\lib\\site-packages\\ipykernel_launcher.py:1: RuntimeWarning: invalid value encountered in true_divide\n",
      "  \"\"\"Entry point for launching an IPython kernel.\n"
     ]
    },
    {
     "data": {
      "text/plain": [
       "array([nan,  1.,  1.,  1.,  1.,  1.,  1.,  1.,  1.,  1.])"
      ]
     },
     "execution_count": 66,
     "metadata": {},
     "output_type": "execute_result"
    }
   ],
   "source": [
    "arr/arr"
   ]
  },
  {
   "cell_type": "code",
   "execution_count": 67,
   "metadata": {
    "colab": {
     "base_uri": "https://localhost:8080/",
     "height": 107
    },
    "colab_type": "code",
    "executionInfo": {
     "elapsed": 409,
     "status": "ok",
     "timestamp": 1534866803126,
     "user": {
      "displayName": "Carlos Duchanoy",
      "photoUrl": "//lh6.googleusercontent.com/-gXwhi5Xb2vo/AAAAAAAAAAI/AAAAAAAAA2c/j3TkLhebLOo/s50-c-k-no/photo.jpg",
      "userId": "107498058990176578915"
     },
     "user_tz": 300
    },
    "id": "nfYrGeKpl7rL",
    "outputId": "5e6d0155-c1c0-4974-e592-2055109f9b85"
   },
   "outputs": [
    {
     "name": "stderr",
     "output_type": "stream",
     "text": [
      "C:\\Users\\Flintlock\\Anaconda3\\envs\\tensorflowCPUdemo\\lib\\site-packages\\ipykernel_launcher.py:1: RuntimeWarning: divide by zero encountered in true_divide\n",
      "  \"\"\"Entry point for launching an IPython kernel.\n"
     ]
    },
    {
     "data": {
      "text/plain": [
       "array([       inf, 1.        , 0.5       , 0.33333333, 0.25      ,\n",
       "       0.2       , 0.16666667, 0.14285714, 0.125     , 0.11111111])"
      ]
     },
     "execution_count": 67,
     "metadata": {},
     "output_type": "execute_result"
    }
   ],
   "source": [
    "1/arr"
   ]
  },
  {
   "cell_type": "markdown",
   "metadata": {
    "colab_type": "text",
    "id": "fzS4FWohl7rN"
   },
   "source": [
    "## Funciones universales de Numpy\n",
    "\n",
    "Numpy tiene una serie de [funciones universales](http://docs.scipy.org/doc/numpy/reference/ufuncs.html), que permiten hacer una serie de operaciones matemáticas."
   ]
  },
  {
   "cell_type": "code",
   "execution_count": 68,
   "metadata": {
    "colab": {},
    "colab_type": "code",
    "id": "BcREK9TFl7rP",
    "outputId": "5f5d4b4c-8643-4f97-9638-d90b02c844bf"
   },
   "outputs": [
    {
     "data": {
      "text/plain": [
       "array([ 0.        ,  0.84147098,  0.90929743,  0.14112001, -0.7568025 ,\n",
       "       -0.95892427, -0.2794155 ,  0.6569866 ,  0.98935825,  0.41211849])"
      ]
     },
     "execution_count": 68,
     "metadata": {},
     "output_type": "execute_result"
    }
   ],
   "source": [
    "np.sin(arr)"
   ]
  },
  {
   "cell_type": "code",
   "execution_count": 69,
   "metadata": {
    "colab": {},
    "colab_type": "code",
    "id": "97GkKILAl7rQ",
    "outputId": "a5386e89-580d-4633-aeda-f4ec36f71688"
   },
   "outputs": [
    {
     "name": "stderr",
     "output_type": "stream",
     "text": [
      "C:\\Users\\Flintlock\\Anaconda3\\envs\\tensorflowCPUdemo\\lib\\site-packages\\ipykernel_launcher.py:1: RuntimeWarning: divide by zero encountered in log\n",
      "  \"\"\"Entry point for launching an IPython kernel.\n"
     ]
    },
    {
     "data": {
      "text/plain": [
       "array([      -inf, 0.        , 0.69314718, 1.09861229, 1.38629436,\n",
       "       1.60943791, 1.79175947, 1.94591015, 2.07944154, 2.19722458])"
      ]
     },
     "execution_count": 69,
     "metadata": {},
     "output_type": "execute_result"
    }
   ],
   "source": [
    "np.log(arr)"
   ]
  },
  {
   "cell_type": "code",
   "execution_count": null,
   "metadata": {
    "colab": {},
    "colab_type": "code",
    "id": "YfJqjpk6l7rT",
    "outputId": "4637ff70-58fb-457f-851c-ba1966c3f9f9"
   },
   "outputs": [],
   "source": [
    "np.max(arr)"
   ]
  },
  {
   "cell_type": "code",
   "execution_count": null,
   "metadata": {
    "colab": {},
    "colab_type": "code",
    "id": "n6td1QEll7rV"
   },
   "outputs": [],
   "source": []
  }
 ],
 "metadata": {
  "colab": {
   "name": "Numpy.ipynb",
   "provenance": [],
   "version": "0.3.2"
  },
  "kernelspec": {
   "display_name": "Python 3",
   "language": "python",
   "name": "python3"
  },
  "language_info": {
   "codemirror_mode": {
    "name": "ipython",
    "version": 3
   },
   "file_extension": ".py",
   "mimetype": "text/x-python",
   "name": "python",
   "nbconvert_exporter": "python",
   "pygments_lexer": "ipython3",
   "version": "3.6.6"
  }
 },
 "nbformat": 4,
 "nbformat_minor": 1
}
