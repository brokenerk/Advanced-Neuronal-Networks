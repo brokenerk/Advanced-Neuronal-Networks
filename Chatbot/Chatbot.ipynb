{
 "cells": [
  {
   "cell_type": "markdown",
   "metadata": {
    "colab_type": "text",
    "id": "R0udSu24mJS6"
   },
   "source": [
    "# Chatbot Agencia FORD"
   ]
  },
  {
   "cell_type": "code",
   "execution_count": 1,
   "metadata": {
    "colab": {},
    "colab_type": "code",
    "id": "ddXRY3homJS8"
   },
   "outputs": [],
   "source": [
    "#Inicialización de estados \n",
    "import re\n",
    "import time"
   ]
  },
  {
   "cell_type": "code",
   "execution_count": 2,
   "metadata": {
    "colab": {},
    "colab_type": "code",
    "id": "G83YtbkomJTB"
   },
   "outputs": [],
   "source": [
    "#Lenguaje natural por expresiones regulares \n",
    "Promo_RE = r\"promociones|promos?|descuentos?|ofertas?|promocion\"\n",
    "Cita_RE = r\"cita|servicio|agendar|problema\"\n",
    "Venta_RE = r\"venta|comprar|venden|tienen\"\n",
    "\n",
    "email_RE = r\"[^@|\\s]+@[^@]+\\.[^@|\\s]+\"\n",
    "placa_RE = r\"\\d\\d\\d[\\s| |-]?\\w\\w\\w\" \n",
    "afirmacion_RE = r\"s[i|í]|claro|definitivamente|ok\"\n",
    "hora_RE = r\"^(?:0?[1-9]|1[0-2]):[0-5][0-9]\\s?(?:[aApP](\\.?)[mM]\\1)?\"\n",
    "dia_RE = r\"((el|este)\\s(próximo\\s)?((lunes|martes|miércoles|miercoles|jueves|viernes|sábado|sabado|domingo)\\s*(que viene|de la semana que viene\\s)?|(día\\s)?(\\d{1,2})\\s+(de (enero|febrero|marzo|abril|mayo|junio|julio|agosto|septiembre|setiembre|octubre|noviembre|diciembre))?)|([^\\d\\-\\/.](\\d{1,2}[\\-/.]\\d{1,2}([\\-\\/\\.]\\d{2,4})?))[^\\d\\-\\/\\.]|((pasado\\s)?mañana|hoy|(antes\\sde\\s)?ayer|anteayer))\""
   ]
  },
  {
   "cell_type": "code",
   "execution_count": 3,
   "metadata": {
    "colab": {},
    "colab_type": "code",
    "id": "eHPKUA-dmJTF"
   },
   "outputs": [],
   "source": [
    "name = \"\"\n",
    "placa = \"\"\n",
    "dia = \"\"\n",
    "hora = \"\"\n",
    "email = \"\"\n",
    "\n",
    "def limpiarDatos():\n",
    "    name = \"\"\n",
    "    placa = \"\"\n",
    "    dia = \"\"\n",
    "    hora = \"\"\n",
    "    email = \"\"\n",
    "\n",
    "def chatbot():\n",
    "    state = 0\n",
    "    Salida = True\n",
    "    print(\"Hola soy el Chatbot de la FORD ¿En qué te puedo ayudar?\")\n",
    "    time.sleep(1)\n",
    "    while Salida:\n",
    "        if state == 0:\n",
    "            time.sleep(1)\n",
    "            opcion = input(\"Soy capaz de informarte de nuestras promociones, venta de vehículos y ayudarte a agendar un cita. \\n\\t\\t\\t\")\n",
    "            if re.findall(Promo_RE, opcion, flags=0)!=[]:\n",
    "                state = 1\n",
    "            elif re.findall(Cita_RE, opcion, flags=0)!=[]: \n",
    "                state = 2\n",
    "            elif re.findall(Venta_RE, opcion, flags=0)!=[]:  \n",
    "                state = 3\n",
    "        if state == 1:\n",
    "            limpiarDatos()\n",
    "            print(\"Nuestras promociones son...\")\n",
    "            state = 9\n",
    "        if state == 2:\n",
    "            limpiarDatos()\n",
    "            name = input(\"Dime tu nombre para agendar la cita. \\n\\t\\t\\t\")\n",
    "            if re.findall(Promo_RE, name, flags=0)!=[]:\n",
    "                state = 1\n",
    "            elif re.findall(Venta_RE, name, flags=0)!=[]:  \n",
    "                state = 3\n",
    "            else:\n",
    "                state = 4\n",
    "        if state == 3:\n",
    "            limpiarDatos()\n",
    "            email = input(\"Podrias proporcionarme tu email de contacto.  \\n\\t\\t\\t\")\n",
    "            if re.findall(Promo_RE, email, flags=0)!=[]:\n",
    "                state = 1\n",
    "            elif re.findall(Cita_RE, email, flags=0)!=[]:\n",
    "                state = 2\n",
    "            elif re.findall(email_RE, email, flags=0)!=[]:\n",
    "                print(\"En un momento un agente de ventas te enviara un correo a {}\".format(email))\n",
    "                state = 9\n",
    "            else:\n",
    "              print(\"Email Invalido\")\n",
    "        if state == 4:\n",
    "            placa = input(\"Podrias proporcionarme tu placa. \\n\\t\\t\\t\")\n",
    "            if re.findall(placa_RE, placa, flags=0)!=[]:\n",
    "                state = 5\n",
    "            elif re.findall(Promo_RE, placa, flags=0)!=[]:\n",
    "                state = 1\n",
    "            elif re.findall(Venta_RE, placa, flags=0)!=[]:  \n",
    "                state = 3\n",
    "            else:\n",
    "                print(\"Placa Invalida\")\n",
    "        if state == 5:\n",
    "            dia = input(\"Que dia te gustaria?. \\n\\t\\t\\t\")\n",
    "            if re.findall(dia_RE, dia, flags=0)!=[]:\n",
    "                state = 6\n",
    "            elif re.findall(Promo_RE, dia, flags=0)!=[]:\n",
    "                state = 1\n",
    "            elif re.findall(Venta_RE, dia, flags=0)!=[]:  \n",
    "                state = 3\n",
    "            else:\n",
    "                print(\"Dia Invalido\")\n",
    "        if state == 6:\n",
    "            hora = input(\"En que horario?. \\n\\t\\t\\t\")\n",
    "            if re.findall(hora_RE, hora, flags=0)!=[]:\n",
    "                state = 7\n",
    "            elif re.findall(Promo_RE, hora, flags=0)!=[]:\n",
    "                state = 1\n",
    "            elif re.findall(Venta_RE, hora, flags=0)!=[]:  \n",
    "                state = 3\n",
    "            else:\n",
    "                print(\"Horario Invalido\")\n",
    "        if state == 7:\n",
    "            print(\"Placa {} desea cita el dia {} en un horario de {}\".format(placa, dia, hora))\n",
    "            opcion = input(\"Sus datos son correctos?\")\n",
    "            if re.findall(afirmacion_RE, opcion, flags=0!=[]):\n",
    "                state = 8\n",
    "            else:\n",
    "                limpiarDatos()\n",
    "                state = 2\n",
    "        if state == 8:\n",
    "            print(\"Gracias {} en un momento te atendera un operador\".format(name))\n",
    "            Salida = False\n",
    "        if state == 9:\n",
    "            opcion = input(\"¿te puedo ayudar en algo más?  \\n\\t\\t\\t\")\n",
    "            if re.findall(Promo_RE, opcion, flags=0)!=[]:\n",
    "                state = 1\n",
    "            elif re.findall(Cita_RE, opcion, flags=0)!=[]: \n",
    "                state = 2\n",
    "            elif re.findall(Venta_RE, opcion, flags=0)!=[]:  \n",
    "                state = 3\n",
    "            elif re.findall(afirmacion_RE, opcion, flags=0!=[]):\n",
    "                state = 0\n",
    "            else:\n",
    "                print(\"Gracias fue un placer atenderte\")\n",
    "                Salida = False"
   ]
  },
  {
   "cell_type": "code",
   "execution_count": 4,
   "metadata": {
    "colab": {
     "base_uri": "https://localhost:8080/",
     "height": 510
    },
    "colab_type": "code",
    "executionInfo": {
     "elapsed": 96875,
     "status": "ok",
     "timestamp": 1581199582870,
     "user": {
      "displayName": "Enrique Ramos Diaz",
      "photoUrl": "https://lh3.googleusercontent.com/a-/AAuE7mALwCJrTOMom4PfJnleVRYFJfs8M6b4od17ajBOJg=s64",
      "userId": "03180666184446923491"
     },
     "user_tz": 360
    },
    "id": "5DSWXvm3Paeq",
    "outputId": "f34c27cb-6e26-41b9-fa51-6102fe29f673"
   },
   "outputs": [
    {
     "name": "stdout",
     "output_type": "stream",
     "text": [
      "Hola soy el Chatbot de la FORD ¿En qué te puedo ayudar?\n"
     ]
    },
    {
     "name": "stdin",
     "output_type": "stream",
     "text": [
      "Soy capaz de informarte de nuestras promociones, venta de vehículos y ayudarte a agendar un cita. \n",
      "\t\t\t ofertas\n"
     ]
    },
    {
     "name": "stdout",
     "output_type": "stream",
     "text": [
      "Nuestras promociones son...\n"
     ]
    },
    {
     "name": "stdin",
     "output_type": "stream",
     "text": [
      "¿te puedo ayudar en algo más?  \n",
      "\t\t\t comprar\n",
      "Podrias proporcionarme tu email de contacto.  \n",
      "\t\t\t mejor una cita\n",
      "Dime tu nombre para agendar la cita. \n",
      "\t\t\t enrique\n",
      "Podrias proporcionarme tu placa. \n",
      "\t\t\t asasd\n"
     ]
    },
    {
     "name": "stdout",
     "output_type": "stream",
     "text": [
      "Placa Invalida\n"
     ]
    },
    {
     "name": "stdin",
     "output_type": "stream",
     "text": [
      "Podrias proporcionarme tu placa. \n",
      "\t\t\t aaa111\n"
     ]
    },
    {
     "name": "stdout",
     "output_type": "stream",
     "text": [
      "Placa Invalida\n"
     ]
    },
    {
     "name": "stdin",
     "output_type": "stream",
     "text": [
      "Podrias proporcionarme tu placa. \n",
      "\t\t\t 444aaa\n",
      "Que dia te gustaria?. \n",
      "\t\t\t el martes\n",
      "En que horario?. \n",
      "\t\t\t a las 12\n"
     ]
    },
    {
     "name": "stdout",
     "output_type": "stream",
     "text": [
      "Horario Invalido\n"
     ]
    },
    {
     "name": "stdin",
     "output_type": "stream",
     "text": [
      "En que horario?. \n",
      "\t\t\t 12:00 PM\n"
     ]
    },
    {
     "name": "stdout",
     "output_type": "stream",
     "text": [
      "Placa 444aaa desea cita el dia el martes en un horario de 12:00 PM\n"
     ]
    },
    {
     "name": "stdin",
     "output_type": "stream",
     "text": [
      "Sus datos son correctos? si\n"
     ]
    },
    {
     "name": "stdout",
     "output_type": "stream",
     "text": [
      "Gracias enrique en un momento te atendera un operador\n"
     ]
    }
   ],
   "source": [
    "chatbot()"
   ]
  },
  {
   "cell_type": "code",
   "execution_count": null,
   "metadata": {},
   "outputs": [],
   "source": []
  }
 ],
 "metadata": {
  "colab": {
   "collapsed_sections": [],
   "name": "Chatbot.ipynb",
   "provenance": []
  },
  "kernelspec": {
   "display_name": "Python 3",
   "language": "python",
   "name": "python3"
  },
  "language_info": {
   "codemirror_mode": {
    "name": "ipython",
    "version": 3
   },
   "file_extension": ".py",
   "mimetype": "text/x-python",
   "name": "python",
   "nbconvert_exporter": "python",
   "pygments_lexer": "ipython3",
   "version": "3.6.10"
  }
 },
 "nbformat": 4,
 "nbformat_minor": 4
}
