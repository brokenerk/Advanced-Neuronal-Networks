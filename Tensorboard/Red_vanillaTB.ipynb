{
  "nbformat": 4,
  "nbformat_minor": 0,
  "metadata": {
    "colab": {
      "name": "Red_vanillaTB.ipynb",
      "provenance": []
    },
    "kernelspec": {
      "display_name": "Python 3",
      "language": "python",
      "name": "python3"
    },
    "language_info": {
      "codemirror_mode": {
        "name": "ipython",
        "version": 3
      },
      "file_extension": ".py",
      "mimetype": "text/x-python",
      "name": "python",
      "nbconvert_exporter": "python",
      "pygments_lexer": "ipython3",
      "version": "3.6.3"
    }
  },
  "cells": [
    {
      "cell_type": "markdown",
      "metadata": {
        "colab_type": "text",
        "id": "jPitwRrcRpma"
      },
      "source": [
        "### Importación de Tensorflow"
      ]
    },
    {
      "cell_type": "code",
      "metadata": {
        "colab_type": "code",
        "id": "EPZtMACjRpmc",
        "colab": {}
      },
      "source": [
        "import tensorflow as tf\n",
        "import numpy as np\n",
        "import matplotlib.pyplot as plt\n",
        "%matplotlib inline"
      ],
      "execution_count": 0,
      "outputs": []
    },
    {
      "cell_type": "markdown",
      "metadata": {
        "colab_type": "text",
        "id": "6LvwzIXaRpmf"
      },
      "source": [
        "### Importación de datos "
      ]
    },
    {
      "cell_type": "code",
      "metadata": {
        "colab_type": "code",
        "id": "4B4h-7glRpmg",
        "outputId": "c18d554b-698d-45f7-acc7-8311ad29b98c",
        "colab": {}
      },
      "source": [
        "from tensorflow.examples.tutorials.mnist import input_data\n",
        "mnist = input_data.read_data_sets(\"/tmp/data/\", one_hot = True)"
      ],
      "execution_count": 0,
      "outputs": [
        {
          "output_type": "stream",
          "text": [
            "Extracting /tmp/data/train-images-idx3-ubyte.gz\n",
            "Extracting /tmp/data/train-labels-idx1-ubyte.gz\n",
            "Extracting /tmp/data/t10k-images-idx3-ubyte.gz\n",
            "Extracting /tmp/data/t10k-labels-idx1-ubyte.gz\n"
          ],
          "name": "stdout"
        }
      ]
    },
    {
      "cell_type": "markdown",
      "metadata": {
        "colab_type": "text",
        "id": "wi_nqCWxRpmo"
      },
      "source": [
        "### verificando los datos de prueba"
      ]
    },
    {
      "cell_type": "code",
      "metadata": {
        "colab_type": "code",
        "id": "AcqBlhxhRpmo",
        "outputId": "7c0d6f82-ba1f-4372-9a4e-2ed79a8929a7",
        "colab": {}
      },
      "source": [
        "mnist.train.images.shape"
      ],
      "execution_count": 0,
      "outputs": [
        {
          "output_type": "execute_result",
          "data": {
            "text/plain": [
              "(55000, 784)"
            ]
          },
          "metadata": {
            "tags": []
          },
          "execution_count": 13
        }
      ]
    },
    {
      "cell_type": "code",
      "metadata": {
        "colab_type": "code",
        "id": "4LW4wwLYRpmr",
        "colab": {}
      },
      "source": [
        "imagendemo=np.reshape(mnist.train.images[2,:],(28,28))"
      ],
      "execution_count": 0,
      "outputs": []
    },
    {
      "cell_type": "code",
      "metadata": {
        "colab_type": "code",
        "id": "1uOJRGzQRpmu",
        "outputId": "b5c73a53-2967-4b6f-88ed-d0392f30cada",
        "colab": {}
      },
      "source": [
        "plt.imshow(imagendemo,cmap='gray')"
      ],
      "execution_count": 0,
      "outputs": [
        {
          "output_type": "execute_result",
          "data": {
            "text/plain": [
              "<matplotlib.image.AxesImage at 0x1e481284dd8>"
            ]
          },
          "metadata": {
            "tags": []
          },
          "execution_count": 15
        },
        {
          "output_type": "display_data",
          "data": {
            "image/png": "[encoded data removed]",
            "text/plain": [
              "<matplotlib.figure.Figure at 0x1e481110748>"
            ]
          },
          "metadata": {
            "tags": []
          }
        }
      ]
    },
    {
      "cell_type": "code",
      "metadata": {
        "colab_type": "code",
        "id": "adHGDBc3skMY",
        "colab": {}
      },
      "source": [
        "def image_matrix(img):\n",
        "    print('\\n'.join([''.join(['{:4}'.format(int(round(item*255))) for item in row]) \n",
        "      for row in img]))"
      ],
      "execution_count": 0,
      "outputs": []
    },
    {
      "cell_type": "code",
      "metadata": {
        "colab_type": "code",
        "id": "WRODlPFpskMc",
        "outputId": "a7ab4d9a-39e7-44a7-b659-966cae795d42",
        "colab": {}
      },
      "source": [
        "image_matrix(imagendemo)"
      ],
      "execution_count": 0,
      "outputs": [
        {
          "output_type": "stream",
          "text": [
            "   0   0   0   0   0   0   0   0   0   0   0   0   0   0   0   0   0   0   0   0   0   0   0   0   0   0   0   0\n",
            "   0   0   0   0   0   0   0   0   0   0   0   0   0   0   0   0   0   0   0   0   0   0   0   0   0   0   0   0\n",
            "   0   0   0   0   0   0   0   0   0   0   0   0   0   0   0   0   0   0   0   0   0   0   0   0   0   0   0   0\n",
            "   0   0   0   0   0   0   0   0   0   0   0   0   0   0   0   0   0   0   0   0   0   0   0   0   0   0   0   0\n",
            "   0   0   0   0   0   0   0   0   0   0   0   0   0   0   0   0   0   0   0   0   0   0   0   0   0   0   0   0\n",
            "   0   0   0   0   0   0   0   0   0   0   0   0   0   0   0   0   0   0   0   0   0   0   0   0   0   0   0   0\n",
            "   0   0   0   0   0   0   0   0   0   0   6 195 254 255 239  29   0   0   0   0   0   0   0   0   0   0   0   0\n",
            "   0   0   0   0   0   0   0   0   0   6 163 254 254 175  55   3   0   0   0   0  23   0   0   0   0   0   0   0\n",
            "   0   0   0   0   0   0   0   0   0 121 254 254 148   8   0   0   0   0   0 140 237 112   0   0   0   0   0   0\n",
            "   0   0   0   0   0   0   0   0  43 245 254 242   4   0   0   0   0   0  53 236 254 112   0   0   0   0   0   0\n",
            "   0   0   0   0   0   0   0   0 164 254 250  64   0   0   0   0   0   0 169 254 249  32   0   0   0   0   0   0\n",
            "   0   0   0   0   0   0   0   0 214 254 178   0   0   3   9   9   9  44 232 254 165   0   0   0   0   0   0   0\n",
            "   0   0   0   0   0   0   0   0 214 254 185   0  54 186 254 254 254 254 254 231  43   0   0   0   0   0   0   0\n",
            "   0   0   0   0   0   0   0   0  96 254 250 190 252 254 254 254 254 254 254 130   0   0   0   0   0   0   0   0\n",
            "   0   0   0   0   0   0   0   0 126 254 254 254 254 199 118 145 254 254 254  78   0   0   0   0   0   0   0   0\n",
            "   0   0   0   0   0   0   0   0  28 120 120 120  32   3   0 121 254 254 195   4   0   0   0   0   0   0   0   0\n",
            "   0   0   0   0   0   0   0   0   0   0   0   0   0   0   0 110 254 254  85   0   0   0   0   0   0   0   0   0\n",
            "   0   0   0   0   0   0   0   0   0   0   0   0   0   0   0 107 254 252  49   0   0   0   0   0   0   0   0   0\n",
            "   0   0   0   0   0   0   0   0   0   0   0   0   0   0   0 210 254 183   0   0   0   0   0   0   0   0   0   0\n",
            "   0   0   0   0   0   0   0   0   0   0   0   0   0   0  15 224 254  71   0   0   0   0   0   0   0   0   0   0\n",
            "   0   0   0   0   0   0   0   0   0   0   0   0   0   0  69 254 249  53   0   0   0   0   0   0   0   0   0   0\n",
            "   0   0   0   0   0   0   0   0   0   0   0   0   0   0 216 254 236   0   0   0   0   0   0   0   0   0   0   0\n",
            "   0   0   0   0   0   0   0   0   0   0   0   0   0   0 223 254 190   0   0   0   0   0   0   0   0   0   0   0\n",
            "   0   0   0   0   0   0   0   0   0   0   0   0   0   0 223 254 187   0   0   0   0   0   0   0   0   0   0   0\n",
            "   0   0   0   0   0   0   0   0   0   0   0   0   0   0 223 254 249 126   0   0   0   0   0   0   0   0   0   0\n",
            "   0   0   0   0   0   0   0   0   0   0   0   0   0   0 114 238 254 124   0   0   0   0   0   0   0   0   0   0\n",
            "   0   0   0   0   0   0   0   0   0   0   0   0   0   0   0   0   0   0   0   0   0   0   0   0   0   0   0   0\n",
            "   0   0   0   0   0   0   0   0   0   0   0   0   0   0   0   0   0   0   0   0   0   0   0   0   0   0   0   0\n"
          ],
          "name": "stdout"
        }
      ]
    },
    {
      "cell_type": "markdown",
      "metadata": {
        "colab_type": "text",
        "id": "hUPvkJ1URpmy"
      },
      "source": [
        "### Declarando la arquitectura\n",
        "\n",
        "Generando función "
      ]
    },
    {
      "cell_type": "code",
      "metadata": {
        "colab_type": "code",
        "id": "NKad0q1KskMi",
        "colab": {}
      },
      "source": [
        "# Agregar funcion para limpiar la gráfica \n",
        "# Evita duplicar elementos \n",
        "def reset_graph():\n",
        "    if 'sess' in globals() and sess:\n",
        "        sess.close()\n",
        "    tf.reset_default_graph()"
      ],
      "execution_count": 0,
      "outputs": []
    },
    {
      "cell_type": "code",
      "metadata": {
        "colab_type": "code",
        "id": "0n-_0mxcRpmz",
        "colab": {}
      },
      "source": [
        "def Neural_network_model(\n",
        "    n_nodes_hl1=500,\n",
        "    n_nodes_hl2=500,\n",
        "    n_nodes_hl3=500,\n",
        "    n_classes=10\n",
        "    ):\n",
        "    \n",
        "    # limpiar gráficas anteriores \n",
        "    reset_graph()\n",
        "    \n",
        "    # Declarando las entradas y salidas\n",
        "    x=tf.placeholder('float',[None,784])\n",
        "    y=tf.placeholder('float')\n",
        "    \n",
        "    # Declarando las variables \n",
        "    \n",
        "    hidden_1_layer = {'weights':tf.Variable(tf.random_normal([784, n_nodes_hl1])),\n",
        "                      'biases':tf.Variable(tf.random_normal([n_nodes_hl1]))}\n",
        "\n",
        "    hidden_2_layer = {'weights':tf.Variable(tf.random_normal([n_nodes_hl1, n_nodes_hl2])),\n",
        "                      'biases':tf.Variable(tf.random_normal([n_nodes_hl2]))}\n",
        "\n",
        "    hidden_3_layer = {'weights':tf.Variable(tf.random_normal([n_nodes_hl2, n_nodes_hl3])),\n",
        "                      'biases':tf.Variable(tf.random_normal([n_nodes_hl3]))}\n",
        "\n",
        "    output_layer = {'weights':tf.Variable(tf.random_normal([n_nodes_hl3, n_classes])),\n",
        "                    'biases':tf.Variable(tf.random_normal([n_classes])),}\n",
        "    \n",
        "    \n",
        "    # Declarando la arquitectura\n",
        "    \n",
        "    l1 = tf.add(tf.matmul(x,hidden_1_layer['weights']), hidden_1_layer['biases'])\n",
        "    l1 = tf.nn.relu(l1)\n",
        "\n",
        "    l2 = tf.add(tf.matmul(l1,hidden_2_layer['weights']), hidden_2_layer['biases'])\n",
        "    l2 = tf.nn.relu(l2)\n",
        "\n",
        "    l3 = tf.add(tf.matmul(l2,hidden_3_layer['weights']), hidden_3_layer['biases'])\n",
        "    l3 = tf.nn.relu(l3)\n",
        "\n",
        "    output = tf.matmul(l3,output_layer['weights']) + output_layer['biases']\n",
        "    \n",
        "    # Declarando la funcion de costo y optimizador\n",
        "    cost = tf.reduce_mean( tf.nn.softmax_cross_entropy_with_logits(logits=output\n",
        "                                                                   , labels=y) )\n",
        "    tf.summary.scalar(\"costo\",cost)\n",
        "    optimizer = tf.train.AdamOptimizer().minimize(cost)\n",
        "    \n",
        "    #generar logs\n",
        "    summaries = tf.summary.merge_all()\n",
        "    \n",
        "    return dict(\n",
        "              x=x,\n",
        "              y=y,\n",
        "              output=output,\n",
        "              cost=cost,\n",
        "              optimizer=optimizer,\n",
        "              #logs\n",
        "              summaries=summaries,\n",
        "              #variables para guardar \n",
        "              saver = tf.train.Saver()  \n",
        "              )"
      ],
      "execution_count": 0,
      "outputs": []
    },
    {
      "cell_type": "code",
      "metadata": {
        "colab_type": "code",
        "id": "SB_ocuTDRpm2",
        "outputId": "25cca22d-6a0c-46c0-f1a5-d995148e11f0",
        "colab": {}
      },
      "source": [
        "#Prueba del modelo\n",
        "Neural_network_model()"
      ],
      "execution_count": 0,
      "outputs": [
        {
          "output_type": "execute_result",
          "data": {
            "text/plain": [
              "{'cost': <tf.Tensor 'Mean:0' shape=() dtype=float32>,\n",
              " 'optimizer': <tf.Operation 'Adam' type=NoOp>,\n",
              " 'output': <tf.Tensor 'add:0' shape=(?, 10) dtype=float32>,\n",
              " 'saver': <tensorflow.python.training.saver.Saver at 0x1e4818ac748>,\n",
              " 'summaries': <tf.Tensor 'Merge/MergeSummary:0' shape=() dtype=string>,\n",
              " 'x': <tf.Tensor 'Placeholder:0' shape=(?, 784) dtype=float32>,\n",
              " 'y': <tf.Tensor 'Placeholder_1:0' shape=<unknown> dtype=float32>}"
            ]
          },
          "metadata": {
            "tags": []
          },
          "execution_count": 21
        }
      ]
    },
    {
      "cell_type": "markdown",
      "metadata": {
        "colab_type": "text",
        "id": "Mgm5OzXzskMu"
      },
      "source": [
        "## función de entrenamiento  y prueba"
      ]
    },
    {
      "cell_type": "code",
      "metadata": {
        "colab_type": "code",
        "id": "f-cDNuusRpm8",
        "colab": {}
      },
      "source": [
        "def train_neural_network(DNN, hm_epochs=10,batch_size=100,save=False):\n",
        "    with tf.Session() as sess:\n",
        "        sess.run(tf.global_variables_initializer())\n",
        "        writer = tf.summary.FileWriter(\"./LOG\")\n",
        "        tf.summary.FileWriter.add_graph(writer,sess.graph)\n",
        "\n",
        "        for epoch in range(hm_epochs):\n",
        "            epoch_loss = 0\n",
        "            for _ in range(int(mnist.train.num_examples/batch_size)):\n",
        "                epoch_x, epoch_y = mnist.train.next_batch(batch_size)\n",
        "                feed_dict={DNN[\"x\"]: epoch_x, \n",
        "                           DNN[\"y\"]: epoch_y}\n",
        "                _, c, prediction,y,summ   = sess.run([DNN[\"optimizer\"], DNN[\"cost\"]\n",
        "                                                 , DNN[\"output\"], DNN[\"y\"],DNN[\"summaries\"]], \n",
        "                                                feed_dict=feed_dict)\n",
        "                epoch_loss += c\n",
        "\n",
        "            ##print('Epoch', epoch, 'completed out of',hm_epochs,'loss:',epoch_loss)\n",
        "            if (epoch%2 == 0):\n",
        "                writer.add_summary(summ,epoch)\n",
        "                \n",
        "                \n",
        "        if isinstance(save, str):\n",
        "            ENCname=\"./SVE/\"+save+\".ckpt\"\n",
        "            DNN['saver'].save(sess, ENCname)\n",
        "        \n",
        "        ## prueba con el conjunto de entrenamiento \n",
        "        correct = tf.equal(tf.argmax(prediction, 1), tf.argmax(y, 1))\n",
        "        accuracy = tf.reduce_mean(tf.cast(correct, 'float'))\n",
        "        print('Accuracy:',accuracy.eval())\n",
        "        \n",
        "        #Prueba con datos nunca antes vistos  \n",
        "        prediction,y   = sess.run([DNN[\"output\"], DNN[\"y\"]], feed_dict={DNN[\"x\"]:mnist.test.images, DNN[\"y\"]:mnist.test.labels})\n",
        "        correct = tf.equal(tf.argmax(prediction, 1), tf.argmax(y, 1))\n",
        "        accuracy = tf.reduce_mean(tf.cast(correct, 'float'))\n",
        "        print('Accuracy:',accuracy.eval())"
      ],
      "execution_count": 0,
      "outputs": []
    },
    {
      "cell_type": "code",
      "metadata": {
        "colab_type": "code",
        "id": "QFKfo19DRpnB",
        "outputId": "bc436483-8e8a-4641-a237-16c489f8fad2",
        "colab": {}
      },
      "source": [
        "DNN=Neural_network_model()\n",
        "train_neural_network(DNN,save=\"vanilla\")"
      ],
      "execution_count": 0,
      "outputs": [
        {
          "output_type": "stream",
          "text": [
            "Accuracy: 0.99\n",
            "Accuracy: 0.953\n"
          ],
          "name": "stdout"
        }
      ]
    },
    {
      "cell_type": "code",
      "metadata": {
        "colab_type": "code",
        "id": "ZPmx9GG0RpnE",
        "colab": {}
      },
      "source": [
        ""
      ],
      "execution_count": 0,
      "outputs": []
    }
  ]
}