{
  "nbformat": 4,
  "nbformat_minor": 0,
  "metadata": {
    "colab": {
      "name": "Red_vanilla_tf_keras.ipynb",
      "provenance": []
    },
    "kernelspec": {
      "name": "python3",
      "display_name": "Python 3"
    },
    "accelerator": "GPU"
  },
  "cells": [
    {
      "cell_type": "markdown",
      "metadata": {
        "id": "I8nfLKJJwEbP",
        "colab_type": "text"
      },
      "source": [
        "### Importación de Tensorflow"
      ]
    },
    {
      "cell_type": "code",
      "metadata": {
        "id": "l73BVNd1sDGf",
        "colab_type": "code",
        "outputId": "dca63664-5acb-400c-9621-3878e9e98cbc",
        "colab": {
          "base_uri": "https://localhost:8080/",
          "height": 33
        }
      },
      "source": [
        "%tensorflow_version 2.x"
      ],
      "execution_count": 0,
      "outputs": [
        {
          "output_type": "stream",
          "text": [
            "TensorFlow 2.x selected.\n"
          ],
          "name": "stdout"
        }
      ]
    },
    {
      "cell_type": "code",
      "metadata": {
        "id": "1tuHZOg_v9T4",
        "colab_type": "code",
        "colab": {}
      },
      "source": [
        "import tensorflow as tf\n",
        "import numpy as np\n",
        "import matplotlib.pyplot as plt\n",
        "%matplotlib inline\n",
        "from sklearn.preprocessing import LabelEncoder\n",
        "from sklearn.preprocessing import OneHotEncoder"
      ],
      "execution_count": 0,
      "outputs": []
    },
    {
      "cell_type": "markdown",
      "metadata": {
        "id": "O8-XZPFGwJbk",
        "colab_type": "text"
      },
      "source": [
        "### Importación de datos "
      ]
    },
    {
      "cell_type": "code",
      "metadata": {
        "id": "rxcboRQ5wAPy",
        "colab_type": "code",
        "outputId": "d72e936c-a8b2-4d5c-d6af-564985ad5b30",
        "colab": {
          "base_uri": "https://localhost:8080/",
          "height": 50
        }
      },
      "source": [
        "mnist = tf.keras.datasets.mnist\n",
        "\n",
        "(x_train, y_train), (x_test, y_test) = mnist.load_data( )"
      ],
      "execution_count": 0,
      "outputs": [
        {
          "output_type": "stream",
          "text": [
            "Downloading data from https://storage.googleapis.com/tensorflow/tf-keras-datasets/mnist.npz\n",
            "11493376/11490434 [==============================] - 0s 0us/step\n"
          ],
          "name": "stdout"
        }
      ]
    },
    {
      "cell_type": "code",
      "metadata": {
        "id": "VoviHXC7xhVD",
        "colab_type": "code",
        "outputId": "9c9ebda2-e4ba-4ae1-c776-bc2f1f84e94c",
        "colab": {
          "base_uri": "https://localhost:8080/",
          "height": 33
        }
      },
      "source": [
        "y_train.shape"
      ],
      "execution_count": 0,
      "outputs": [
        {
          "output_type": "execute_result",
          "data": {
            "text/plain": [
              "(60000,)"
            ]
          },
          "metadata": {
            "tags": []
          },
          "execution_count": 7
        }
      ]
    },
    {
      "cell_type": "code",
      "metadata": {
        "id": "bYQdWKlYxjJE",
        "colab_type": "code",
        "outputId": "748ab8ee-3626-4d52-c608-87552c7c0079",
        "colab": {
          "base_uri": "https://localhost:8080/",
          "height": 33
        }
      },
      "source": [
        "x_train.shape"
      ],
      "execution_count": 0,
      "outputs": [
        {
          "output_type": "execute_result",
          "data": {
            "text/plain": [
              "(60000, 28, 28)"
            ]
          },
          "metadata": {
            "tags": []
          },
          "execution_count": 8
        }
      ]
    },
    {
      "cell_type": "code",
      "metadata": {
        "id": "_j-VHdTdxk63",
        "colab_type": "code",
        "outputId": "a047f49c-d9d5-4303-d2d5-399ad6e065ab",
        "colab": {
          "base_uri": "https://localhost:8080/",
          "height": 281
        }
      },
      "source": [
        "imagendemo=x_train[24]\n",
        "plt.imshow(imagendemo,cmap='gray')"
      ],
      "execution_count": 0,
      "outputs": [
        {
          "output_type": "execute_result",
          "data": {
            "text/plain": [
              "<matplotlib.image.AxesImage at 0x7f2049a1c400>"
            ]
          },
          "metadata": {
            "tags": []
          },
          "execution_count": 9
        },
        {
          "output_type": "display_data",
          "data": {
            "image/png": "[encoded data removed]",
            "text/plain": [
              "<Figure size 432x288 with 1 Axes>"
            ]
          },
          "metadata": {
            "tags": []
          }
        }
      ]
    },
    {
      "cell_type": "code",
      "metadata": {
        "id": "ZnE2qy9Gxm7K",
        "colab_type": "code",
        "colab": {}
      },
      "source": [
        "def image_matrix(img):\n",
        "    print('\\n'.join([''.join(['{:4}'.format(int(round(item*255))) for item in row]) \n",
        "      for row in img]))"
      ],
      "execution_count": 0,
      "outputs": []
    },
    {
      "cell_type": "code",
      "metadata": {
        "id": "km5jjd9bxoy4",
        "colab_type": "code",
        "outputId": "780b7b85-f724-4630-a5d2-5352a6592c8e",
        "colab": {
          "base_uri": "https://localhost:8080/",
          "height": 485
        }
      },
      "source": [
        "image_matrix(imagendemo)"
      ],
      "execution_count": 0,
      "outputs": [
        {
          "output_type": "stream",
          "text": [
            "   0   0   0   0   0   0   0   0   0   0   0   0   0   0   0   0   0   0   0   0   0   0   0   0   0   0   0   0\n",
            "   0   0   0   0   0   0   0   0   0   0   0   0   0   0   0   0   0   0   0   0   0   0   0   0   0   0   0   0\n",
            "   0   0   0   0   0   0   0   0   0   0   0   0   0   0   0   0   0   0   0   0   0   0   0   0   0   0   0   0\n",
            "   0   0   0   0   0   0   0   0   0   0   0   0   0   0   0423305661014025   0   0   0   0   0   0   0   0   0   0\n",
            "   0   0   0   0   0   0   0   0   0   0   0   0   0   0   05023564770555901275   0   0   0   0   0   0   0   0   0\n",
            "   0   0   0   0   0   0   0   0   0   0   0   0   0   073956349564770647702295   0   0   0   0   0   0   0   0   0\n",
            "   0   0   0   0   0   0   0   0   0   0   0   0   0   011475647706477044370 510   0   0   0   0   0   0   0   0   0\n",
            "   0   0   0   0   0   0   0   0   0   0   0   0   0102041820647706477021675   0   0   0   0   0   0   0   0   0   0\n",
            "   0   0   0   0   0   0   0   0   0   0   0   0   03723064770647706477021675   0   0   0   0   0   0   0   0   0   0\n",
            "   0   0   0   0   0   0   0   0   0   0   0   0257556247564770647706477021675   0   0   0   0   0   0   0   0   0   0\n",
            "   0   0   0   0   0   0   0   0   0   0   024735632406477052020647706477021675   0   0   0   0   0   0   0   0   0   0\n",
            "   0   0   0   0   0   03060150452499038505604356477064770277958925647706477021675   0   0   0   0   0   0   0   0   0   0\n",
            "   0   0   0   0   0   0104555508064770647706094539015943510208160647706477021675   0   0   0   0   0   0   0   0   0   0\n",
            "   0   0   0   0   0   0   0178511220112207650   0   0   08160647706477024480   0   0   0   0   0   0   0   0   0   0\n",
            "   0   0   0   0   0   0   0   0   0   0   0   0   0   04845586506477044370   0   0   0   0   0   0   0   0   0   0\n",
            "   0   0   0   0   0   0   0   0   0   0   0   0   0   0   0502356477028050   0   0   0   0   0   0   0   0   0   0\n",
            "   0   0   0   0   0   0   0   0   0   0   0   0   0   0   0502356477021675   0   0   0   0   0   0   0   0   0   0\n",
            "   0   0   0   0   0   0   0   0   0   0   0   0   0   0   0502356451516065   0   0   0   0   0   0   0   0   0   0\n",
            "   0   0   0   0   0   0   0   0   0   094351377013770114756630214205635521420535579054131019890   0   0   0   0   0   0\n",
            "   0   0   0   0   0   0   015301045535955622206477064770632406018064770647706477059415609456477035190   0   0   0   0   0   0\n",
            "   0   0   0   0   0   05865425856477064770647706477058395581404717535190351903519035190351903519011220   0   0   0   0   0   0\n",
            "   0   0   0   0   0   02881564770647706477045645163201275   0   0   0   0   0   0   0   0   0   0   0   0   0   0   0\n",
            "   0   0   0   0   0   08160532954666524735   0   0   0   0   0   0   0   0   0   0   0   0   0   0   0   0   0   0\n",
            "   0   0   0   0   0   0   0   0   0   0   0   0   0   0   0   0   0   0   0   0   0   0   0   0   0   0   0   0\n",
            "   0   0   0   0   0   0   0   0   0   0   0   0   0   0   0   0   0   0   0   0   0   0   0   0   0   0   0   0\n",
            "   0   0   0   0   0   0   0   0   0   0   0   0   0   0   0   0   0   0   0   0   0   0   0   0   0   0   0   0\n",
            "   0   0   0   0   0   0   0   0   0   0   0   0   0   0   0   0   0   0   0   0   0   0   0   0   0   0   0   0\n",
            "   0   0   0   0   0   0   0   0   0   0   0   0   0   0   0   0   0   0   0   0   0   0   0   0   0   0   0   0\n"
          ],
          "name": "stdout"
        }
      ]
    },
    {
      "cell_type": "markdown",
      "metadata": {
        "id": "fpWDANvhxr5i",
        "colab_type": "text"
      },
      "source": [
        "Preparando los datos para el entrenamiento\n",
        " \n",
        "La x debe ser convertida a un vector para que pueda ser procesada por la red perceptrón profunda "
      ]
    },
    {
      "cell_type": "code",
      "metadata": {
        "id": "z6NcRBiIxqEE",
        "colab_type": "code",
        "outputId": "4862ebda-66b3-406c-9576-f47ae8f09ab9",
        "colab": {
          "base_uri": "https://localhost:8080/",
          "height": 33
        }
      },
      "source": [
        "x_train=x_train.reshape(-1,28*28).astype('float32')\n",
        "x_test=x_test.reshape(-1,28*28).astype('float32')\n",
        "x_train.shape"
      ],
      "execution_count": 0,
      "outputs": [
        {
          "output_type": "execute_result",
          "data": {
            "text/plain": [
              "(60000, 784)"
            ]
          },
          "metadata": {
            "tags": []
          },
          "execution_count": 12
        }
      ]
    },
    {
      "cell_type": "code",
      "metadata": {
        "id": "DchEMyfkxvaK",
        "colab_type": "code",
        "outputId": "4018d959-6af3-4cba-b63d-c45fcb5e7476",
        "colab": {
          "base_uri": "https://localhost:8080/",
          "height": 134
        }
      },
      "source": [
        "x_train"
      ],
      "execution_count": 0,
      "outputs": [
        {
          "output_type": "execute_result",
          "data": {
            "text/plain": [
              "array([[0., 0., 0., ..., 0., 0., 0.],\n",
              "       [0., 0., 0., ..., 0., 0., 0.],\n",
              "       [0., 0., 0., ..., 0., 0., 0.],\n",
              "       ...,\n",
              "       [0., 0., 0., ..., 0., 0., 0.],\n",
              "       [0., 0., 0., ..., 0., 0., 0.],\n",
              "       [0., 0., 0., ..., 0., 0., 0.]], dtype=float32)"
            ]
          },
          "metadata": {
            "tags": []
          },
          "execution_count": 13
        }
      ]
    },
    {
      "cell_type": "code",
      "metadata": {
        "id": "eqXMh_B8xwjI",
        "colab_type": "code",
        "outputId": "c7a07cd4-228f-4565-904a-589f8e6cc288",
        "colab": {
          "base_uri": "https://localhost:8080/",
          "height": 33
        }
      },
      "source": [
        "# onehot encode\n",
        "onehot_encoder = OneHotEncoder(sparse=False)\n",
        "y_train = y_train.reshape(len(y_train), 1)\n",
        "y_train_onehot = onehot_encoder.fit_transform(y_train)\n",
        "\n",
        "y_test = y_test.reshape(len(y_test), 1)\n",
        "y_test_onehot = onehot_encoder.fit_transform(y_test)\n",
        "\n",
        "y_train_onehot.shape"
      ],
      "execution_count": 0,
      "outputs": [
        {
          "output_type": "execute_result",
          "data": {
            "text/plain": [
              "(60000, 10)"
            ]
          },
          "metadata": {
            "tags": []
          },
          "execution_count": 14
        }
      ]
    },
    {
      "cell_type": "markdown",
      "metadata": {
        "id": "Di2lPq2ozPRf",
        "colab_type": "text"
      },
      "source": [
        "## Declarando la arquitectura -- keras secuencial\n",
        "\n",
        "Generando función \n",
        "\n",
        " \n"
      ]
    },
    {
      "cell_type": "code",
      "metadata": {
        "id": "-vRbHL43xyj8",
        "colab_type": "code",
        "colab": {}
      },
      "source": [
        "model1 = tf.keras.Sequential()\n",
        "model1.add(tf.keras.layers.Dense(500, input_shape=(784,) , activation='relu'))\n",
        "model1.add(tf.keras.layers.Dense(500, activation = 'relu'))\n",
        "model1.add(tf.keras.layers.Dense(500, activation = 'relu'))\n",
        "model1.add(tf.keras.layers.Dense(10))"
      ],
      "execution_count": 0,
      "outputs": []
    },
    {
      "cell_type": "markdown",
      "metadata": {
        "id": "BXvP17Z70oNR",
        "colab_type": "text"
      },
      "source": [
        "Seleccionar una funcion de error, optimizador y metricas de evaluacion "
      ]
    },
    {
      "cell_type": "code",
      "metadata": {
        "id": "sMqbxO5o4nQ8",
        "colab_type": "code",
        "colab": {}
      },
      "source": [
        "model1.compile(optimizer=tf.keras.optimizers.Adam(0.001), loss=tf.keras.losses.binary_crossentropy,metrics=['accuracy'])"
      ],
      "execution_count": 0,
      "outputs": []
    },
    {
      "cell_type": "markdown",
      "metadata": {
        "id": "ENedKtKB8NI0",
        "colab_type": "text"
      },
      "source": [
        "## función de entrenamiento  y prueba"
      ]
    },
    {
      "cell_type": "code",
      "metadata": {
        "id": "u_lCex7n0N3z",
        "colab_type": "code",
        "outputId": "8ca78720-5bcb-4743-a1d3-5a85190bb37a",
        "colab": {
          "base_uri": "https://localhost:8080/",
          "height": 385
        }
      },
      "source": [
        "model1.fit(x=x_train, y=y_train_onehot,batch_size =100, epochs=10, validation_data=(x_test,y_test_onehot))"
      ],
      "execution_count": 0,
      "outputs": [
        {
          "output_type": "stream",
          "text": [
            "Train on 60000 samples, validate on 10000 samples\n",
            "Epoch 1/10\n",
            "60000/60000 [==============================] - 4s 67us/sample - loss: 2.7964 - accuracy: 0.8176 - val_loss: 2.7687 - val_accuracy: 0.8195\n",
            "Epoch 2/10\n",
            "60000/60000 [==============================] - 2s 31us/sample - loss: 2.7683 - accuracy: 0.8195 - val_loss: 2.7687 - val_accuracy: 0.8195\n",
            "Epoch 3/10\n",
            "60000/60000 [==============================] - 2s 31us/sample - loss: 2.7683 - accuracy: 0.8195 - val_loss: 2.7687 - val_accuracy: 0.8195\n",
            "Epoch 4/10\n",
            "60000/60000 [==============================] - 2s 31us/sample - loss: 2.7683 - accuracy: 0.8195 - val_loss: 2.7687 - val_accuracy: 0.8195\n",
            "Epoch 5/10\n",
            "60000/60000 [==============================] - 2s 31us/sample - loss: 2.7683 - accuracy: 0.8195 - val_loss: 2.7687 - val_accuracy: 0.8195\n",
            "Epoch 6/10\n",
            "60000/60000 [==============================] - 2s 32us/sample - loss: 2.7683 - accuracy: 0.8195 - val_loss: 2.7687 - val_accuracy: 0.8195\n",
            "Epoch 7/10\n",
            "60000/60000 [==============================] - 2s 32us/sample - loss: 2.7683 - accuracy: 0.8195 - val_loss: 2.7687 - val_accuracy: 0.8195\n",
            "Epoch 8/10\n",
            "60000/60000 [==============================] - 2s 35us/sample - loss: 2.7683 - accuracy: 0.8195 - val_loss: 2.7687 - val_accuracy: 0.8195\n",
            "Epoch 9/10\n",
            "60000/60000 [==============================] - 2s 33us/sample - loss: 2.7683 - accuracy: 0.8195 - val_loss: 2.7687 - val_accuracy: 0.8195\n",
            "Epoch 10/10\n",
            "60000/60000 [==============================] - 2s 32us/sample - loss: 2.7683 - accuracy: 0.8195 - val_loss: 2.7687 - val_accuracy: 0.8195\n"
          ],
          "name": "stdout"
        },
        {
          "output_type": "execute_result",
          "data": {
            "text/plain": [
              "<tensorflow.python.keras.callbacks.History at 0x7f2040082400>"
            ]
          },
          "metadata": {
            "tags": []
          },
          "execution_count": 17
        }
      ]
    },
    {
      "cell_type": "markdown",
      "metadata": {
        "id": "xEmsXONM5kCt",
        "colab_type": "text"
      },
      "source": [
        "## Declarando la arquitectura -- keras model class\n",
        "\n",
        "Generando función \n"
      ]
    },
    {
      "cell_type": "code",
      "metadata": {
        "id": "jic3QAu13lpf",
        "colab_type": "code",
        "colab": {}
      },
      "source": [
        "class Model2(tf.keras.Model):\n",
        "  def __init__(self):\n",
        "    super(Model2, self).__init__()\n",
        "    self.HL1 = tf.keras.layers.Dense(500, input_shape=(784,) , activation='relu')\n",
        "    self.HL2 = tf.keras.layers.Dense(500, activation = 'relu')\n",
        "    self.HL3 = tf.keras.layers.Dense(500, activation = 'relu')\n",
        "    self.out = tf.keras.layers.Dense(10)\n",
        "    # Seleccionar una funcion de error, optimizador y metricas de evaluacion \n",
        "    self.compile(optimizer=tf.keras.optimizers.Adam(0.001), loss=tf.keras.losses.binary_crossentropy,metrics=['accuracy'])\n",
        "\n",
        "  def call(self, inputs):\n",
        "    x = self.HL1(inputs)\n",
        "    x = self.HL2(x)\n",
        "    x = self.HL3(x)\n",
        "    x = self.out(x)\n",
        "    return x\n"
      ],
      "execution_count": 0,
      "outputs": []
    },
    {
      "cell_type": "markdown",
      "metadata": {
        "id": "laWUaU-R8Ljf",
        "colab_type": "text"
      },
      "source": [
        "## función de entrenamiento  y prueba"
      ]
    },
    {
      "cell_type": "code",
      "metadata": {
        "id": "LzYwnNkS8UZo",
        "colab_type": "code",
        "outputId": "81754622-2bfb-488b-93dd-9415be141dc4",
        "colab": {
          "base_uri": "https://localhost:8080/",
          "height": 385
        }
      },
      "source": [
        "model2 = Model2()\n",
        "model2.fit(x=x_train, y=y_train_onehot,batch_size =100, epochs=10, validation_data=(x_test,y_test_onehot))"
      ],
      "execution_count": 0,
      "outputs": [
        {
          "output_type": "stream",
          "text": [
            "Train on 60000 samples, validate on 10000 samples\n",
            "Epoch 1/10\n",
            "60000/60000 [==============================] - 2s 36us/sample - loss: 2.7773 - accuracy: 0.8189 - val_loss: 2.7687 - val_accuracy: 0.8195\n",
            "Epoch 2/10\n",
            "60000/60000 [==============================] - 2s 31us/sample - loss: 2.7683 - accuracy: 0.8195 - val_loss: 2.7687 - val_accuracy: 0.8195\n",
            "Epoch 3/10\n",
            "60000/60000 [==============================] - 2s 30us/sample - loss: 2.7683 - accuracy: 0.8195 - val_loss: 2.7687 - val_accuracy: 0.8195\n",
            "Epoch 4/10\n",
            "60000/60000 [==============================] - 2s 31us/sample - loss: 2.7683 - accuracy: 0.8195 - val_loss: 2.7687 - val_accuracy: 0.8195\n",
            "Epoch 5/10\n",
            "60000/60000 [==============================] - 2s 31us/sample - loss: 2.7683 - accuracy: 0.8195 - val_loss: 2.7687 - val_accuracy: 0.8195\n",
            "Epoch 6/10\n",
            "60000/60000 [==============================] - 2s 30us/sample - loss: 2.7683 - accuracy: 0.8195 - val_loss: 2.7687 - val_accuracy: 0.8195\n",
            "Epoch 7/10\n",
            "60000/60000 [==============================] - 2s 31us/sample - loss: 2.7683 - accuracy: 0.8195 - val_loss: 2.7687 - val_accuracy: 0.8195\n",
            "Epoch 8/10\n",
            "60000/60000 [==============================] - 2s 31us/sample - loss: 2.7683 - accuracy: 0.8195 - val_loss: 2.7687 - val_accuracy: 0.8195\n",
            "Epoch 9/10\n",
            "60000/60000 [==============================] - 2s 31us/sample - loss: 2.7683 - accuracy: 0.8195 - val_loss: 2.7687 - val_accuracy: 0.8195\n",
            "Epoch 10/10\n",
            "60000/60000 [==============================] - 2s 31us/sample - loss: 2.7683 - accuracy: 0.8195 - val_loss: 2.7687 - val_accuracy: 0.8195\n"
          ],
          "name": "stdout"
        },
        {
          "output_type": "execute_result",
          "data": {
            "text/plain": [
              "<tensorflow.python.keras.callbacks.History at 0x7f202419e940>"
            ]
          },
          "metadata": {
            "tags": []
          },
          "execution_count": 19
        }
      ]
    },
    {
      "cell_type": "markdown",
      "metadata": {
        "id": "SLNLIGww_jCJ",
        "colab_type": "text"
      },
      "source": [
        "## Declarando la arquitectura -- keras secuencial no autofit \n",
        "\n",
        "Generando función \n"
      ]
    },
    {
      "cell_type": "code",
      "metadata": {
        "id": "fwL3QA44_pRN",
        "colab_type": "code",
        "colab": {}
      },
      "source": [
        "model3 = tf.keras.Sequential()\n",
        "model3.add(tf.keras.layers.Dense(500, input_shape=(784,) , activation='relu'))\n",
        "model3.add(tf.keras.layers.Dense(500, activation = 'relu'))\n",
        "model3.add(tf.keras.layers.Dense(500, activation = 'relu'))\n",
        "model3.add(tf.keras.layers.Dense(10))"
      ],
      "execution_count": 0,
      "outputs": []
    },
    {
      "cell_type": "markdown",
      "metadata": {
        "id": "9pSp7mGa_19X",
        "colab_type": "text"
      },
      "source": [
        "Seleccionar una funcion de error, optimizador y metricas de evaluacion "
      ]
    },
    {
      "cell_type": "code",
      "metadata": {
        "id": "d-FmKid5AaBY",
        "colab_type": "code",
        "colab": {}
      },
      "source": [
        "opt =tf.keras.optimizers.Adam(0.001)\n",
        "CE =tf.keras.losses.binary_crossentropy\n",
        "train_accuracy = tf.keras.metrics.CategoricalAccuracy(name='train_accuracy')"
      ],
      "execution_count": 0,
      "outputs": []
    },
    {
      "cell_type": "code",
      "metadata": {
        "id": "_bRVFtVP9Fhh",
        "colab_type": "code",
        "colab": {}
      },
      "source": [
        "def fitting(model,train_x,train_y,test_x,test_y,EPOCHS,N_batch,batch_size):\n",
        "  for epoch in range(EPOCHS):\n",
        "    i=0\n",
        "    while i+batch_size < len(train_x) or i+batch_size<batch_size*N_batch:\n",
        "      start = i\n",
        "      end = i+batch_size\n",
        "      with tf.GradientTape() as tape:\n",
        "        y_pre = model(train_x[start:end])\n",
        "        loss = tf.reduce_mean(tf.nn.softmax_cross_entropy_with_logits(train_y[start:end], y_pre))\n",
        "      grads = tape.gradient(loss, model.trainable_variables)\t\n",
        "      capped_grads_and_vars = [(grad,model.trainable_variables[index]) for index, grad in enumerate(grads)]\n",
        "      opt.apply_gradients(capped_grads_and_vars)\n",
        "      acc = train_accuracy(train_y[start:end],y_pre)\n",
        "      i+=batch_size\n",
        "    print ('Epoch: '+ str(i)+ ' Perdida: '+ str(np.mean(loss.numpy()))+' Perdida de prueba: '+str(acc.numpy()) )\n",
        "    train_accuracy.reset_states()"
      ],
      "execution_count": 0,
      "outputs": []
    },
    {
      "cell_type": "code",
      "metadata": {
        "colab_type": "code",
        "id": "Cy2cXpqyEtmi",
        "outputId": "b322743e-0c1a-40c4-8e46-88a37f95b3b9",
        "colab": {
          "base_uri": "https://localhost:8080/",
          "height": 184
        }
      },
      "source": [
        "fitting(model3,x_train,y_train_onehot,x_test,y_test_onehot,10,600,100)"
      ],
      "execution_count": 0,
      "outputs": [
        {
          "output_type": "stream",
          "text": [
            "Epoch: 59900 Perdida: 0.048939247 Perdida de prueba: 0.818994\n",
            "Epoch: 59900 Perdida: 0.016034642 Perdida de prueba: 0.95083475\n",
            "Epoch: 59900 Perdida: 0.044515576 Perdida de prueba: 0.9624541\n",
            "Epoch: 59900 Perdida: 0.008345317 Perdida de prueba: 0.9671286\n",
            "Epoch: 59900 Perdida: 0.025538163 Perdida de prueba: 0.9686477\n",
            "Epoch: 59900 Perdida: 0.06360603 Perdida de prueba: 0.97407347\n",
            "Epoch: 59900 Perdida: 0.00296665 Perdida de prueba: 0.9731052\n",
            "Epoch: 59900 Perdida: 0.006837148 Perdida de prueba: 0.97821367\n",
            "Epoch: 59900 Perdida: 0.0043183584 Perdida de prueba: 0.9777796\n",
            "Epoch: 59900 Perdida: 0.009638185 Perdida de prueba: 0.97836393\n"
          ],
          "name": "stdout"
        }
      ]
    },
    {
      "cell_type": "code",
      "metadata": {
        "id": "1ibsK5StFyhT",
        "colab_type": "code",
        "colab": {}
      },
      "source": [
        ""
      ],
      "execution_count": 0,
      "outputs": []
    }
  ]
}