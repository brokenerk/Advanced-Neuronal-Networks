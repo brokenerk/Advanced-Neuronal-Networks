{
 "cells": [
  {
   "cell_type": "markdown",
   "metadata": {
    "colab_type": "text",
    "id": "Wgq3bZzgleLf"
   },
   "source": [
    "# Python Crash Course Exercises \n",
    "\n"
   ]
  },
  {
   "cell_type": "markdown",
   "metadata": {
    "colab_type": "text",
    "id": "52O3RMBbleLh"
   },
   "source": [
    "## Ejercicios 01 - DeepDaemon - Junio 2018\n",
    "\n",
    "Contesta las siguientes preguntas o completa las tareas marcadas en negritas que se presentan a continuación, utiliza el método especificado cuando se indique.\n"
   ]
  },
  {
   "cell_type": "markdown",
   "metadata": {
    "colab_type": "text",
    "id": "r8Cr3vc5leLi"
   },
   "source": [
    "**¿Cuánto es 8 elevado a la 5?**"
   ]
  },
  {
   "cell_type": "code",
   "execution_count": 1,
   "metadata": {
    "colab": {
     "base_uri": "https://localhost:8080/",
     "height": 34
    },
    "colab_type": "code",
    "executionInfo": {
     "elapsed": 934,
     "status": "ok",
     "timestamp": 1580928856120,
     "user": {
      "displayName": "Enrique Ramos Diaz",
      "photoUrl": "https://lh3.googleusercontent.com/a-/AAuE7mALwCJrTOMom4PfJnleVRYFJfs8M6b4od17ajBOJg=s64",
      "userId": "03180666184446923491"
     },
     "user_tz": 360
    },
    "id": "XeUV9UWsleLk",
    "outputId": "c6a6fe03-3b6c-4c35-b146-d9247a6ab6fd"
   },
   "outputs": [
    {
     "data": {
      "text/plain": [
       "32768"
      ]
     },
     "execution_count": 1,
     "metadata": {},
     "output_type": "execute_result"
    }
   ],
   "source": [
    "8 ** 5"
   ]
  },
  {
   "cell_type": "markdown",
   "metadata": {
    "colab_type": "text",
    "id": "woMKBBrRleLp"
   },
   "source": [
    "**Separa la siguiente cadena:**\n",
    "\n",
    "    s = \"¡Estoy en el curso de Ford!\"\n",
    "    \n",
    "**en una lista.**"
   ]
  },
  {
   "cell_type": "code",
   "execution_count": 2,
   "metadata": {
    "colab": {},
    "colab_type": "code",
    "id": "_JR7yDflmW1o"
   },
   "outputs": [],
   "source": [
    "s = \"¡Estoy en el curso de Ford!\""
   ]
  },
  {
   "cell_type": "code",
   "execution_count": 3,
   "metadata": {
    "colab": {
     "base_uri": "https://localhost:8080/",
     "height": 34
    },
    "colab_type": "code",
    "executionInfo": {
     "elapsed": 922,
     "status": "ok",
     "timestamp": 1580928856122,
     "user": {
      "displayName": "Enrique Ramos Diaz",
      "photoUrl": "https://lh3.googleusercontent.com/a-/AAuE7mALwCJrTOMom4PfJnleVRYFJfs8M6b4od17ajBOJg=s64",
      "userId": "03180666184446923491"
     },
     "user_tz": 360
    },
    "id": "888mmrzdleLt",
    "outputId": "44ce62c1-2dd5-4263-bcb2-30c74df5eb64"
   },
   "outputs": [
    {
     "data": {
      "text/plain": [
       "['¡Estoy', 'en', 'el', 'curso', 'de', 'Ford!']"
      ]
     },
     "execution_count": 3,
     "metadata": {},
     "output_type": "execute_result"
    }
   ],
   "source": [
    "s.split()"
   ]
  },
  {
   "cell_type": "markdown",
   "metadata": {
    "colab_type": "text",
    "id": "TD61OjltleLw"
   },
   "source": [
    "**Dadas las siguientes variables:**\n",
    "\n",
    "    planeta = \"Tierra\"\n",
    "    diametro = 12742\n",
    "\n",
    "**Use .format() para imprimir el la siguiente cadena:**\n",
    "\n",
    "    El diámetro de la Tierra es 12742 kilometros."
   ]
  },
  {
   "cell_type": "code",
   "execution_count": 4,
   "metadata": {
    "colab": {},
    "colab_type": "code",
    "id": "eGmLFlLNleLx"
   },
   "outputs": [],
   "source": [
    "planeta = \"Tierra\"\n",
    "diametro = \"12742\""
   ]
  },
  {
   "cell_type": "code",
   "execution_count": 5,
   "metadata": {
    "colab": {
     "base_uri": "https://localhost:8080/",
     "height": 34
    },
    "colab_type": "code",
    "executionInfo": {
     "elapsed": 910,
     "status": "ok",
     "timestamp": 1580928856124,
     "user": {
      "displayName": "Enrique Ramos Diaz",
      "photoUrl": "https://lh3.googleusercontent.com/a-/AAuE7mALwCJrTOMom4PfJnleVRYFJfs8M6b4od17ajBOJg=s64",
      "userId": "03180666184446923491"
     },
     "user_tz": 360
    },
    "id": "1ScxAxMtleL0",
    "outputId": "a347a087-50a6-4e15-80d0-35bc189e0c74"
   },
   "outputs": [
    {
     "name": "stdout",
     "output_type": "stream",
     "text": [
      "El diámetro de la Tierra es 12742 kilometros\n"
     ]
    }
   ],
   "source": [
    "print(\"El diámetro de la {} es {} kilometros\".format(planeta, diametro))"
   ]
  },
  {
   "cell_type": "markdown",
   "metadata": {
    "colab_type": "text",
    "id": "MDmAeYJoleL3"
   },
   "source": [
    "**Dada la siguiente lista anidada, utilice el indexado para extraer la palabra \"hola\"**"
   ]
  },
  {
   "cell_type": "code",
   "execution_count": 6,
   "metadata": {
    "colab": {},
    "colab_type": "code",
    "id": "qrBFLp5UleL6"
   },
   "outputs": [],
   "source": [
    "lst = [1,2,[3,4],[5,[100,200,['hola']],23,11],1,7]"
   ]
  },
  {
   "cell_type": "code",
   "execution_count": 7,
   "metadata": {
    "colab": {
     "base_uri": "https://localhost:8080/",
     "height": 34
    },
    "colab_type": "code",
    "executionInfo": {
     "elapsed": 899,
     "status": "ok",
     "timestamp": 1580928856126,
     "user": {
      "displayName": "Enrique Ramos Diaz",
      "photoUrl": "https://lh3.googleusercontent.com/a-/AAuE7mALwCJrTOMom4PfJnleVRYFJfs8M6b4od17ajBOJg=s64",
      "userId": "03180666184446923491"
     },
     "user_tz": 360
    },
    "id": "dAdyHlBVleL9",
    "outputId": "da1602b7-7188-4090-c6fc-d0df8a1d8bc5"
   },
   "outputs": [
    {
     "data": {
      "text/plain": [
       "['hola']"
      ]
     },
     "execution_count": 7,
     "metadata": {},
     "output_type": "execute_result"
    }
   ],
   "source": [
    "lst[3][1][2]"
   ]
  },
  {
   "cell_type": "markdown",
   "metadata": {
    "colab_type": "text",
    "id": "OZomys-4leL_"
   },
   "source": [
    "**Dado el siguiente diccionario aninado obtenga la palabra \"hola\". Este preparado, este ejercicio será molesto/difícil**"
   ]
  },
  {
   "cell_type": "code",
   "execution_count": 8,
   "metadata": {
    "colab": {},
    "colab_type": "code",
    "id": "XeuEddWcleMA"
   },
   "outputs": [],
   "source": [
    "d = {'k1':[1,2,3,{'dificíl':['oh','hombre','principio',{'objetivo':[1,2,3,'hola']}]}]}"
   ]
  },
  {
   "cell_type": "code",
   "execution_count": 9,
   "metadata": {
    "colab": {
     "base_uri": "https://localhost:8080/",
     "height": 34
    },
    "colab_type": "code",
    "executionInfo": {
     "elapsed": 888,
     "status": "ok",
     "timestamp": 1580928856127,
     "user": {
      "displayName": "Enrique Ramos Diaz",
      "photoUrl": "https://lh3.googleusercontent.com/a-/AAuE7mALwCJrTOMom4PfJnleVRYFJfs8M6b4od17ajBOJg=s64",
      "userId": "03180666184446923491"
     },
     "user_tz": 360
    },
    "id": "ZYzAL5p8leME",
    "outputId": "646af990-19bb-4d20-b9ff-bb4f2b4d9fb2"
   },
   "outputs": [
    {
     "data": {
      "text/plain": [
       "'hola'"
      ]
     },
     "execution_count": 9,
     "metadata": {},
     "output_type": "execute_result"
    }
   ],
   "source": [
    "d['k1'][3]['dificíl'][3]['objetivo'][3]"
   ]
  },
  {
   "cell_type": "markdown",
   "metadata": {
    "colab_type": "text",
    "id": "Tibzefo-leMH"
   },
   "source": [
    "**¿Cuál es la principal diferencia entre tupla y lista?**"
   ]
  },
  {
   "cell_type": "code",
   "execution_count": 10,
   "metadata": {
    "colab": {},
    "colab_type": "code",
    "id": "K76gnYPgleMI"
   },
   "outputs": [],
   "source": [
    "# La tupla es inmutable"
   ]
  },
  {
   "cell_type": "markdown",
   "metadata": {
    "colab_type": "text",
    "id": "nfIKUsF6leMM"
   },
   "source": [
    "**Escriba una función que capture el dominio del sitio web del correo electrónico a partir de una cadena con el siguiente formato:**\n",
    "\n",
    "    usuario@dominio.com\n",
    "    \n",
    "**Como ejemplo, del correo \"usuario@dominio.com\" deberá regresar: dominio.com**"
   ]
  },
  {
   "cell_type": "code",
   "execution_count": 11,
   "metadata": {
    "colab": {},
    "colab_type": "code",
    "id": "ObH942SfleMN"
   },
   "outputs": [],
   "source": [
    "def domainGet(text):\n",
    "    l = text.split('@')\n",
    "    return l[1]"
   ]
  },
  {
   "cell_type": "code",
   "execution_count": 12,
   "metadata": {
    "colab": {
     "base_uri": "https://localhost:8080/",
     "height": 34
    },
    "colab_type": "code",
    "executionInfo": {
     "elapsed": 873,
     "status": "ok",
     "timestamp": 1580928856129,
     "user": {
      "displayName": "Enrique Ramos Diaz",
      "photoUrl": "https://lh3.googleusercontent.com/a-/AAuE7mALwCJrTOMom4PfJnleVRYFJfs8M6b4od17ajBOJg=s64",
      "userId": "03180666184446923491"
     },
     "user_tz": 360
    },
    "id": "TO4YwenSleMP",
    "outputId": "1a7c121a-ecfa-45e9-9df2-69bcf0d5a0f9"
   },
   "outputs": [
    {
     "data": {
      "text/plain": [
       "'domino.com'"
      ]
     },
     "execution_count": 12,
     "metadata": {},
     "output_type": "execute_result"
    }
   ],
   "source": [
    "domainGet('usuario@domino.com')"
   ]
  },
  {
   "cell_type": "markdown",
   "metadata": {
    "colab_type": "text",
    "id": "cD4BnsSuleMT"
   },
   "source": [
    "**Cree una función básica que devuelva Verdadero si la palabra 'perro' está contenida en la cadena de entrada. No se preocupe por los casos donde al final se adjunta alguna puntuación a la palabra perro, pero tome en cuenta las mayúsculas.**"
   ]
  },
  {
   "cell_type": "code",
   "execution_count": 13,
   "metadata": {
    "colab": {},
    "colab_type": "code",
    "id": "Bq9fx0UXleMU"
   },
   "outputs": [],
   "source": [
    "def findDog(text):\n",
    "    text = text.lower()\n",
    "    return 'perro' in text"
   ]
  },
  {
   "cell_type": "code",
   "execution_count": 14,
   "metadata": {
    "colab": {
     "base_uri": "https://localhost:8080/",
     "height": 34
    },
    "colab_type": "code",
    "executionInfo": {
     "elapsed": 1136,
     "status": "ok",
     "timestamp": 1580928856405,
     "user": {
      "displayName": "Enrique Ramos Diaz",
      "photoUrl": "https://lh3.googleusercontent.com/a-/AAuE7mALwCJrTOMom4PfJnleVRYFJfs8M6b4od17ajBOJg=s64",
      "userId": "03180666184446923491"
     },
     "user_tz": 360
    },
    "id": "8CR0CoODleMX",
    "outputId": "c5ca3d6f-dedd-4cd3-d2b4-57bbc825ca34"
   },
   "outputs": [
    {
     "data": {
      "text/plain": [
       "True"
      ]
     },
     "execution_count": 14,
     "metadata": {},
     "output_type": "execute_result"
    }
   ],
   "source": [
    "findDog('Hay un perro aquí?')"
   ]
  },
  {
   "cell_type": "markdown",
   "metadata": {
    "colab_type": "text",
    "id": "_LTErNHcleMa"
   },
   "source": [
    "**Crea una función que cuente la cantidad de veces que aparece la palabra \"perro\" en una cadena. Nuevamente ignore los casos donde al final se adjunta alguna puntuación.**"
   ]
  },
  {
   "cell_type": "code",
   "execution_count": 15,
   "metadata": {
    "colab": {},
    "colab_type": "code",
    "id": "Xp1is_nYleMb"
   },
   "outputs": [],
   "source": [
    "def countDog(text):\n",
    "    text = text.lower()\n",
    "    return text.count('perro')"
   ]
  },
  {
   "cell_type": "code",
   "execution_count": 16,
   "metadata": {
    "colab": {
     "base_uri": "https://localhost:8080/",
     "height": 34
    },
    "colab_type": "code",
    "executionInfo": {
     "elapsed": 1123,
     "status": "ok",
     "timestamp": 1580928856406,
     "user": {
      "displayName": "Enrique Ramos Diaz",
      "photoUrl": "https://lh3.googleusercontent.com/a-/AAuE7mALwCJrTOMom4PfJnleVRYFJfs8M6b4od17ajBOJg=s64",
      "userId": "03180666184446923491"
     },
     "user_tz": 360
    },
    "id": "abIIKabvleMe",
    "outputId": "6181105e-9954-4bb5-8ac4-14bfb4e5cbec"
   },
   "outputs": [
    {
     "data": {
      "text/plain": [
       "2"
      ]
     },
     "execution_count": 16,
     "metadata": {},
     "output_type": "execute_result"
    }
   ],
   "source": [
    "countDog('Este perro corre más rápido que el otro perro amigo!')"
   ]
  },
  {
   "cell_type": "markdown",
   "metadata": {
    "colab_type": "text",
    "id": "uo_SJ3_xleMg"
   },
   "source": [
    "**Use expresiones lambda y la funcón filter() para filtrar de una lista aquellas palabras que no comiencen con la letra 's'. Por ejemplo:**\n",
    "\n",
    "    seq = ['sopa','perro','sierra','gato','estupendo']\n",
    "\n",
    "**should be filtered down to:**\n",
    "\n",
    "    ['sopa','sierra']"
   ]
  },
  {
   "cell_type": "code",
   "execution_count": 17,
   "metadata": {
    "colab": {},
    "colab_type": "code",
    "id": "AnFCUX0IleMi"
   },
   "outputs": [],
   "source": [
    "seq = ['sopa','perro','sierra','gato','estupendo']"
   ]
  },
  {
   "cell_type": "code",
   "execution_count": 18,
   "metadata": {
    "colab": {
     "base_uri": "https://localhost:8080/",
     "height": 34
    },
    "colab_type": "code",
    "executionInfo": {
     "elapsed": 1113,
     "status": "ok",
     "timestamp": 1580928856408,
     "user": {
      "displayName": "Enrique Ramos Diaz",
      "photoUrl": "https://lh3.googleusercontent.com/a-/AAuE7mALwCJrTOMom4PfJnleVRYFJfs8M6b4od17ajBOJg=s64",
      "userId": "03180666184446923491"
     },
     "user_tz": 360
    },
    "id": "nnRYIZY5leMl",
    "outputId": "77540d05-47d5-4ba3-aac2-37eff1918620"
   },
   "outputs": [
    {
     "data": {
      "text/plain": [
       "['sopa', 'sierra']"
      ]
     },
     "execution_count": 18,
     "metadata": {},
     "output_type": "execute_result"
    }
   ],
   "source": [
    "list(filter(lambda palabra: palabra[0] == 's', seq))"
   ]
  },
  {
   "cell_type": "markdown",
   "metadata": {
    "colab_type": "text",
    "id": "0Wm4T9fFleMo"
   },
   "source": [
    "### Problema final\n",
    "**Estás manejado y un policia te detiene. Escribe una función que regrese uno de los siguientes tres valores: \"Sin multa\", \"Multa pequeña\" o \"Multa grande\". Si tú velocidad es de 50 km o menor, el resultado será \"Sin multa\". Si tú velocidad está entre 51 km y 80 km, el resultado será \"Multa pequeña\". Si tú velocidad es de 81 km o mayor, el resultado será \"Multa grande\". Esto se cumplirá al menos que sea el día de tú cumpleaños (que será codificado como un valor booleano en los parámetros de la función) -- en tu cumpleaños tienes permitido que tú velocidad sea 5 km mayor en todos los casos.**"
   ]
  },
  {
   "cell_type": "code",
   "execution_count": 19,
   "metadata": {
    "colab": {},
    "colab_type": "code",
    "id": "bhPmJpmqleMo"
   },
   "outputs": [],
   "source": [
    "def caught_speeding(velocidad, es_mi_cumpleaños):\n",
    "    a = 50\n",
    "    b = 51\n",
    "    c = 80\n",
    "\n",
    "    if(es_mi_cumpleaños):\n",
    "      a += 5\n",
    "      b += 5\n",
    "      c += 5\n",
    "\n",
    "    if velocidad <= a:\n",
    "      return 'Sin multa'\n",
    "    elif velocidad >= b and velocidad <= c:\n",
    "      return 'Multa pequeña'\n",
    "    else:\n",
    "      return 'Multa grande'"
   ]
  },
  {
   "cell_type": "code",
   "execution_count": 20,
   "metadata": {
    "colab": {
     "base_uri": "https://localhost:8080/",
     "height": 34
    },
    "colab_type": "code",
    "executionInfo": {
     "elapsed": 1103,
     "status": "ok",
     "timestamp": 1580928856409,
     "user": {
      "displayName": "Enrique Ramos Diaz",
      "photoUrl": "https://lh3.googleusercontent.com/a-/AAuE7mALwCJrTOMom4PfJnleVRYFJfs8M6b4od17ajBOJg=s64",
      "userId": "03180666184446923491"
     },
     "user_tz": 360
    },
    "id": "8VevSOjileMs",
    "outputId": "21e52f52-5989-4653-9a52-22397dac7eaf"
   },
   "outputs": [
    {
     "data": {
      "text/plain": [
       "'Multa pequeña'"
      ]
     },
     "execution_count": 20,
     "metadata": {},
     "output_type": "execute_result"
    }
   ],
   "source": [
    "caught_speeding(81,True)"
   ]
  },
  {
   "cell_type": "code",
   "execution_count": 21,
   "metadata": {
    "colab": {
     "base_uri": "https://localhost:8080/",
     "height": 34
    },
    "colab_type": "code",
    "executionInfo": {
     "elapsed": 1096,
     "status": "ok",
     "timestamp": 1580928856409,
     "user": {
      "displayName": "Enrique Ramos Diaz",
      "photoUrl": "https://lh3.googleusercontent.com/a-/AAuE7mALwCJrTOMom4PfJnleVRYFJfs8M6b4od17ajBOJg=s64",
      "userId": "03180666184446923491"
     },
     "user_tz": 360
    },
    "id": "LUdV5XhmleMv",
    "outputId": "9c0b61c5-788f-49f2-fa8b-aa7e2dff682c"
   },
   "outputs": [
    {
     "data": {
      "text/plain": [
       "'Multa grande'"
      ]
     },
     "execution_count": 21,
     "metadata": {},
     "output_type": "execute_result"
    }
   ],
   "source": [
    "caught_speeding(81,False)"
   ]
  },
  {
   "cell_type": "markdown",
   "metadata": {
    "colab_type": "text",
    "id": "vr3PT-TxleMy"
   },
   "source": [
    "# ¡Excelente trabajo!"
   ]
  }
 ],
 "metadata": {
  "colab": {
   "collapsed_sections": [],
   "name": "Curso básico de Python - Ejercicios 01.ipynb",
   "provenance": []
  },
  "kernelspec": {
   "display_name": "Python 3",
   "language": "python",
   "name": "python3"
  },
  "language_info": {
   "codemirror_mode": {
    "name": "ipython",
    "version": 3
   },
   "file_extension": ".py",
   "mimetype": "text/x-python",
   "name": "python",
   "nbconvert_exporter": "python",
   "pygments_lexer": "ipython3",
   "version": "3.6.10"
  }
 },
 "nbformat": 4,
 "nbformat_minor": 4
}
